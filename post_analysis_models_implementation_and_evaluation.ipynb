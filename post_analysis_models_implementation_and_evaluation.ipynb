{
  "cells": [
    {
      "cell_type": "code",
      "execution_count": null,
      "metadata": {
        "id": "_y1vp1P4WkH9"
      },
      "outputs": [],
      "source": [
        "# Jovian Commit Essentials\n",
        "# Please retain and execute this cell without modifying the contents for `jovian.commit` to work\n",
        "!pip install jovian --upgrade -q\n",
        "import jovian\n",
        "jovian.set_project('post-analysis-models-implementation-and-evaluation')\n",
        "jovian.set_colab_id('1S5oLvfk-N4sA7k4gYLe4SzT6XPI7HOwV')"
      ]
    },
    {
      "cell_type": "markdown",
      "metadata": {
        "id": "ieYn1GFThUG6"
      },
      "source": [
        "<a id='top'></a>\n",
        "## Table of Contents\n",
        "1. [Data Understanding and Project Proposal](#dupp)\n",
        "2. [Models Implementation and Evaluation](#mie)\n",
        "    1. [Movie Profitability Regression](#reg)\n",
        "        1. [Additional Features Engineering](#afer)\n",
        "        2. [Regressors](#regs)\n",
        "        3. [Experiments](#expr)\n",
        "        4. [Testcases](#tcr)\n",
        "    2. [Movie Profitability Classification](#clf)\n",
        "        1. [Additional Features Engineering](#afec)\n",
        "        2. [Handling Unbalanced Data](#hud)\n",
        "        3. [Classifiers](#clfs)\n",
        "        4. [Experiments](#expc)\n",
        "        5. [Testcases](#tcc)\n",
        "3. [Conclusion](#conc)"
      ]
    },
    {
      "cell_type": "markdown",
      "metadata": {
        "id": "IYPbO0vFKElr"
      },
      "source": [
        "<a id='dupp'></a>\n",
        "# 1. Data Understanding and Project Proposal ([to top](#top))\n",
        "https://jovian.ai/lilanpei/data-understanding-and-project-proposal"
      ]
    },
    {
      "cell_type": "markdown",
      "metadata": {
        "id": "Wt8rqdguEsJ8"
      },
      "source": [
        "Although We have already performed extensive analysis of our data and haven't done a lot with respect to determining factors that make a movie a success. We all know how the economic return a producer can get from a film is important. So what factors influence whether a movie will be able to recoup its investments? To answer this question, we shall attempt to build :\n",
        "\n",
        "* A **Regressor** that can, to a certain degree, predict the economic return of a particular movie starting from its characteristics.\n",
        "* A **Classifier** that identifies if a movie will be a hit or will make the producers lose money."
      ]
    },
    {
      "cell_type": "markdown",
      "metadata": {
        "id": "6I_LkB5JFoSI"
      },
      "source": [
        "<a id='mie'></a>\n",
        "# 2. Models Implementation and Evaluation ([to top](#top))"
      ]
    },
    {
      "cell_type": "markdown",
      "metadata": {
        "id": "n4O0Xq5hhO3I"
      },
      "source": [
        "<a id='reg'></a>\n",
        "## A. Movie Profitability Regression ([to top](#top))"
      ]
    },
    {
      "cell_type": "markdown",
      "metadata": {
        "id": "SLGZattSVxWL"
      },
      "source": [
        "<a id='afer'></a>\n",
        "### 1). Additional Features Engineering([to top](#top))"
      ]
    },
    {
      "cell_type": "markdown",
      "metadata": {
        "id": "X9sKYN8sFjVR"
      },
      "source": [
        "Install necessary libraries :"
      ]
    },
    {
      "cell_type": "code",
      "execution_count": null,
      "metadata": {
        "id": "IoVZHz5W48SW"
      },
      "outputs": [],
      "source": [
        "try:\n",
        "    import autosklearn.regression\n",
        "    import autosklearn.classification\n",
        "    import gdown\n",
        "    from imblearn.over_sampling import SMOTE\n",
        "except ModuleNotFoundError: \n",
        "    !pip3 install auto-sklearn\n",
        "    !pip3 install gdown\n",
        "    !pip3 install -U git+https://github.com/scikit-learn-contrib/imbalanced-learn.git\n",
        "    \n",
        "    # Kill the current Python runtime process\n",
        "    import os\n",
        "    os.kill(os.getpid(), 9)"
      ]
    },
    {
      "cell_type": "markdown",
      "metadata": {
        "id": "rkL6L2IQ9YxA"
      },
      "source": [
        "**Note:** The auto-sklearn installation ask to **restart the runtime**:"
      ]
    },
    {
      "cell_type": "code",
      "execution_count": null,
      "metadata": {
        "colab": {
          "base_uri": "https://localhost:8080/"
        },
        "id": "ZR6yyqy0XOUr",
        "outputId": "541d57a8-5bc0-40f7-e464-a7e68256d4a1"
      },
      "outputs": [
        {
          "name": "stdout",
          "output_type": "stream",
          "text": [
            "Drive already mounted at /content/drive; to attempt to forcibly remount, call drive.mount(\"/content/drive\", force_remount=True).\n"
          ]
        }
      ],
      "source": [
        "from google.colab import drive\n",
        "drive.mount('/content/drive')"
      ]
    },
    {
      "cell_type": "code",
      "execution_count": null,
      "metadata": {
        "id": "G9bV-JazXFxg"
      },
      "outputs": [],
      "source": [
        "%matplotlib inline\n",
        "import autosklearn.regression\n",
        "import autosklearn.classification\n",
        "from imblearn.over_sampling import SMOTE\n",
        "import re\n",
        "import pandas as pd\n",
        "import numpy as np\n",
        "import ast\n",
        "import matplotlib.pyplot as plt\n",
        "import seaborn as sns\n",
        "import datetime\n",
        "from wordcloud import WordCloud, STOPWORDS\n",
        "import matplotlib.pyplot as plt\n",
        "from sklearn.model_selection import train_test_split\n",
        "from sklearn.ensemble import BaggingRegressor, BaggingClassifier, GradientBoostingRegressor, GradientBoostingClassifier, RandomForestRegressor, RandomForestClassifier\n",
        "from sklearn.neural_network import MLPRegressor, MLPClassifier\n",
        "from sklearn.dummy import DummyRegressor, DummyClassifier\n",
        "import warnings\n",
        "import math\n",
        "from time import strptime\n",
        "from sklearn.preprocessing import MinMaxScaler\n",
        "from sklearn.cluster import KMeans\n",
        "from sklearn.tree import DecisionTreeRegressor\n",
        "from sklearn import metrics\n",
        "from scipy.stats import randint as sp_randint\n",
        "from sklearn.model_selection import GridSearchCV, RandomizedSearchCV, cross_val_score, KFold, RepeatedKFold, RepeatedStratifiedKFold\n",
        "from sklearn.metrics import r2_score, accuracy_score, classification_report, plot_confusion_matrix, roc_curve, roc_auc_score\n",
        "import pydotplus\n",
        "from IPython.display import Image\n",
        "from sklearn.tree import export_graphviz\n",
        "from sklearn.svm import SVR\n",
        "from sklearn.pipeline import make_pipeline\n",
        "import matplotlib.ticker as plticker\n",
        "from numpy import mean\n",
        "from numpy import std\n",
        "from sklearn.feature_selection import RFE\n",
        "from sklearn.tree import DecisionTreeClassifier\n",
        "from sklearn.pipeline import Pipeline\n",
        "from keras import initializers\n",
        "from sklearn.metrics import mean_squared_error, mean_absolute_error, r2_score, confusion_matrix\n",
        "import sklearn.metrics\n",
        "import autosklearn.regression\n",
        "import autosklearn.classification\n",
        "from imblearn.over_sampling import SMOTE\n",
        "import six\n",
        "import sys\n",
        "import xgboost as xgb\n",
        "from sklearn.metrics import precision_recall_fscore_support as score\n",
        "import tabulate\n",
        "from IPython.display import display, HTML\n",
        "from scipy.stats import pearsonr\n",
        "from joblib import dump, load\n",
        "from pathlib import Path\n",
        "import os\n",
        "import seaborn as sn\n",
        "from sklearn.neighbors import KNeighborsClassifier\n",
        "from sklearn.ensemble import StackingClassifier\n",
        "from sklearn.linear_model import LogisticRegression\n",
        "from sklearn.svm import SVC\n",
        "\n",
        "sys.modules['sklearn.externals.six'] = six\n",
        "warnings.filterwarnings(\"ignore\")\n",
        "np.random.seed(42)"
      ]
    },
    {
      "cell_type": "markdown",
      "metadata": {
        "id": "szRdsu_nF7O8"
      },
      "source": [
        "Load the dataset from the previous task :"
      ]
    },
    {
      "cell_type": "code",
      "execution_count": null,
      "metadata": {
        "id": "ppq3aYSa7zLl"
      },
      "outputs": [],
      "source": [
        "# Create input path if it doesn't exist yet\n",
        "path = \"/content/drive/MyDrive/BDA/input\"\n",
        "os.makedirs(path, exist_ok=True)\n",
        "file_name = \"eda_df.csv\"\n",
        "\n",
        "if not Path(os.path.join(path, file_name)).is_file():\n",
        "  input_dataset = 'https://drive.google.com/file/d/1cd4s1Ba9hKRE5KnNDFqb3uK7ZY_hIR5G/view?usp=sharing'\n",
        "  eda_df = os.path.join(path, file_name)\n",
        "  gdown.download(input_dataset, eda_df, quiet=False)"
      ]
    },
    {
      "cell_type": "code",
      "execution_count": null,
      "metadata": {
        "colab": {
          "base_uri": "https://localhost:8080/"
        },
        "id": "5DTMNE95O_Fz",
        "outputId": "03adff31-e1c9-484c-df33-7ddef36a3f1e"
      },
      "outputs": [
        {
          "name": "stdout",
          "output_type": "stream",
          "text": [
            "<class 'pandas.core.frame.DataFrame'>\n",
            "RangeIndex: 8856 entries, 0 to 8855\n",
            "Data columns (total 11 columns):\n",
            " #   Column                Non-Null Count  Dtype \n",
            "---  ------                --------------  ----- \n",
            " 0   genres                8856 non-null   object\n",
            " 1   overview              8852 non-null   object\n",
            " 2   production_companies  8856 non-null   object\n",
            " 3   production_countries  8856 non-null   object\n",
            " 4   tagline               6709 non-null   object\n",
            " 5   title_tmdb            8856 non-null   object\n",
            " 6   writer                8856 non-null   object\n",
            " 7   actors_tmdb           8856 non-null   object\n",
            " 8   director_tmdb         8856 non-null   object\n",
            " 9   keywords              8856 non-null   object\n",
            " 10  month                 8856 non-null   object\n",
            "dtypes: object(11)\n",
            "memory usage: 761.2+ KB\n"
          ]
        }
      ],
      "source": [
        "df = pd.read_csv('/content/drive/MyDrive/BDA/input/eda_df.csv')\n",
        "df.select_dtypes(include=['object']).info()"
      ]
    },
    {
      "cell_type": "markdown",
      "metadata": {
        "id": "kKLBqzWsGU_7"
      },
      "source": [
        "We can see there are still some object-type variables that need to be transformed to fit a model."
      ]
    },
    {
      "cell_type": "markdown",
      "metadata": {
        "id": "8JwNnqiiQhF9"
      },
      "source": [
        "#### **Handling Cyclical Features - month**:\n",
        " [Feature Engineering - Handling Cyclical Features](http://blog.davidkaleko.com/feature-engineering-cyclical-features.html)"
      ]
    },
    {
      "cell_type": "code",
      "execution_count": null,
      "metadata": {
        "colab": {
          "base_uri": "https://localhost:8080/"
        },
        "id": "ebd2BHAvT067",
        "outputId": "e5a839e8-f5d9-4256-92b5-8a9a3bf6be16"
      },
      "outputs": [
        {
          "data": {
            "text/plain": [
              "count    8856.000000\n",
              "mean        6.785005\n",
              "std         3.455103\n",
              "min         1.000000\n",
              "25%         4.000000\n",
              "50%         7.000000\n",
              "75%        10.000000\n",
              "max        12.000000\n",
              "Name: month, dtype: float64"
            ]
          },
          "execution_count": 7,
          "metadata": {},
          "output_type": "execute_result"
        }
      ],
      "source": [
        "df['month'] = df['month'].apply(lambda m: strptime(m,'%b').tm_mon)\n",
        "df['month'].describe()"
      ]
    },
    {
      "cell_type": "markdown",
      "metadata": {
        "id": "qZNbTw4bXaOD"
      },
      "source": [
        "Months are numbered one through twelve."
      ]
    },
    {
      "cell_type": "code",
      "execution_count": null,
      "metadata": {
        "id": "vrz6ys0JSF5y"
      },
      "outputs": [],
      "source": [
        "df['month_sin'] = np.sin((df.month-1)*(2.*np.pi/12))\n",
        "df['month_cos'] = np.cos((df.month-1)*(2.*np.pi/12))\n",
        "df = df.drop('month', axis=1)"
      ]
    },
    {
      "cell_type": "markdown",
      "metadata": {
        "id": "EqRZHIpnWlEq"
      },
      "source": [
        "We map the cyclical variable onto a circle such that the lowest value for that variable appears right next to the largest value. We compute the x- and y- component of that point using sin and cos trigonometric functions."
      ]
    },
    {
      "cell_type": "markdown",
      "metadata": {
        "id": "5GNuEPa4XHhO"
      },
      "source": [
        "Note that when we perform this transformation for the \"month\" variable, we also shift the values down by one such that it extends from 0 to 11, for convenience."
      ]
    },
    {
      "cell_type": "markdown",
      "metadata": {
        "id": "bERgkCoUXPXd"
      },
      "source": [
        "The claim is that using this transform will improve the predictive performance of our models."
      ]
    },
    {
      "cell_type": "markdown",
      "metadata": {
        "id": "STjpi0PhLIcy"
      },
      "source": [
        "#### **Encoding genres**:"
      ]
    },
    {
      "cell_type": "markdown",
      "metadata": {
        "id": "FTDE43OVsIZ4"
      },
      "source": [
        "In order to make predictions on our dataset we need to encode all the categorical variables\n"
      ]
    },
    {
      "cell_type": "code",
      "execution_count": null,
      "metadata": {
        "colab": {
          "base_uri": "https://localhost:8080/"
        },
        "id": "Sz7g4F_uLZ1f",
        "outputId": "29a98b80-be84-43e8-f0af-745c8469831b"
      },
      "outputs": [
        {
          "name": "stdout",
          "output_type": "stream",
          "text": [
            "{'Foreign', 'Horror', 'Thriller', 'Biography', 'Family', 'History', 'Drama', 'Adventure', 'Romance', 'Documentary', 'Science Fiction', 'Animation', 'Music', 'Musical', 'Sport', 'War', 'Fantasy', 'Action', 'Mystery', 'Western', 'Comedy', 'Crime', 'TV Movie'}\n"
          ]
        }
      ],
      "source": [
        "df['genres'] = df['genres'].apply(ast.literal_eval).values.tolist()\n",
        "genres = set(df.apply(lambda x: pd.Series(x['genres']).astype(str),axis=1).stack().reset_index(level=1, drop=True))\n",
        "print(genres)"
      ]
    },
    {
      "cell_type": "markdown",
      "metadata": {
        "id": "zS8erMrWsUt1"
      },
      "source": [
        "For the genres we created binary variables that take on a value of 1 if the film is for example a western, a detective story, etc. 0 otherwise.\n"
      ]
    },
    {
      "cell_type": "code",
      "execution_count": null,
      "metadata": {
        "id": "psLDbTqW2lrt"
      },
      "outputs": [],
      "source": [
        "for genre in genres:\n",
        "  df['is_' + genre] = df['genres'].apply(\n",
        "      lambda values: int(genre in values)\n",
        "  )\n",
        "\n",
        "df = df.drop('genres', axis=1)"
      ]
    },
    {
      "cell_type": "markdown",
      "metadata": {
        "id": "nWna_bmsiEEg"
      },
      "source": [
        "#### **Encoding production_countries:**"
      ]
    },
    {
      "cell_type": "code",
      "execution_count": null,
      "metadata": {
        "colab": {
          "base_uri": "https://localhost:8080/"
        },
        "id": "MoQHnnETpuXk",
        "outputId": "70be73ff-c227-4b79-eed7-a32ec81a418d"
      },
      "outputs": [
        {
          "name": "stdout",
          "output_type": "stream",
          "text": [
            "(103, 2)\n"
          ]
        }
      ],
      "source": [
        "df['production_countries'] = df['production_countries'].apply(ast.literal_eval).values.tolist()\n",
        "s = df.apply(lambda x: pd.Series(x['production_countries']),axis=1).stack().reset_index(level=1, drop=True)\n",
        "s.name = 'countries'\n",
        "\n",
        "coun_df = df.drop('production_countries', axis=1).join(s)\n",
        "coun_df = pd.DataFrame(coun_df['countries'].value_counts())\n",
        "\n",
        "coun_df = df.drop('production_countries', axis=1).join(s)\n",
        "coun_df = pd.DataFrame(coun_df['countries'].value_counts())\n",
        "coun_df['country'] = coun_df.index\n",
        "coun_df.columns = ['num_movies', 'country']\n",
        "coun_df = coun_df.reset_index().drop('index', axis=1)\n",
        "print(coun_df.shape)"
      ]
    },
    {
      "cell_type": "code",
      "execution_count": null,
      "metadata": {
        "colab": {
          "base_uri": "https://localhost:8080/"
        },
        "id": "4vIxdd7vVOcb",
        "outputId": "1bd18177-7407-4e71-b1a0-63446af07f62"
      },
      "outputs": [
        {
          "name": "stdout",
          "output_type": "stream",
          "text": [
            "['United States of America', 'United Kingdom', 'France', 'Germany', 'Canada', 'India', 'Russia', 'Italy', 'Australia', 'Japan', 'Spain', 'China', 'Hong Kong', 'South Korea']\n"
          ]
        }
      ],
      "source": [
        "coun_df = coun_df[coun_df['num_movies']>(len(df)*0.01)]\n",
        "print(list(coun_df['country']))"
      ]
    },
    {
      "cell_type": "markdown",
      "metadata": {
        "id": "hLv0X-hwsgFz"
      },
      "source": [
        "For **production_countries**, we decided to keep only the main countries (which you can see above), naming the rest as 'other country'. In such a way to maintain greater balance between the instances. Also in this case, 1 represents being shot in that country, 0 otherwise.\n"
      ]
    },
    {
      "cell_type": "code",
      "execution_count": null,
      "metadata": {
        "id": "CsFrg8OgSd08"
      },
      "outputs": [],
      "source": [
        "for country in set(coun_df['country']):\n",
        "  df[country] = df['production_countries'].apply(\n",
        "      lambda values: int(country in values)\n",
        "  )\n",
        "\n",
        "df['other_country'] = df['production_countries'].apply(\n",
        "    lambda values: 1 if len(set(values)-set(coun_df['country'])) > 0 else 0\n",
        ")\n",
        "\n",
        "df = df.drop('production_countries', axis=1)"
      ]
    },
    {
      "cell_type": "markdown",
      "metadata": {
        "id": "m1xw8g8lnyQL"
      },
      "source": [
        "#### **Encoding production_companies by Clustering:**"
      ]
    },
    {
      "cell_type": "markdown",
      "metadata": {
        "id": "cB3JrpAesmyJ"
      },
      "source": [
        "In regarding to **production_companies**, **writer**, **director** and **actor**, since the number of distinct values was too large to perform a dummy encoding, we decided to cluster the movies through specific attributes, getting as a result that each film has its own specific group (label) for each of these categories.\n",
        "\n",
        "As specific attributes we used the so called RFM (Recency - Frequency - Monetary). RFM is a commonly used method in economics to analyze the customer value. In our case:\n",
        "1. Recency --> 'how recently was the last movie out?'\n",
        "2. Frequency --> 'how many movies have been released?'\n",
        "3. Monetary --> 'how much they earned on average?' <br><br>In addition, two other variables that express the average number of votes and the average vote."
      ]
    },
    {
      "cell_type": "code",
      "execution_count": null,
      "metadata": {
        "colab": {
          "base_uri": "https://localhost:8080/"
        },
        "id": "atvxcUChnyQM",
        "outputId": "bfd6efba-7cff-482e-ad24-54882e618d17"
      },
      "outputs": [
        {
          "name": "stdout",
          "output_type": "stream",
          "text": [
            "(6139, 1)\n"
          ]
        }
      ],
      "source": [
        "df['production_companies'] = df['production_companies'].apply(ast.literal_eval).values.tolist()\n",
        "s = df.apply(lambda x: pd.Series(x['production_companies']),axis=1).stack().reset_index(level=1, drop=True)\n",
        "s.name = 'companies'\n",
        "\n",
        "comp_df = df.drop('production_companies', axis=1).join(s).reset_index().drop('index', axis=1)\n",
        "comp_df = comp_df[~comp_df['companies'].isnull()]\n",
        "companies_df = comp_df[['companies']].drop_duplicates()\n",
        "print(companies_df.shape)"
      ]
    },
    {
      "cell_type": "markdown",
      "metadata": {
        "id": "czF8-UsznyQP"
      },
      "source": [
        "Extract RFM features from describing production_companies profile:"
      ]
    },
    {
      "cell_type": "code",
      "execution_count": null,
      "metadata": {
        "colab": {
          "base_uri": "https://localhost:8080/",
          "height": 206
        },
        "id": "aTQb8XT6nyQP",
        "outputId": "b43b412d-06bb-4396-b46c-f205a31b1e36"
      },
      "outputs": [
        {
          "data": {
            "text/html": [
              "\n",
              "  <div id=\"df-3ca3de98-0b22-4d7a-b9ae-2447874b0abe\">\n",
              "    <div class=\"colab-df-container\">\n",
              "      <div>\n",
              "<style scoped>\n",
              "    .dataframe tbody tr th:only-of-type {\n",
              "        vertical-align: middle;\n",
              "    }\n",
              "\n",
              "    .dataframe tbody tr th {\n",
              "        vertical-align: top;\n",
              "    }\n",
              "\n",
              "    .dataframe thead th {\n",
              "        text-align: right;\n",
              "    }\n",
              "</style>\n",
              "<table border=\"1\" class=\"dataframe\">\n",
              "  <thead>\n",
              "    <tr style=\"text-align: right;\">\n",
              "      <th></th>\n",
              "      <th>companies</th>\n",
              "      <th>Monetary</th>\n",
              "      <th>avg_count</th>\n",
              "      <th>avg_vote</th>\n",
              "      <th>Recency</th>\n",
              "      <th>Frequency</th>\n",
              "    </tr>\n",
              "  </thead>\n",
              "  <tbody>\n",
              "    <tr>\n",
              "      <th>0</th>\n",
              "      <td>Pixar Animation Studios</td>\n",
              "      <td>1.486667e+08</td>\n",
              "      <td>4454.333333</td>\n",
              "      <td>7.166667</td>\n",
              "      <td>0</td>\n",
              "      <td>18</td>\n",
              "    </tr>\n",
              "    <tr>\n",
              "      <th>1</th>\n",
              "      <td>TriStar Pictures</td>\n",
              "      <td>2.657033e+07</td>\n",
              "      <td>394.926471</td>\n",
              "      <td>6.058088</td>\n",
              "      <td>0</td>\n",
              "      <td>136</td>\n",
              "    </tr>\n",
              "    <tr>\n",
              "      <th>2</th>\n",
              "      <td>Teitler Film</td>\n",
              "      <td>6.500000e+07</td>\n",
              "      <td>1610.500000</td>\n",
              "      <td>6.500000</td>\n",
              "      <td>12</td>\n",
              "      <td>2</td>\n",
              "    </tr>\n",
              "    <tr>\n",
              "      <th>3</th>\n",
              "      <td>Interscope Communications</td>\n",
              "      <td>2.035158e+07</td>\n",
              "      <td>301.263158</td>\n",
              "      <td>5.600000</td>\n",
              "      <td>17</td>\n",
              "      <td>19</td>\n",
              "    </tr>\n",
              "    <tr>\n",
              "      <th>4</th>\n",
              "      <td>Warner Bros.</td>\n",
              "      <td>4.202192e+07</td>\n",
              "      <td>911.185654</td>\n",
              "      <td>6.301688</td>\n",
              "      <td>0</td>\n",
              "      <td>474</td>\n",
              "    </tr>\n",
              "  </tbody>\n",
              "</table>\n",
              "</div>\n",
              "      <button class=\"colab-df-convert\" onclick=\"convertToInteractive('df-3ca3de98-0b22-4d7a-b9ae-2447874b0abe')\"\n",
              "              title=\"Convert this dataframe to an interactive table.\"\n",
              "              style=\"display:none;\">\n",
              "        \n",
              "  <svg xmlns=\"http://www.w3.org/2000/svg\" height=\"24px\"viewBox=\"0 0 24 24\"\n",
              "       width=\"24px\">\n",
              "    <path d=\"M0 0h24v24H0V0z\" fill=\"none\"/>\n",
              "    <path d=\"M18.56 5.44l.94 2.06.94-2.06 2.06-.94-2.06-.94-.94-2.06-.94 2.06-2.06.94zm-11 1L8.5 8.5l.94-2.06 2.06-.94-2.06-.94L8.5 2.5l-.94 2.06-2.06.94zm10 10l.94 2.06.94-2.06 2.06-.94-2.06-.94-.94-2.06-.94 2.06-2.06.94z\"/><path d=\"M17.41 7.96l-1.37-1.37c-.4-.4-.92-.59-1.43-.59-.52 0-1.04.2-1.43.59L10.3 9.45l-7.72 7.72c-.78.78-.78 2.05 0 2.83L4 21.41c.39.39.9.59 1.41.59.51 0 1.02-.2 1.41-.59l7.78-7.78 2.81-2.81c.8-.78.8-2.07 0-2.86zM5.41 20L4 18.59l7.72-7.72 1.47 1.35L5.41 20z\"/>\n",
              "  </svg>\n",
              "      </button>\n",
              "      \n",
              "  <style>\n",
              "    .colab-df-container {\n",
              "      display:flex;\n",
              "      flex-wrap:wrap;\n",
              "      gap: 12px;\n",
              "    }\n",
              "\n",
              "    .colab-df-convert {\n",
              "      background-color: #E8F0FE;\n",
              "      border: none;\n",
              "      border-radius: 50%;\n",
              "      cursor: pointer;\n",
              "      display: none;\n",
              "      fill: #1967D2;\n",
              "      height: 32px;\n",
              "      padding: 0 0 0 0;\n",
              "      width: 32px;\n",
              "    }\n",
              "\n",
              "    .colab-df-convert:hover {\n",
              "      background-color: #E2EBFA;\n",
              "      box-shadow: 0px 1px 2px rgba(60, 64, 67, 0.3), 0px 1px 3px 1px rgba(60, 64, 67, 0.15);\n",
              "      fill: #174EA6;\n",
              "    }\n",
              "\n",
              "    [theme=dark] .colab-df-convert {\n",
              "      background-color: #3B4455;\n",
              "      fill: #D2E3FC;\n",
              "    }\n",
              "\n",
              "    [theme=dark] .colab-df-convert:hover {\n",
              "      background-color: #434B5C;\n",
              "      box-shadow: 0px 1px 3px 1px rgba(0, 0, 0, 0.15);\n",
              "      filter: drop-shadow(0px 1px 2px rgba(0, 0, 0, 0.3));\n",
              "      fill: #FFFFFF;\n",
              "    }\n",
              "  </style>\n",
              "\n",
              "      <script>\n",
              "        const buttonEl =\n",
              "          document.querySelector('#df-3ca3de98-0b22-4d7a-b9ae-2447874b0abe button.colab-df-convert');\n",
              "        buttonEl.style.display =\n",
              "          google.colab.kernel.accessAllowed ? 'block' : 'none';\n",
              "\n",
              "        async function convertToInteractive(key) {\n",
              "          const element = document.querySelector('#df-3ca3de98-0b22-4d7a-b9ae-2447874b0abe');\n",
              "          const dataTable =\n",
              "            await google.colab.kernel.invokeFunction('convertToInteractive',\n",
              "                                                     [key], {});\n",
              "          if (!dataTable) return;\n",
              "\n",
              "          const docLinkHtml = 'Like what you see? Visit the ' +\n",
              "            '<a target=\"_blank\" href=https://colab.research.google.com/notebooks/data_table.ipynb>data table notebook</a>'\n",
              "            + ' to learn more about interactive tables.';\n",
              "          element.innerHTML = '';\n",
              "          dataTable['output_type'] = 'display_data';\n",
              "          await google.colab.output.renderOutput(dataTable, element);\n",
              "          const docLink = document.createElement('div');\n",
              "          docLink.innerHTML = docLinkHtml;\n",
              "          element.appendChild(docLink);\n",
              "        }\n",
              "      </script>\n",
              "    </div>\n",
              "  </div>\n",
              "  "
            ],
            "text/plain": [
              "                   companies      Monetary  ...  Recency  Frequency\n",
              "0    Pixar Animation Studios  1.486667e+08  ...        0         18\n",
              "1           TriStar Pictures  2.657033e+07  ...        0        136\n",
              "2               Teitler Film  6.500000e+07  ...       12          2\n",
              "3  Interscope Communications  2.035158e+07  ...       17         19\n",
              "4               Warner Bros.  4.202192e+07  ...        0        474\n",
              "\n",
              "[5 rows x 6 columns]"
            ]
          },
          "execution_count": 15,
          "metadata": {},
          "output_type": "execute_result"
        }
      ],
      "source": [
        "max_year = comp_df.year.max()\n",
        "companies_df['Lastyear'] = comp_df.groupby('companies')['year'].transform('max').astype('int')\n",
        "companies_df['Monetary'] = comp_df.groupby('companies')['budget_tmdb'].transform('mean')\n",
        "companies_df['avg_count'] = comp_df.groupby('companies')['vote_count'].transform('mean')\n",
        "companies_df['avg_vote'] = comp_df.groupby('companies')['vote_average'].transform('mean')\n",
        "companies_df['Recency'] = pd.Series(max_year - companies_df['Lastyear'])\n",
        "companies_df['Frequency'] = comp_df.groupby('companies')['id'].transform('count')\n",
        "companies_df = companies_df.drop('Lastyear', axis=1)\n",
        "companies_df_copy = companies_df.copy()\n",
        "companies_df_copy = companies_df_copy.drop('companies', axis=1)\n",
        "companies_df.head()"
      ]
    },
    {
      "cell_type": "markdown",
      "metadata": {
        "id": "skbP2RD9Ig00"
      },
      "source": [
        "For the clustering algorithm, since we have only five features, we choose the K-means algorithm."
      ]
    },
    {
      "cell_type": "code",
      "execution_count": null,
      "metadata": {
        "id": "OA8dhrBunyQR"
      },
      "outputs": [],
      "source": [
        "if (Path('/content/drive/MyDrive/BDA/model/companies_kmeans.joblib').is_file() & \n",
        "    Path('/content/drive/MyDrive/BDA/image/companies_kmeans.png').is_file()) :\n",
        "  companies_kmeans = load('/content/drive/MyDrive/BDA/model/companies_kmeans.joblib')\n",
        "\n",
        "else:\n",
        "  # Create path if it doesn't exist yet\n",
        "  path = \"/content/drive/MyDrive/BDA/model/\"\n",
        "  os.makedirs(path, exist_ok=True)\n",
        "\n",
        "  path = \"/content/drive/MyDrive/BDA/image/\"\n",
        "  os.makedirs(path, exist_ok=True)\n",
        "\n",
        "  # Normalization by Min-Max:\n",
        "  scaler_m = MinMaxScaler()\n",
        "  X_m = scaler_m.fit_transform(companies_df_copy.values)\n",
        "\n",
        "  sse_list = list()\n",
        "  max_k = 10\n",
        "  for k in range(2, max_k + 1):\n",
        "      kmeans = KMeans(n_clusters = k, n_init=10, max_iter=100, random_state=0)\n",
        "      kmeans.fit(X_m)\n",
        "      \n",
        "      sse = kmeans.inertia_\n",
        "      sse_list.append(sse)\n",
        "      \n",
        "  plt.plot(range(2, len(sse_list) + 2), sse_list,'-o')\n",
        "  plt.ylabel('SSE', fontsize=20)\n",
        "  plt.xlabel('K', fontsize=20)\n",
        "  plt.tick_params(axis='both', which='major', labelsize=15)\n",
        "  plt.tight_layout()\n",
        "  plt.savefig('/content/drive/MyDrive/BDA/image/companies_kmeans.png', format='png')\n",
        "  plt.show()\n",
        "  plt.close()\n",
        "\n",
        "  companies_kmeans = KMeans(n_clusters=4, n_init=10, max_iter=100, random_state=0)\n",
        "  companies_kmeans.fit(X_m)\n",
        "  dump(companies_kmeans, '/content/drive/MyDrive/BDA/model/companies_kmeans.joblib') "
      ]
    },
    {
      "cell_type": "markdown",
      "metadata": {
        "id": "2Rt9u5xNuiQa"
      },
      "source": [
        "<img src = 'https://drive.google.com/uc?id=16KsyVr8uuEbX8GOhSYCQn_gZ_9yeITqS'>"
      ]
    },
    {
      "cell_type": "markdown",
      "metadata": {
        "id": "S7x5o999sx7N"
      },
      "source": [
        "For the choice of the k number of clusters, we used the so called Elbow method, plotting the explained variation as a function of the number of clusters, and picking the elbow of the curve as the number of clusters to use."
      ]
    },
    {
      "cell_type": "code",
      "execution_count": null,
      "metadata": {
        "colab": {
          "base_uri": "https://localhost:8080/",
          "height": 290
        },
        "id": "PBstfNjO3H9s",
        "outputId": "e3a97067-64c9-429b-a840-c3d188412d72"
      },
      "outputs": [
        {
          "name": "stdout",
          "output_type": "stream",
          "text": [
            "{0: 3020, 1: 1735, 2: 934, 3: 450}\n"
          ]
        },
        {
          "data": {
            "image/png": "[encoded data removed]",
            "text/plain": [
              "<Figure size 576x288 with 1 Axes>"
            ]
          },
          "metadata": {
            "needs_background": "light"
          },
          "output_type": "display_data"
        }
      ],
      "source": [
        "hist, bins = np.histogram(companies_kmeans.labels_, bins=range(0, len(set(companies_kmeans.labels_)) + 1))\n",
        "print(dict(zip(bins, hist)))\n",
        "\n",
        "plt.figure(figsize=(8, 4))\n",
        "for i in range(0, len(companies_kmeans.cluster_centers_)):\n",
        "    plt.plot(companies_kmeans.cluster_centers_[i], marker='o', label='Cluster %s' % i)\n",
        "plt.tick_params(axis='both', which='major', labelsize=10)\n",
        "plt.xticks(range(0, len(companies_df_copy.columns)), companies_df_copy.columns, fontsize=18)\n",
        "plt.legend(fontsize=10)\n",
        "plt.savefig('/content/drive/MyDrive/BDA/image/companies_cluster.png', format='png')\n",
        "plt.show()"
      ]
    },
    {
      "cell_type": "markdown",
      "metadata": {
        "id": "dJzDjuq4s4cB"
      },
      "source": [
        "In this image we can see the separation of the centroids with respect to the attributes. Probably the discriminating factor in this case was the average vote."
      ]
    },
    {
      "cell_type": "code",
      "execution_count": null,
      "metadata": {
        "colab": {
          "base_uri": "https://localhost:8080/",
          "height": 206
        },
        "id": "NSn5NblGnyQT",
        "outputId": "bc985346-5f96-47ef-bc1c-275b34882ad2"
      },
      "outputs": [
        {
          "data": {
            "text/html": [
              "\n",
              "  <div id=\"df-090f087b-17c6-4c7f-a68f-960906bcc77f\">\n",
              "    <div class=\"colab-df-container\">\n",
              "      <div>\n",
              "<style scoped>\n",
              "    .dataframe tbody tr th:only-of-type {\n",
              "        vertical-align: middle;\n",
              "    }\n",
              "\n",
              "    .dataframe tbody tr th {\n",
              "        vertical-align: top;\n",
              "    }\n",
              "\n",
              "    .dataframe thead th {\n",
              "        text-align: right;\n",
              "    }\n",
              "</style>\n",
              "<table border=\"1\" class=\"dataframe\">\n",
              "  <thead>\n",
              "    <tr style=\"text-align: right;\">\n",
              "      <th></th>\n",
              "      <th>companies</th>\n",
              "      <th>Monetary</th>\n",
              "      <th>avg_count</th>\n",
              "      <th>avg_vote</th>\n",
              "      <th>Recency</th>\n",
              "      <th>Frequency</th>\n",
              "      <th>K-Means_Labels</th>\n",
              "    </tr>\n",
              "  </thead>\n",
              "  <tbody>\n",
              "    <tr>\n",
              "      <th>0</th>\n",
              "      <td>Pixar Animation Studios</td>\n",
              "      <td>1.486667e+08</td>\n",
              "      <td>4454.333333</td>\n",
              "      <td>7.166667</td>\n",
              "      <td>0</td>\n",
              "      <td>18</td>\n",
              "      <td>3</td>\n",
              "    </tr>\n",
              "    <tr>\n",
              "      <th>1</th>\n",
              "      <td>TriStar Pictures</td>\n",
              "      <td>2.657033e+07</td>\n",
              "      <td>394.926471</td>\n",
              "      <td>6.058088</td>\n",
              "      <td>0</td>\n",
              "      <td>136</td>\n",
              "      <td>0</td>\n",
              "    </tr>\n",
              "    <tr>\n",
              "      <th>2</th>\n",
              "      <td>Teitler Film</td>\n",
              "      <td>6.500000e+07</td>\n",
              "      <td>1610.500000</td>\n",
              "      <td>6.500000</td>\n",
              "      <td>12</td>\n",
              "      <td>2</td>\n",
              "      <td>3</td>\n",
              "    </tr>\n",
              "    <tr>\n",
              "      <th>3</th>\n",
              "      <td>Interscope Communications</td>\n",
              "      <td>2.035158e+07</td>\n",
              "      <td>301.263158</td>\n",
              "      <td>5.600000</td>\n",
              "      <td>17</td>\n",
              "      <td>19</td>\n",
              "      <td>1</td>\n",
              "    </tr>\n",
              "    <tr>\n",
              "      <th>4</th>\n",
              "      <td>Warner Bros.</td>\n",
              "      <td>4.202192e+07</td>\n",
              "      <td>911.185654</td>\n",
              "      <td>6.301688</td>\n",
              "      <td>0</td>\n",
              "      <td>474</td>\n",
              "      <td>3</td>\n",
              "    </tr>\n",
              "  </tbody>\n",
              "</table>\n",
              "</div>\n",
              "      <button class=\"colab-df-convert\" onclick=\"convertToInteractive('df-090f087b-17c6-4c7f-a68f-960906bcc77f')\"\n",
              "              title=\"Convert this dataframe to an interactive table.\"\n",
              "              style=\"display:none;\">\n",
              "        \n",
              "  <svg xmlns=\"http://www.w3.org/2000/svg\" height=\"24px\"viewBox=\"0 0 24 24\"\n",
              "       width=\"24px\">\n",
              "    <path d=\"M0 0h24v24H0V0z\" fill=\"none\"/>\n",
              "    <path d=\"M18.56 5.44l.94 2.06.94-2.06 2.06-.94-2.06-.94-.94-2.06-.94 2.06-2.06.94zm-11 1L8.5 8.5l.94-2.06 2.06-.94-2.06-.94L8.5 2.5l-.94 2.06-2.06.94zm10 10l.94 2.06.94-2.06 2.06-.94-2.06-.94-.94-2.06-.94 2.06-2.06.94z\"/><path d=\"M17.41 7.96l-1.37-1.37c-.4-.4-.92-.59-1.43-.59-.52 0-1.04.2-1.43.59L10.3 9.45l-7.72 7.72c-.78.78-.78 2.05 0 2.83L4 21.41c.39.39.9.59 1.41.59.51 0 1.02-.2 1.41-.59l7.78-7.78 2.81-2.81c.8-.78.8-2.07 0-2.86zM5.41 20L4 18.59l7.72-7.72 1.47 1.35L5.41 20z\"/>\n",
              "  </svg>\n",
              "      </button>\n",
              "      \n",
              "  <style>\n",
              "    .colab-df-container {\n",
              "      display:flex;\n",
              "      flex-wrap:wrap;\n",
              "      gap: 12px;\n",
              "    }\n",
              "\n",
              "    .colab-df-convert {\n",
              "      background-color: #E8F0FE;\n",
              "      border: none;\n",
              "      border-radius: 50%;\n",
              "      cursor: pointer;\n",
              "      display: none;\n",
              "      fill: #1967D2;\n",
              "      height: 32px;\n",
              "      padding: 0 0 0 0;\n",
              "      width: 32px;\n",
              "    }\n",
              "\n",
              "    .colab-df-convert:hover {\n",
              "      background-color: #E2EBFA;\n",
              "      box-shadow: 0px 1px 2px rgba(60, 64, 67, 0.3), 0px 1px 3px 1px rgba(60, 64, 67, 0.15);\n",
              "      fill: #174EA6;\n",
              "    }\n",
              "\n",
              "    [theme=dark] .colab-df-convert {\n",
              "      background-color: #3B4455;\n",
              "      fill: #D2E3FC;\n",
              "    }\n",
              "\n",
              "    [theme=dark] .colab-df-convert:hover {\n",
              "      background-color: #434B5C;\n",
              "      box-shadow: 0px 1px 3px 1px rgba(0, 0, 0, 0.15);\n",
              "      filter: drop-shadow(0px 1px 2px rgba(0, 0, 0, 0.3));\n",
              "      fill: #FFFFFF;\n",
              "    }\n",
              "  </style>\n",
              "\n",
              "      <script>\n",
              "        const buttonEl =\n",
              "          document.querySelector('#df-090f087b-17c6-4c7f-a68f-960906bcc77f button.colab-df-convert');\n",
              "        buttonEl.style.display =\n",
              "          google.colab.kernel.accessAllowed ? 'block' : 'none';\n",
              "\n",
              "        async function convertToInteractive(key) {\n",
              "          const element = document.querySelector('#df-090f087b-17c6-4c7f-a68f-960906bcc77f');\n",
              "          const dataTable =\n",
              "            await google.colab.kernel.invokeFunction('convertToInteractive',\n",
              "                                                     [key], {});\n",
              "          if (!dataTable) return;\n",
              "\n",
              "          const docLinkHtml = 'Like what you see? Visit the ' +\n",
              "            '<a target=\"_blank\" href=https://colab.research.google.com/notebooks/data_table.ipynb>data table notebook</a>'\n",
              "            + ' to learn more about interactive tables.';\n",
              "          element.innerHTML = '';\n",
              "          dataTable['output_type'] = 'display_data';\n",
              "          await google.colab.output.renderOutput(dataTable, element);\n",
              "          const docLink = document.createElement('div');\n",
              "          docLink.innerHTML = docLinkHtml;\n",
              "          element.appendChild(docLink);\n",
              "        }\n",
              "      </script>\n",
              "    </div>\n",
              "  </div>\n",
              "  "
            ],
            "text/plain": [
              "                   companies      Monetary  ...  Frequency  K-Means_Labels\n",
              "0    Pixar Animation Studios  1.486667e+08  ...         18               3\n",
              "1           TriStar Pictures  2.657033e+07  ...        136               0\n",
              "2               Teitler Film  6.500000e+07  ...          2               3\n",
              "3  Interscope Communications  2.035158e+07  ...         19               1\n",
              "4               Warner Bros.  4.202192e+07  ...        474               3\n",
              "\n",
              "[5 rows x 7 columns]"
            ]
          },
          "execution_count": 18,
          "metadata": {},
          "output_type": "execute_result"
        }
      ],
      "source": [
        "companies_df['K-Means_Labels'] = companies_kmeans.labels_\n",
        "companies_df.head()"
      ]
    },
    {
      "cell_type": "code",
      "execution_count": null,
      "metadata": {
        "id": "_SWKZcbHnyQT"
      },
      "outputs": [],
      "source": [
        "companies_dic = companies_df[['companies','K-Means_Labels']].set_index('companies').to_dict()\n",
        "df['labels'] = df['production_companies'].apply(lambda values: list(map(lambda x: companies_dic['K-Means_Labels'][x], values)))\n",
        "\n",
        "for label in range(len(companies_kmeans.cluster_centers_)):\n",
        "  df['companies_label_'+str(label)] = df['labels'].apply(\n",
        "      lambda values: int(label in values)\n",
        "  )\n",
        "\n",
        "df = df.drop(['labels','production_companies'],axis=1)"
      ]
    },
    {
      "cell_type": "markdown",
      "metadata": {
        "id": "Zky4BrUMJ0wR"
      },
      "source": [
        "We defined the new categorical features in our dataset, indicating the clusters each movie was grouped in."
      ]
    },
    {
      "cell_type": "markdown",
      "metadata": {
        "id": "Q3hFgrjAfIjL"
      },
      "source": [
        "#### **Encoding writer by Clustering:**"
      ]
    },
    {
      "cell_type": "code",
      "execution_count": null,
      "metadata": {
        "colab": {
          "base_uri": "https://localhost:8080/"
        },
        "id": "gaOLWEfTfIjM",
        "outputId": "f0b889fd-97e8-406a-ad37-69c431736e16"
      },
      "outputs": [
        {
          "data": {
            "text/plain": [
              "(8560, 1)"
            ]
          },
          "execution_count": 20,
          "metadata": {},
          "output_type": "execute_result"
        }
      ],
      "source": [
        "df['writer'] = df['writer'].apply(ast.literal_eval).values.tolist()\n",
        "s = df.apply(lambda x: pd.Series(x['writer']),axis=1).stack().reset_index(level=1, drop=True)\n",
        "s.name = 'writers'\n",
        "\n",
        "writ_df = df.drop('writer', axis=1).join(s).reset_index().drop('index', axis=1)\n",
        "writ_df = writ_df[~writ_df['writers'].isnull()]\n",
        "writer_df = writ_df[['writers']].drop_duplicates()\n",
        "writer_df.shape"
      ]
    },
    {
      "cell_type": "markdown",
      "metadata": {
        "id": "W_JshF0NfIjS"
      },
      "source": [
        "Extract RFM features from describing writer profile:"
      ]
    },
    {
      "cell_type": "code",
      "execution_count": null,
      "metadata": {
        "colab": {
          "base_uri": "https://localhost:8080/",
          "height": 206
        },
        "id": "PcRbCjF8fIjT",
        "outputId": "7e7eeaf2-5b9b-473c-ecdb-7d36a8f04464"
      },
      "outputs": [
        {
          "data": {
            "text/html": [
              "\n",
              "  <div id=\"df-b3994b5d-1b81-4e33-9eb1-e17799960a75\">\n",
              "    <div class=\"colab-df-container\">\n",
              "      <div>\n",
              "<style scoped>\n",
              "    .dataframe tbody tr th:only-of-type {\n",
              "        vertical-align: middle;\n",
              "    }\n",
              "\n",
              "    .dataframe tbody tr th {\n",
              "        vertical-align: top;\n",
              "    }\n",
              "\n",
              "    .dataframe thead th {\n",
              "        text-align: right;\n",
              "    }\n",
              "</style>\n",
              "<table border=\"1\" class=\"dataframe\">\n",
              "  <thead>\n",
              "    <tr style=\"text-align: right;\">\n",
              "      <th></th>\n",
              "      <th>writers</th>\n",
              "      <th>Monetary</th>\n",
              "      <th>avg_count</th>\n",
              "      <th>avg_vote</th>\n",
              "      <th>Recency</th>\n",
              "      <th>Frequency</th>\n",
              "    </tr>\n",
              "  </thead>\n",
              "  <tbody>\n",
              "    <tr>\n",
              "      <th>0</th>\n",
              "      <td>John Lasseter</td>\n",
              "      <td>1.157143e+08</td>\n",
              "      <td>3295.000000</td>\n",
              "      <td>6.785714</td>\n",
              "      <td>4</td>\n",
              "      <td>7</td>\n",
              "    </tr>\n",
              "    <tr>\n",
              "      <th>1</th>\n",
              "      <td>Pete Docter</td>\n",
              "      <td>1.275000e+08</td>\n",
              "      <td>5950.500000</td>\n",
              "      <td>7.666667</td>\n",
              "      <td>2</td>\n",
              "      <td>6</td>\n",
              "    </tr>\n",
              "    <tr>\n",
              "      <th>2</th>\n",
              "      <td>Jonathan Hensleigh</td>\n",
              "      <td>6.828571e+07</td>\n",
              "      <td>1312.714286</td>\n",
              "      <td>6.414286</td>\n",
              "      <td>6</td>\n",
              "      <td>7</td>\n",
              "    </tr>\n",
              "    <tr>\n",
              "      <th>3</th>\n",
              "      <td>Greg Taylor</td>\n",
              "      <td>3.850000e+07</td>\n",
              "      <td>1230.000000</td>\n",
              "      <td>6.300000</td>\n",
              "      <td>21</td>\n",
              "      <td>2</td>\n",
              "    </tr>\n",
              "    <tr>\n",
              "      <th>4</th>\n",
              "      <td>Mark Steven Johnson</td>\n",
              "      <td>4.800000e+07</td>\n",
              "      <td>640.900000</td>\n",
              "      <td>5.470000</td>\n",
              "      <td>10</td>\n",
              "      <td>10</td>\n",
              "    </tr>\n",
              "  </tbody>\n",
              "</table>\n",
              "</div>\n",
              "      <button class=\"colab-df-convert\" onclick=\"convertToInteractive('df-b3994b5d-1b81-4e33-9eb1-e17799960a75')\"\n",
              "              title=\"Convert this dataframe to an interactive table.\"\n",
              "              style=\"display:none;\">\n",
              "        \n",
              "  <svg xmlns=\"http://www.w3.org/2000/svg\" height=\"24px\"viewBox=\"0 0 24 24\"\n",
              "       width=\"24px\">\n",
              "    <path d=\"M0 0h24v24H0V0z\" fill=\"none\"/>\n",
              "    <path d=\"M18.56 5.44l.94 2.06.94-2.06 2.06-.94-2.06-.94-.94-2.06-.94 2.06-2.06.94zm-11 1L8.5 8.5l.94-2.06 2.06-.94-2.06-.94L8.5 2.5l-.94 2.06-2.06.94zm10 10l.94 2.06.94-2.06 2.06-.94-2.06-.94-.94-2.06-.94 2.06-2.06.94z\"/><path d=\"M17.41 7.96l-1.37-1.37c-.4-.4-.92-.59-1.43-.59-.52 0-1.04.2-1.43.59L10.3 9.45l-7.72 7.72c-.78.78-.78 2.05 0 2.83L4 21.41c.39.39.9.59 1.41.59.51 0 1.02-.2 1.41-.59l7.78-7.78 2.81-2.81c.8-.78.8-2.07 0-2.86zM5.41 20L4 18.59l7.72-7.72 1.47 1.35L5.41 20z\"/>\n",
              "  </svg>\n",
              "      </button>\n",
              "      \n",
              "  <style>\n",
              "    .colab-df-container {\n",
              "      display:flex;\n",
              "      flex-wrap:wrap;\n",
              "      gap: 12px;\n",
              "    }\n",
              "\n",
              "    .colab-df-convert {\n",
              "      background-color: #E8F0FE;\n",
              "      border: none;\n",
              "      border-radius: 50%;\n",
              "      cursor: pointer;\n",
              "      display: none;\n",
              "      fill: #1967D2;\n",
              "      height: 32px;\n",
              "      padding: 0 0 0 0;\n",
              "      width: 32px;\n",
              "    }\n",
              "\n",
              "    .colab-df-convert:hover {\n",
              "      background-color: #E2EBFA;\n",
              "      box-shadow: 0px 1px 2px rgba(60, 64, 67, 0.3), 0px 1px 3px 1px rgba(60, 64, 67, 0.15);\n",
              "      fill: #174EA6;\n",
              "    }\n",
              "\n",
              "    [theme=dark] .colab-df-convert {\n",
              "      background-color: #3B4455;\n",
              "      fill: #D2E3FC;\n",
              "    }\n",
              "\n",
              "    [theme=dark] .colab-df-convert:hover {\n",
              "      background-color: #434B5C;\n",
              "      box-shadow: 0px 1px 3px 1px rgba(0, 0, 0, 0.15);\n",
              "      filter: drop-shadow(0px 1px 2px rgba(0, 0, 0, 0.3));\n",
              "      fill: #FFFFFF;\n",
              "    }\n",
              "  </style>\n",
              "\n",
              "      <script>\n",
              "        const buttonEl =\n",
              "          document.querySelector('#df-b3994b5d-1b81-4e33-9eb1-e17799960a75 button.colab-df-convert');\n",
              "        buttonEl.style.display =\n",
              "          google.colab.kernel.accessAllowed ? 'block' : 'none';\n",
              "\n",
              "        async function convertToInteractive(key) {\n",
              "          const element = document.querySelector('#df-b3994b5d-1b81-4e33-9eb1-e17799960a75');\n",
              "          const dataTable =\n",
              "            await google.colab.kernel.invokeFunction('convertToInteractive',\n",
              "                                                     [key], {});\n",
              "          if (!dataTable) return;\n",
              "\n",
              "          const docLinkHtml = 'Like what you see? Visit the ' +\n",
              "            '<a target=\"_blank\" href=https://colab.research.google.com/notebooks/data_table.ipynb>data table notebook</a>'\n",
              "            + ' to learn more about interactive tables.';\n",
              "          element.innerHTML = '';\n",
              "          dataTable['output_type'] = 'display_data';\n",
              "          await google.colab.output.renderOutput(dataTable, element);\n",
              "          const docLink = document.createElement('div');\n",
              "          docLink.innerHTML = docLinkHtml;\n",
              "          element.appendChild(docLink);\n",
              "        }\n",
              "      </script>\n",
              "    </div>\n",
              "  </div>\n",
              "  "
            ],
            "text/plain": [
              "               writers      Monetary    avg_count  avg_vote  Recency  Frequency\n",
              "0        John Lasseter  1.157143e+08  3295.000000  6.785714        4          7\n",
              "1          Pete Docter  1.275000e+08  5950.500000  7.666667        2          6\n",
              "2   Jonathan Hensleigh  6.828571e+07  1312.714286  6.414286        6          7\n",
              "3          Greg Taylor  3.850000e+07  1230.000000  6.300000       21          2\n",
              "4  Mark Steven Johnson  4.800000e+07   640.900000  5.470000       10         10"
            ]
          },
          "execution_count": 21,
          "metadata": {},
          "output_type": "execute_result"
        }
      ],
      "source": [
        "max_year = writ_df.year.max()\n",
        "writer_df['Lastyear'] = writ_df.groupby('writers')['year'].transform('max').astype('int')\n",
        "writer_df['Monetary'] = writ_df.groupby('writers')['budget_tmdb'].transform('mean')\n",
        "writer_df['avg_count'] = writ_df.groupby('writers')['vote_count'].transform('mean')\n",
        "writer_df['avg_vote'] = writ_df.groupby('writers')['vote_average'].transform('mean')\n",
        "writer_df['Recency'] = pd.Series(max_year - writer_df['Lastyear'])\n",
        "writer_df['Frequency'] = writ_df.groupby('writers')['id'].transform('count')\n",
        "writer_df = writer_df.drop('Lastyear', axis=1)\n",
        "writer_df_copy = writer_df.copy()\n",
        "writer_df_copy = writer_df_copy.drop('writers', axis=1)\n",
        "writer_df.head()"
      ]
    },
    {
      "cell_type": "code",
      "execution_count": null,
      "metadata": {
        "id": "wD5PhD8_fIjV"
      },
      "outputs": [],
      "source": [
        "if (Path('/content/drive/MyDrive/BDA/model/writers_kmeans.joblib').is_file() & \n",
        "    Path('/content/drive/MyDrive/BDA/image/writers_kmeans.png').is_file()) :\n",
        "  writers_kmeans = load('/content/drive/MyDrive/BDA/model/writers_kmeans.joblib')\n",
        "else:\n",
        "  # Normalization by Min-Max:\n",
        "  scaler_m = MinMaxScaler()\n",
        "  X_m = scaler_m.fit_transform(writer_df_copy.values)\n",
        "\n",
        "  sse_list = list()\n",
        "  max_k = 10\n",
        "  for k in range(2, max_k + 1):\n",
        "      kmeans = KMeans(n_clusters = k, n_init=10, max_iter=100, random_state=0)\n",
        "      kmeans.fit(X_m)\n",
        "      \n",
        "      sse = kmeans.inertia_\n",
        "      sse_list.append(sse)\n",
        "      \n",
        "  plt.plot(range(2, len(sse_list) + 2), sse_list,'-o')\n",
        "  plt.ylabel('SSE', fontsize=20)\n",
        "  plt.xlabel('K', fontsize=20)\n",
        "  plt.tick_params(axis='both', which='major', labelsize=15)\n",
        "  plt.tight_layout()\n",
        "  plt.savefig('/content/drive/MyDrive/BDA/image/writers_kmeans.png', format='png')\n",
        "  plt.show()\n",
        "  plt.close()\n",
        "\n",
        "  writers_kmeans = KMeans(n_clusters=5, n_init=10, max_iter=100, random_state=0)\n",
        "  writers_kmeans.fit(X_m)\n",
        "  dump(writers_kmeans, '/content/drive/MyDrive/BDA/model/writers_kmeans.joblib') "
      ]
    },
    {
      "cell_type": "markdown",
      "metadata": {
        "id": "56mGz80NvDFS"
      },
      "source": [
        "<img src = 'https://drive.google.com/uc?id=16OMOwAbTsMpEo8PxzC9inSPfNwzpjUDf'>"
      ]
    },
    {
      "cell_type": "code",
      "execution_count": null,
      "metadata": {
        "colab": {
          "base_uri": "https://localhost:8080/",
          "height": 290
        },
        "id": "jcsiSkMzA21Y",
        "outputId": "7185d079-5866-41de-c153-93b30bdfd8d4"
      },
      "outputs": [
        {
          "name": "stdout",
          "output_type": "stream",
          "text": [
            "{0: 793, 1: 3626, 2: 451, 3: 1644, 4: 2046}\n"
          ]
        },
        {
          "data": {
            "image/png": "[encoded data removed]",
            "text/plain": [
              "<Figure size 576x288 with 1 Axes>"
            ]
          },
          "metadata": {
            "needs_background": "light"
          },
          "output_type": "display_data"
        }
      ],
      "source": [
        "hist, bins = np.histogram(writers_kmeans.labels_, bins=range(0, len(set(writers_kmeans.labels_)) + 1))\n",
        "print(dict(zip(bins, hist)))\n",
        "\n",
        "plt.figure(figsize=(8, 4))\n",
        "for i in range(0, len(writers_kmeans.cluster_centers_)):\n",
        "    plt.plot(writers_kmeans.cluster_centers_[i], marker='o', label='Cluster %s' % i)\n",
        "plt.tick_params(axis='both', which='major', labelsize=10)\n",
        "plt.xticks(range(0, len(writer_df_copy.columns)), writer_df_copy.columns, fontsize=18)\n",
        "plt.legend(fontsize=10)\n",
        "plt.savefig('/content/drive/MyDrive/BDA/image/writer_cluster.png', format='png')\n",
        "plt.show()"
      ]
    },
    {
      "cell_type": "markdown",
      "metadata": {
        "id": "RiHLTPuNtmuP"
      },
      "source": [
        "In this case, in addition to 'avg vote', also 'recency' seems to have been decisive for the division.\n"
      ]
    },
    {
      "cell_type": "code",
      "execution_count": null,
      "metadata": {
        "colab": {
          "base_uri": "https://localhost:8080/",
          "height": 206
        },
        "id": "plbfjxm6fIjY",
        "outputId": "270287ba-977c-4aed-842f-92f537ede7bd"
      },
      "outputs": [
        {
          "data": {
            "text/html": [
              "\n",
              "  <div id=\"df-1c204bbd-f2dd-4067-8328-8c17d259c6e3\">\n",
              "    <div class=\"colab-df-container\">\n",
              "      <div>\n",
              "<style scoped>\n",
              "    .dataframe tbody tr th:only-of-type {\n",
              "        vertical-align: middle;\n",
              "    }\n",
              "\n",
              "    .dataframe tbody tr th {\n",
              "        vertical-align: top;\n",
              "    }\n",
              "\n",
              "    .dataframe thead th {\n",
              "        text-align: right;\n",
              "    }\n",
              "</style>\n",
              "<table border=\"1\" class=\"dataframe\">\n",
              "  <thead>\n",
              "    <tr style=\"text-align: right;\">\n",
              "      <th></th>\n",
              "      <th>writers</th>\n",
              "      <th>Monetary</th>\n",
              "      <th>avg_count</th>\n",
              "      <th>avg_vote</th>\n",
              "      <th>Recency</th>\n",
              "      <th>Frequency</th>\n",
              "      <th>K-Means_Labels</th>\n",
              "    </tr>\n",
              "  </thead>\n",
              "  <tbody>\n",
              "    <tr>\n",
              "      <th>0</th>\n",
              "      <td>John Lasseter</td>\n",
              "      <td>1.157143e+08</td>\n",
              "      <td>3295.000000</td>\n",
              "      <td>6.785714</td>\n",
              "      <td>4</td>\n",
              "      <td>7</td>\n",
              "      <td>0</td>\n",
              "    </tr>\n",
              "    <tr>\n",
              "      <th>1</th>\n",
              "      <td>Pete Docter</td>\n",
              "      <td>1.275000e+08</td>\n",
              "      <td>5950.500000</td>\n",
              "      <td>7.666667</td>\n",
              "      <td>2</td>\n",
              "      <td>6</td>\n",
              "      <td>0</td>\n",
              "    </tr>\n",
              "    <tr>\n",
              "      <th>2</th>\n",
              "      <td>Jonathan Hensleigh</td>\n",
              "      <td>6.828571e+07</td>\n",
              "      <td>1312.714286</td>\n",
              "      <td>6.414286</td>\n",
              "      <td>6</td>\n",
              "      <td>7</td>\n",
              "      <td>0</td>\n",
              "    </tr>\n",
              "    <tr>\n",
              "      <th>3</th>\n",
              "      <td>Greg Taylor</td>\n",
              "      <td>3.850000e+07</td>\n",
              "      <td>1230.000000</td>\n",
              "      <td>6.300000</td>\n",
              "      <td>21</td>\n",
              "      <td>2</td>\n",
              "      <td>3</td>\n",
              "    </tr>\n",
              "    <tr>\n",
              "      <th>4</th>\n",
              "      <td>Mark Steven Johnson</td>\n",
              "      <td>4.800000e+07</td>\n",
              "      <td>640.900000</td>\n",
              "      <td>5.470000</td>\n",
              "      <td>10</td>\n",
              "      <td>10</td>\n",
              "      <td>4</td>\n",
              "    </tr>\n",
              "  </tbody>\n",
              "</table>\n",
              "</div>\n",
              "      <button class=\"colab-df-convert\" onclick=\"convertToInteractive('df-1c204bbd-f2dd-4067-8328-8c17d259c6e3')\"\n",
              "              title=\"Convert this dataframe to an interactive table.\"\n",
              "              style=\"display:none;\">\n",
              "        \n",
              "  <svg xmlns=\"http://www.w3.org/2000/svg\" height=\"24px\"viewBox=\"0 0 24 24\"\n",
              "       width=\"24px\">\n",
              "    <path d=\"M0 0h24v24H0V0z\" fill=\"none\"/>\n",
              "    <path d=\"M18.56 5.44l.94 2.06.94-2.06 2.06-.94-2.06-.94-.94-2.06-.94 2.06-2.06.94zm-11 1L8.5 8.5l.94-2.06 2.06-.94-2.06-.94L8.5 2.5l-.94 2.06-2.06.94zm10 10l.94 2.06.94-2.06 2.06-.94-2.06-.94-.94-2.06-.94 2.06-2.06.94z\"/><path d=\"M17.41 7.96l-1.37-1.37c-.4-.4-.92-.59-1.43-.59-.52 0-1.04.2-1.43.59L10.3 9.45l-7.72 7.72c-.78.78-.78 2.05 0 2.83L4 21.41c.39.39.9.59 1.41.59.51 0 1.02-.2 1.41-.59l7.78-7.78 2.81-2.81c.8-.78.8-2.07 0-2.86zM5.41 20L4 18.59l7.72-7.72 1.47 1.35L5.41 20z\"/>\n",
              "  </svg>\n",
              "      </button>\n",
              "      \n",
              "  <style>\n",
              "    .colab-df-container {\n",
              "      display:flex;\n",
              "      flex-wrap:wrap;\n",
              "      gap: 12px;\n",
              "    }\n",
              "\n",
              "    .colab-df-convert {\n",
              "      background-color: #E8F0FE;\n",
              "      border: none;\n",
              "      border-radius: 50%;\n",
              "      cursor: pointer;\n",
              "      display: none;\n",
              "      fill: #1967D2;\n",
              "      height: 32px;\n",
              "      padding: 0 0 0 0;\n",
              "      width: 32px;\n",
              "    }\n",
              "\n",
              "    .colab-df-convert:hover {\n",
              "      background-color: #E2EBFA;\n",
              "      box-shadow: 0px 1px 2px rgba(60, 64, 67, 0.3), 0px 1px 3px 1px rgba(60, 64, 67, 0.15);\n",
              "      fill: #174EA6;\n",
              "    }\n",
              "\n",
              "    [theme=dark] .colab-df-convert {\n",
              "      background-color: #3B4455;\n",
              "      fill: #D2E3FC;\n",
              "    }\n",
              "\n",
              "    [theme=dark] .colab-df-convert:hover {\n",
              "      background-color: #434B5C;\n",
              "      box-shadow: 0px 1px 3px 1px rgba(0, 0, 0, 0.15);\n",
              "      filter: drop-shadow(0px 1px 2px rgba(0, 0, 0, 0.3));\n",
              "      fill: #FFFFFF;\n",
              "    }\n",
              "  </style>\n",
              "\n",
              "      <script>\n",
              "        const buttonEl =\n",
              "          document.querySelector('#df-1c204bbd-f2dd-4067-8328-8c17d259c6e3 button.colab-df-convert');\n",
              "        buttonEl.style.display =\n",
              "          google.colab.kernel.accessAllowed ? 'block' : 'none';\n",
              "\n",
              "        async function convertToInteractive(key) {\n",
              "          const element = document.querySelector('#df-1c204bbd-f2dd-4067-8328-8c17d259c6e3');\n",
              "          const dataTable =\n",
              "            await google.colab.kernel.invokeFunction('convertToInteractive',\n",
              "                                                     [key], {});\n",
              "          if (!dataTable) return;\n",
              "\n",
              "          const docLinkHtml = 'Like what you see? Visit the ' +\n",
              "            '<a target=\"_blank\" href=https://colab.research.google.com/notebooks/data_table.ipynb>data table notebook</a>'\n",
              "            + ' to learn more about interactive tables.';\n",
              "          element.innerHTML = '';\n",
              "          dataTable['output_type'] = 'display_data';\n",
              "          await google.colab.output.renderOutput(dataTable, element);\n",
              "          const docLink = document.createElement('div');\n",
              "          docLink.innerHTML = docLinkHtml;\n",
              "          element.appendChild(docLink);\n",
              "        }\n",
              "      </script>\n",
              "    </div>\n",
              "  </div>\n",
              "  "
            ],
            "text/plain": [
              "               writers      Monetary  ...  Frequency  K-Means_Labels\n",
              "0        John Lasseter  1.157143e+08  ...          7               0\n",
              "1          Pete Docter  1.275000e+08  ...          6               0\n",
              "2   Jonathan Hensleigh  6.828571e+07  ...          7               0\n",
              "3          Greg Taylor  3.850000e+07  ...          2               3\n",
              "4  Mark Steven Johnson  4.800000e+07  ...         10               4\n",
              "\n",
              "[5 rows x 7 columns]"
            ]
          },
          "execution_count": 24,
          "metadata": {},
          "output_type": "execute_result"
        }
      ],
      "source": [
        "writer_df['K-Means_Labels'] = writers_kmeans.labels_\n",
        "writer_df.head()"
      ]
    },
    {
      "cell_type": "code",
      "execution_count": null,
      "metadata": {
        "id": "rnxjfrMefIjb"
      },
      "outputs": [],
      "source": [
        "writer_dic = writer_df[['writers','K-Means_Labels']].set_index('writers').to_dict()\n",
        "df['labels'] = df['writer'].apply(lambda values: list(map(lambda x: writer_dic['K-Means_Labels'][x], values)))\n",
        "\n",
        "for label in range(len(writers_kmeans.cluster_centers_)):\n",
        "  df['writer_label_'+str(label)] = df['labels'].apply(\n",
        "      lambda values: int(label in values)\n",
        "  )\n",
        "\n",
        "df = df.drop(['labels','writer'],axis=1)"
      ]
    },
    {
      "cell_type": "markdown",
      "metadata": {
        "id": "g1QLHSF_hRhs"
      },
      "source": [
        "#### **Encoding director by Clustering:**"
      ]
    },
    {
      "cell_type": "code",
      "execution_count": null,
      "metadata": {
        "colab": {
          "base_uri": "https://localhost:8080/"
        },
        "id": "D7OpdIUVhRht",
        "outputId": "4f61bea2-503e-4fdd-b467-b099bf73fdfe"
      },
      "outputs": [
        {
          "data": {
            "text/plain": [
              "(4065, 1)"
            ]
          },
          "execution_count": 26,
          "metadata": {},
          "output_type": "execute_result"
        }
      ],
      "source": [
        "s = df.apply(lambda x: pd.Series(x['director_tmdb']),axis=1).stack().reset_index(level=1, drop=True)\n",
        "s.name = 'directors'\n",
        "\n",
        "dir_df = df.drop('director_tmdb', axis=1).join(s).reset_index().drop('index', axis=1)\n",
        "dir_df = dir_df[~dir_df['directors'].isnull()]\n",
        "director_df = dir_df[['directors']].drop_duplicates()\n",
        "director_df.shape"
      ]
    },
    {
      "cell_type": "markdown",
      "metadata": {
        "id": "6SjyohJxhRhx"
      },
      "source": [
        "Extract RFM features from describing director profile:"
      ]
    },
    {
      "cell_type": "code",
      "execution_count": null,
      "metadata": {
        "colab": {
          "base_uri": "https://localhost:8080/",
          "height": 206
        },
        "id": "40D-taV5hRhx",
        "outputId": "1f879a3b-f8c4-43ce-b6b0-51539faba753"
      },
      "outputs": [
        {
          "data": {
            "text/html": [
              "\n",
              "  <div id=\"df-d0ed32b9-7129-4c5f-903e-79e9b9c5c259\">\n",
              "    <div class=\"colab-df-container\">\n",
              "      <div>\n",
              "<style scoped>\n",
              "    .dataframe tbody tr th:only-of-type {\n",
              "        vertical-align: middle;\n",
              "    }\n",
              "\n",
              "    .dataframe tbody tr th {\n",
              "        vertical-align: top;\n",
              "    }\n",
              "\n",
              "    .dataframe thead th {\n",
              "        text-align: right;\n",
              "    }\n",
              "</style>\n",
              "<table border=\"1\" class=\"dataframe\">\n",
              "  <thead>\n",
              "    <tr style=\"text-align: right;\">\n",
              "      <th></th>\n",
              "      <th>directors</th>\n",
              "      <th>Monetary</th>\n",
              "      <th>avg_count</th>\n",
              "      <th>avg_vote</th>\n",
              "      <th>Recency</th>\n",
              "      <th>Frequency</th>\n",
              "    </tr>\n",
              "  </thead>\n",
              "  <tbody>\n",
              "    <tr>\n",
              "      <th>0</th>\n",
              "      <td>John Lasseter</td>\n",
              "      <td>1.120000e+08</td>\n",
              "      <td>3557.400000</td>\n",
              "      <td>6.840000</td>\n",
              "      <td>6</td>\n",
              "      <td>5</td>\n",
              "    </tr>\n",
              "    <tr>\n",
              "      <th>1</th>\n",
              "      <td>Joe Johnston</td>\n",
              "      <td>7.488889e+07</td>\n",
              "      <td>1559.666667</td>\n",
              "      <td>6.355556</td>\n",
              "      <td>6</td>\n",
              "      <td>9</td>\n",
              "    </tr>\n",
              "    <tr>\n",
              "      <th>2</th>\n",
              "      <td>Howard Deutch</td>\n",
              "      <td>2.657143e+07</td>\n",
              "      <td>183.428571</td>\n",
              "      <td>6.014286</td>\n",
              "      <td>9</td>\n",
              "      <td>7</td>\n",
              "    </tr>\n",
              "    <tr>\n",
              "      <th>3</th>\n",
              "      <td>Forest Whitaker</td>\n",
              "      <td>2.533333e+07</td>\n",
              "      <td>97.333333</td>\n",
              "      <td>5.766667</td>\n",
              "      <td>13</td>\n",
              "      <td>3</td>\n",
              "    </tr>\n",
              "    <tr>\n",
              "      <th>4</th>\n",
              "      <td>Charles Shyer</td>\n",
              "      <td>3.420000e+07</td>\n",
              "      <td>101.600000</td>\n",
              "      <td>5.500000</td>\n",
              "      <td>13</td>\n",
              "      <td>5</td>\n",
              "    </tr>\n",
              "  </tbody>\n",
              "</table>\n",
              "</div>\n",
              "      <button class=\"colab-df-convert\" onclick=\"convertToInteractive('df-d0ed32b9-7129-4c5f-903e-79e9b9c5c259')\"\n",
              "              title=\"Convert this dataframe to an interactive table.\"\n",
              "              style=\"display:none;\">\n",
              "        \n",
              "  <svg xmlns=\"http://www.w3.org/2000/svg\" height=\"24px\"viewBox=\"0 0 24 24\"\n",
              "       width=\"24px\">\n",
              "    <path d=\"M0 0h24v24H0V0z\" fill=\"none\"/>\n",
              "    <path d=\"M18.56 5.44l.94 2.06.94-2.06 2.06-.94-2.06-.94-.94-2.06-.94 2.06-2.06.94zm-11 1L8.5 8.5l.94-2.06 2.06-.94-2.06-.94L8.5 2.5l-.94 2.06-2.06.94zm10 10l.94 2.06.94-2.06 2.06-.94-2.06-.94-.94-2.06-.94 2.06-2.06.94z\"/><path d=\"M17.41 7.96l-1.37-1.37c-.4-.4-.92-.59-1.43-.59-.52 0-1.04.2-1.43.59L10.3 9.45l-7.72 7.72c-.78.78-.78 2.05 0 2.83L4 21.41c.39.39.9.59 1.41.59.51 0 1.02-.2 1.41-.59l7.78-7.78 2.81-2.81c.8-.78.8-2.07 0-2.86zM5.41 20L4 18.59l7.72-7.72 1.47 1.35L5.41 20z\"/>\n",
              "  </svg>\n",
              "      </button>\n",
              "      \n",
              "  <style>\n",
              "    .colab-df-container {\n",
              "      display:flex;\n",
              "      flex-wrap:wrap;\n",
              "      gap: 12px;\n",
              "    }\n",
              "\n",
              "    .colab-df-convert {\n",
              "      background-color: #E8F0FE;\n",
              "      border: none;\n",
              "      border-radius: 50%;\n",
              "      cursor: pointer;\n",
              "      display: none;\n",
              "      fill: #1967D2;\n",
              "      height: 32px;\n",
              "      padding: 0 0 0 0;\n",
              "      width: 32px;\n",
              "    }\n",
              "\n",
              "    .colab-df-convert:hover {\n",
              "      background-color: #E2EBFA;\n",
              "      box-shadow: 0px 1px 2px rgba(60, 64, 67, 0.3), 0px 1px 3px 1px rgba(60, 64, 67, 0.15);\n",
              "      fill: #174EA6;\n",
              "    }\n",
              "\n",
              "    [theme=dark] .colab-df-convert {\n",
              "      background-color: #3B4455;\n",
              "      fill: #D2E3FC;\n",
              "    }\n",
              "\n",
              "    [theme=dark] .colab-df-convert:hover {\n",
              "      background-color: #434B5C;\n",
              "      box-shadow: 0px 1px 3px 1px rgba(0, 0, 0, 0.15);\n",
              "      filter: drop-shadow(0px 1px 2px rgba(0, 0, 0, 0.3));\n",
              "      fill: #FFFFFF;\n",
              "    }\n",
              "  </style>\n",
              "\n",
              "      <script>\n",
              "        const buttonEl =\n",
              "          document.querySelector('#df-d0ed32b9-7129-4c5f-903e-79e9b9c5c259 button.colab-df-convert');\n",
              "        buttonEl.style.display =\n",
              "          google.colab.kernel.accessAllowed ? 'block' : 'none';\n",
              "\n",
              "        async function convertToInteractive(key) {\n",
              "          const element = document.querySelector('#df-d0ed32b9-7129-4c5f-903e-79e9b9c5c259');\n",
              "          const dataTable =\n",
              "            await google.colab.kernel.invokeFunction('convertToInteractive',\n",
              "                                                     [key], {});\n",
              "          if (!dataTable) return;\n",
              "\n",
              "          const docLinkHtml = 'Like what you see? Visit the ' +\n",
              "            '<a target=\"_blank\" href=https://colab.research.google.com/notebooks/data_table.ipynb>data table notebook</a>'\n",
              "            + ' to learn more about interactive tables.';\n",
              "          element.innerHTML = '';\n",
              "          dataTable['output_type'] = 'display_data';\n",
              "          await google.colab.output.renderOutput(dataTable, element);\n",
              "          const docLink = document.createElement('div');\n",
              "          docLink.innerHTML = docLinkHtml;\n",
              "          element.appendChild(docLink);\n",
              "        }\n",
              "      </script>\n",
              "    </div>\n",
              "  </div>\n",
              "  "
            ],
            "text/plain": [
              "         directors      Monetary    avg_count  avg_vote  Recency  Frequency\n",
              "0    John Lasseter  1.120000e+08  3557.400000  6.840000        6          5\n",
              "1     Joe Johnston  7.488889e+07  1559.666667  6.355556        6          9\n",
              "2    Howard Deutch  2.657143e+07   183.428571  6.014286        9          7\n",
              "3  Forest Whitaker  2.533333e+07    97.333333  5.766667       13          3\n",
              "4    Charles Shyer  3.420000e+07   101.600000  5.500000       13          5"
            ]
          },
          "execution_count": 27,
          "metadata": {},
          "output_type": "execute_result"
        }
      ],
      "source": [
        "max_year = dir_df.year.max()\n",
        "director_df['Lastyear'] = dir_df.groupby('directors')['year'].transform('max').astype('int')\n",
        "director_df['Monetary'] = dir_df.groupby('directors')['budget_tmdb'].transform('mean')\n",
        "director_df['avg_count'] = dir_df.groupby('directors')['vote_count'].transform('mean')\n",
        "director_df['avg_vote'] = dir_df.groupby('directors')['vote_average'].transform('mean')\n",
        "director_df['Recency'] = pd.Series(max_year - director_df['Lastyear'])\n",
        "director_df['Frequency'] = dir_df.groupby('directors')['id'].transform('count')\n",
        "director_df = director_df.drop('Lastyear', axis=1)\n",
        "director_df_copy = director_df.copy()\n",
        "director_df_copy = director_df_copy.drop('directors', axis=1)\n",
        "director_df.head()"
      ]
    },
    {
      "cell_type": "code",
      "execution_count": null,
      "metadata": {
        "id": "Ad2sedi5hRhy"
      },
      "outputs": [],
      "source": [
        "if (Path('/content/drive/MyDrive/BDA/model/directors_kmeans.joblib').is_file() & \n",
        "    Path('/content/drive/MyDrive/BDA/image/directors_kmeans.png').is_file()) :\n",
        "  directors_kmeans = load('/content/drive/MyDrive/BDA/model/directors_kmeans.joblib')\n",
        "else:\n",
        "  # Normalization by Min-Max:\n",
        "  scaler_m = MinMaxScaler()\n",
        "  X_m = scaler_m.fit_transform(director_df_copy.values)\n",
        "\n",
        "  sse_list = list()\n",
        "  max_k = 10\n",
        "  for k in range(2, max_k + 1):\n",
        "      kmeans = KMeans(n_clusters = k, n_init=10, max_iter=100, random_state=0)\n",
        "      kmeans.fit(X_m)\n",
        "      \n",
        "      sse = kmeans.inertia_\n",
        "      sse_list.append(sse)\n",
        "      \n",
        "  plt.plot(range(2, len(sse_list) + 2), sse_list,'-o')\n",
        "  plt.ylabel('SSE', fontsize=20)\n",
        "  plt.xlabel('K', fontsize=20)\n",
        "  plt.tick_params(axis='both', which='major', labelsize=15)\n",
        "  plt.tight_layout()\n",
        "  plt.savefig('/content/drive/MyDrive/BDA/image/directors_kmeans.png', format='png')\n",
        "  plt.show()\n",
        "  plt.close()\n",
        "\n",
        "  directors_kmeans = KMeans(n_clusters=4, n_init=10, max_iter=100, random_state=0)\n",
        "  directors_kmeans.fit(X_m)\n",
        "  dump(directors_kmeans, '/content/drive/MyDrive/BDA/model/directors_kmeans.joblib') "
      ]
    },
    {
      "cell_type": "markdown",
      "metadata": {
        "id": "T5rzIqYxvfcf"
      },
      "source": [
        "<img src = 'https://drive.google.com/uc?id=16a1zAtUjqYCCB2BbrZ88BN8a9jaQBcgX'>"
      ]
    },
    {
      "cell_type": "code",
      "execution_count": null,
      "metadata": {
        "colab": {
          "base_uri": "https://localhost:8080/",
          "height": 290
        },
        "id": "T48KwLCX4hwh",
        "outputId": "26f7490e-3f1b-4b55-f56b-f748eb6e7431"
      },
      "outputs": [
        {
          "name": "stdout",
          "output_type": "stream",
          "text": [
            "{0: 1270, 1: 399, 2: 2067, 3: 329}\n"
          ]
        },
        {
          "data": {
            "image/png": "[encoded data removed]",
            "text/plain": [
              "<Figure size 576x288 with 1 Axes>"
            ]
          },
          "metadata": {
            "needs_background": "light"
          },
          "output_type": "display_data"
        }
      ],
      "source": [
        "hist, bins = np.histogram(directors_kmeans.labels_, bins=range(0, len(set(directors_kmeans.labels_)) + 1))\n",
        "print(dict(zip(bins, hist)))\n",
        "\n",
        "plt.figure(figsize=(8, 4))\n",
        "for i in range(0, len(directors_kmeans.cluster_centers_)):\n",
        "    plt.plot(directors_kmeans.cluster_centers_[i], marker='o', label='Cluster %s' % i)\n",
        "plt.tick_params(axis='both', which='major', labelsize=10)\n",
        "plt.xticks(range(0, len(director_df_copy.columns)), director_df_copy.columns, fontsize=18)\n",
        "plt.legend(fontsize=10)\n",
        "plt.savefig('/content/drive/MyDrive/BDA/image/director_cluster.png', format='png')\n",
        "plt.show()"
      ]
    },
    {
      "cell_type": "code",
      "execution_count": null,
      "metadata": {
        "colab": {
          "base_uri": "https://localhost:8080/",
          "height": 206
        },
        "id": "5soxZyRlhRh0",
        "outputId": "ebc2b542-bab3-4aa7-ec7b-689194905d30"
      },
      "outputs": [
        {
          "data": {
            "text/html": [
              "\n",
              "  <div id=\"df-4cd134d5-1c8c-455c-882e-73f8c749be02\">\n",
              "    <div class=\"colab-df-container\">\n",
              "      <div>\n",
              "<style scoped>\n",
              "    .dataframe tbody tr th:only-of-type {\n",
              "        vertical-align: middle;\n",
              "    }\n",
              "\n",
              "    .dataframe tbody tr th {\n",
              "        vertical-align: top;\n",
              "    }\n",
              "\n",
              "    .dataframe thead th {\n",
              "        text-align: right;\n",
              "    }\n",
              "</style>\n",
              "<table border=\"1\" class=\"dataframe\">\n",
              "  <thead>\n",
              "    <tr style=\"text-align: right;\">\n",
              "      <th></th>\n",
              "      <th>directors</th>\n",
              "      <th>Monetary</th>\n",
              "      <th>avg_count</th>\n",
              "      <th>avg_vote</th>\n",
              "      <th>Recency</th>\n",
              "      <th>Frequency</th>\n",
              "      <th>K-Means_Labels</th>\n",
              "    </tr>\n",
              "  </thead>\n",
              "  <tbody>\n",
              "    <tr>\n",
              "      <th>0</th>\n",
              "      <td>John Lasseter</td>\n",
              "      <td>1.120000e+08</td>\n",
              "      <td>3557.400000</td>\n",
              "      <td>6.840000</td>\n",
              "      <td>6</td>\n",
              "      <td>5</td>\n",
              "      <td>3</td>\n",
              "    </tr>\n",
              "    <tr>\n",
              "      <th>1</th>\n",
              "      <td>Joe Johnston</td>\n",
              "      <td>7.488889e+07</td>\n",
              "      <td>1559.666667</td>\n",
              "      <td>6.355556</td>\n",
              "      <td>6</td>\n",
              "      <td>9</td>\n",
              "      <td>3</td>\n",
              "    </tr>\n",
              "    <tr>\n",
              "      <th>2</th>\n",
              "      <td>Howard Deutch</td>\n",
              "      <td>2.657143e+07</td>\n",
              "      <td>183.428571</td>\n",
              "      <td>6.014286</td>\n",
              "      <td>9</td>\n",
              "      <td>7</td>\n",
              "      <td>2</td>\n",
              "    </tr>\n",
              "    <tr>\n",
              "      <th>3</th>\n",
              "      <td>Forest Whitaker</td>\n",
              "      <td>2.533333e+07</td>\n",
              "      <td>97.333333</td>\n",
              "      <td>5.766667</td>\n",
              "      <td>13</td>\n",
              "      <td>3</td>\n",
              "      <td>2</td>\n",
              "    </tr>\n",
              "    <tr>\n",
              "      <th>4</th>\n",
              "      <td>Charles Shyer</td>\n",
              "      <td>3.420000e+07</td>\n",
              "      <td>101.600000</td>\n",
              "      <td>5.500000</td>\n",
              "      <td>13</td>\n",
              "      <td>5</td>\n",
              "      <td>0</td>\n",
              "    </tr>\n",
              "  </tbody>\n",
              "</table>\n",
              "</div>\n",
              "      <button class=\"colab-df-convert\" onclick=\"convertToInteractive('df-4cd134d5-1c8c-455c-882e-73f8c749be02')\"\n",
              "              title=\"Convert this dataframe to an interactive table.\"\n",
              "              style=\"display:none;\">\n",
              "        \n",
              "  <svg xmlns=\"http://www.w3.org/2000/svg\" height=\"24px\"viewBox=\"0 0 24 24\"\n",
              "       width=\"24px\">\n",
              "    <path d=\"M0 0h24v24H0V0z\" fill=\"none\"/>\n",
              "    <path d=\"M18.56 5.44l.94 2.06.94-2.06 2.06-.94-2.06-.94-.94-2.06-.94 2.06-2.06.94zm-11 1L8.5 8.5l.94-2.06 2.06-.94-2.06-.94L8.5 2.5l-.94 2.06-2.06.94zm10 10l.94 2.06.94-2.06 2.06-.94-2.06-.94-.94-2.06-.94 2.06-2.06.94z\"/><path d=\"M17.41 7.96l-1.37-1.37c-.4-.4-.92-.59-1.43-.59-.52 0-1.04.2-1.43.59L10.3 9.45l-7.72 7.72c-.78.78-.78 2.05 0 2.83L4 21.41c.39.39.9.59 1.41.59.51 0 1.02-.2 1.41-.59l7.78-7.78 2.81-2.81c.8-.78.8-2.07 0-2.86zM5.41 20L4 18.59l7.72-7.72 1.47 1.35L5.41 20z\"/>\n",
              "  </svg>\n",
              "      </button>\n",
              "      \n",
              "  <style>\n",
              "    .colab-df-container {\n",
              "      display:flex;\n",
              "      flex-wrap:wrap;\n",
              "      gap: 12px;\n",
              "    }\n",
              "\n",
              "    .colab-df-convert {\n",
              "      background-color: #E8F0FE;\n",
              "      border: none;\n",
              "      border-radius: 50%;\n",
              "      cursor: pointer;\n",
              "      display: none;\n",
              "      fill: #1967D2;\n",
              "      height: 32px;\n",
              "      padding: 0 0 0 0;\n",
              "      width: 32px;\n",
              "    }\n",
              "\n",
              "    .colab-df-convert:hover {\n",
              "      background-color: #E2EBFA;\n",
              "      box-shadow: 0px 1px 2px rgba(60, 64, 67, 0.3), 0px 1px 3px 1px rgba(60, 64, 67, 0.15);\n",
              "      fill: #174EA6;\n",
              "    }\n",
              "\n",
              "    [theme=dark] .colab-df-convert {\n",
              "      background-color: #3B4455;\n",
              "      fill: #D2E3FC;\n",
              "    }\n",
              "\n",
              "    [theme=dark] .colab-df-convert:hover {\n",
              "      background-color: #434B5C;\n",
              "      box-shadow: 0px 1px 3px 1px rgba(0, 0, 0, 0.15);\n",
              "      filter: drop-shadow(0px 1px 2px rgba(0, 0, 0, 0.3));\n",
              "      fill: #FFFFFF;\n",
              "    }\n",
              "  </style>\n",
              "\n",
              "      <script>\n",
              "        const buttonEl =\n",
              "          document.querySelector('#df-4cd134d5-1c8c-455c-882e-73f8c749be02 button.colab-df-convert');\n",
              "        buttonEl.style.display =\n",
              "          google.colab.kernel.accessAllowed ? 'block' : 'none';\n",
              "\n",
              "        async function convertToInteractive(key) {\n",
              "          const element = document.querySelector('#df-4cd134d5-1c8c-455c-882e-73f8c749be02');\n",
              "          const dataTable =\n",
              "            await google.colab.kernel.invokeFunction('convertToInteractive',\n",
              "                                                     [key], {});\n",
              "          if (!dataTable) return;\n",
              "\n",
              "          const docLinkHtml = 'Like what you see? Visit the ' +\n",
              "            '<a target=\"_blank\" href=https://colab.research.google.com/notebooks/data_table.ipynb>data table notebook</a>'\n",
              "            + ' to learn more about interactive tables.';\n",
              "          element.innerHTML = '';\n",
              "          dataTable['output_type'] = 'display_data';\n",
              "          await google.colab.output.renderOutput(dataTable, element);\n",
              "          const docLink = document.createElement('div');\n",
              "          docLink.innerHTML = docLinkHtml;\n",
              "          element.appendChild(docLink);\n",
              "        }\n",
              "      </script>\n",
              "    </div>\n",
              "  </div>\n",
              "  "
            ],
            "text/plain": [
              "         directors      Monetary  ...  Frequency  K-Means_Labels\n",
              "0    John Lasseter  1.120000e+08  ...          5               3\n",
              "1     Joe Johnston  7.488889e+07  ...          9               3\n",
              "2    Howard Deutch  2.657143e+07  ...          7               2\n",
              "3  Forest Whitaker  2.533333e+07  ...          3               2\n",
              "4    Charles Shyer  3.420000e+07  ...          5               0\n",
              "\n",
              "[5 rows x 7 columns]"
            ]
          },
          "execution_count": 30,
          "metadata": {},
          "output_type": "execute_result"
        }
      ],
      "source": [
        "director_df['K-Means_Labels'] = directors_kmeans.labels_\n",
        "director_df.head()"
      ]
    },
    {
      "cell_type": "code",
      "execution_count": null,
      "metadata": {
        "id": "btHSm7pkhRh1"
      },
      "outputs": [],
      "source": [
        "director_dic = director_df[['directors','K-Means_Labels']].set_index('directors').to_dict()\n",
        "df['labels'] = df['director_tmdb'].apply(lambda value: director_dic['K-Means_Labels'][value])\n",
        "\n",
        "for label in range(len(directors_kmeans.cluster_centers_)):\n",
        "  df['director_label_'+str(label)] = df['labels'].apply(\n",
        "      lambda value: int(label == value)\n",
        "  )\n",
        "\n",
        "df = df.drop(['labels','director_tmdb'],axis=1)"
      ]
    },
    {
      "cell_type": "markdown",
      "metadata": {
        "id": "RciKwjSSiK-Z"
      },
      "source": [
        "#### **Encoding actors by Clustering:**"
      ]
    },
    {
      "cell_type": "code",
      "execution_count": null,
      "metadata": {
        "colab": {
          "base_uri": "https://localhost:8080/"
        },
        "id": "_rmOjGah8_Cx",
        "outputId": "9613eb34-46e7-4c0c-be4b-f673de1e8b8c"
      },
      "outputs": [
        {
          "data": {
            "text/plain": [
              "(9963, 1)"
            ]
          },
          "execution_count": 32,
          "metadata": {},
          "output_type": "execute_result"
        }
      ],
      "source": [
        "df['actors_tmdb'] = df['actors_tmdb'].apply(ast.literal_eval).values.tolist()\n",
        "s = df.apply(lambda x: pd.Series(x['actors_tmdb']),axis=1).stack().reset_index(level=1, drop=True)\n",
        "s.name = 'actors'\n",
        "\n",
        "act_df = df.drop('actors_tmdb', axis=1).join(s).reset_index().drop('index', axis=1)\n",
        "act_df = act_df[~act_df['actors'].isnull()]\n",
        "actor_df = act_df[['actors']].drop_duplicates()\n",
        "actor_df.shape"
      ]
    },
    {
      "cell_type": "markdown",
      "metadata": {
        "id": "N7nwBw21-uyc"
      },
      "source": [
        "Extract RFM features from describing actor profile:"
      ]
    },
    {
      "cell_type": "code",
      "execution_count": null,
      "metadata": {
        "colab": {
          "base_uri": "https://localhost:8080/",
          "height": 206
        },
        "id": "LePvgVIiGcKZ",
        "outputId": "e23150dd-9130-461a-d9e3-99f10b1cd3e2"
      },
      "outputs": [
        {
          "data": {
            "text/html": [
              "\n",
              "  <div id=\"df-5ebd79b4-5dda-42c9-8dfb-3d2b61e3f26e\">\n",
              "    <div class=\"colab-df-container\">\n",
              "      <div>\n",
              "<style scoped>\n",
              "    .dataframe tbody tr th:only-of-type {\n",
              "        vertical-align: middle;\n",
              "    }\n",
              "\n",
              "    .dataframe tbody tr th {\n",
              "        vertical-align: top;\n",
              "    }\n",
              "\n",
              "    .dataframe thead th {\n",
              "        text-align: right;\n",
              "    }\n",
              "</style>\n",
              "<table border=\"1\" class=\"dataframe\">\n",
              "  <thead>\n",
              "    <tr style=\"text-align: right;\">\n",
              "      <th></th>\n",
              "      <th>actors</th>\n",
              "      <th>Monetary</th>\n",
              "      <th>avg_count</th>\n",
              "      <th>avg_vote</th>\n",
              "      <th>Recency</th>\n",
              "      <th>Frequency</th>\n",
              "    </tr>\n",
              "  </thead>\n",
              "  <tbody>\n",
              "    <tr>\n",
              "      <th>0</th>\n",
              "      <td>Tom Hanks</td>\n",
              "      <td>5.352381e+07</td>\n",
              "      <td>1738.785714</td>\n",
              "      <td>6.652381</td>\n",
              "      <td>0</td>\n",
              "      <td>42</td>\n",
              "    </tr>\n",
              "    <tr>\n",
              "      <th>1</th>\n",
              "      <td>Tim Allen</td>\n",
              "      <td>4.535294e+07</td>\n",
              "      <td>980.647059</td>\n",
              "      <td>5.888235</td>\n",
              "      <td>4</td>\n",
              "      <td>17</td>\n",
              "    </tr>\n",
              "    <tr>\n",
              "      <th>2</th>\n",
              "      <td>Don Rickles</td>\n",
              "      <td>1.700000e+07</td>\n",
              "      <td>2803.000000</td>\n",
              "      <td>7.450000</td>\n",
              "      <td>22</td>\n",
              "      <td>2</td>\n",
              "    </tr>\n",
              "    <tr>\n",
              "      <th>3</th>\n",
              "      <td>Robin Williams</td>\n",
              "      <td>3.845854e+07</td>\n",
              "      <td>667.951220</td>\n",
              "      <td>6.219512</td>\n",
              "      <td>4</td>\n",
              "      <td>41</td>\n",
              "    </tr>\n",
              "    <tr>\n",
              "      <th>4</th>\n",
              "      <td>Jonathan Hyde</td>\n",
              "      <td>6.500000e+07</td>\n",
              "      <td>2413.000000</td>\n",
              "      <td>6.900000</td>\n",
              "      <td>22</td>\n",
              "      <td>1</td>\n",
              "    </tr>\n",
              "  </tbody>\n",
              "</table>\n",
              "</div>\n",
              "      <button class=\"colab-df-convert\" onclick=\"convertToInteractive('df-5ebd79b4-5dda-42c9-8dfb-3d2b61e3f26e')\"\n",
              "              title=\"Convert this dataframe to an interactive table.\"\n",
              "              style=\"display:none;\">\n",
              "        \n",
              "  <svg xmlns=\"http://www.w3.org/2000/svg\" height=\"24px\"viewBox=\"0 0 24 24\"\n",
              "       width=\"24px\">\n",
              "    <path d=\"M0 0h24v24H0V0z\" fill=\"none\"/>\n",
              "    <path d=\"M18.56 5.44l.94 2.06.94-2.06 2.06-.94-2.06-.94-.94-2.06-.94 2.06-2.06.94zm-11 1L8.5 8.5l.94-2.06 2.06-.94-2.06-.94L8.5 2.5l-.94 2.06-2.06.94zm10 10l.94 2.06.94-2.06 2.06-.94-2.06-.94-.94-2.06-.94 2.06-2.06.94z\"/><path d=\"M17.41 7.96l-1.37-1.37c-.4-.4-.92-.59-1.43-.59-.52 0-1.04.2-1.43.59L10.3 9.45l-7.72 7.72c-.78.78-.78 2.05 0 2.83L4 21.41c.39.39.9.59 1.41.59.51 0 1.02-.2 1.41-.59l7.78-7.78 2.81-2.81c.8-.78.8-2.07 0-2.86zM5.41 20L4 18.59l7.72-7.72 1.47 1.35L5.41 20z\"/>\n",
              "  </svg>\n",
              "      </button>\n",
              "      \n",
              "  <style>\n",
              "    .colab-df-container {\n",
              "      display:flex;\n",
              "      flex-wrap:wrap;\n",
              "      gap: 12px;\n",
              "    }\n",
              "\n",
              "    .colab-df-convert {\n",
              "      background-color: #E8F0FE;\n",
              "      border: none;\n",
              "      border-radius: 50%;\n",
              "      cursor: pointer;\n",
              "      display: none;\n",
              "      fill: #1967D2;\n",
              "      height: 32px;\n",
              "      padding: 0 0 0 0;\n",
              "      width: 32px;\n",
              "    }\n",
              "\n",
              "    .colab-df-convert:hover {\n",
              "      background-color: #E2EBFA;\n",
              "      box-shadow: 0px 1px 2px rgba(60, 64, 67, 0.3), 0px 1px 3px 1px rgba(60, 64, 67, 0.15);\n",
              "      fill: #174EA6;\n",
              "    }\n",
              "\n",
              "    [theme=dark] .colab-df-convert {\n",
              "      background-color: #3B4455;\n",
              "      fill: #D2E3FC;\n",
              "    }\n",
              "\n",
              "    [theme=dark] .colab-df-convert:hover {\n",
              "      background-color: #434B5C;\n",
              "      box-shadow: 0px 1px 3px 1px rgba(0, 0, 0, 0.15);\n",
              "      filter: drop-shadow(0px 1px 2px rgba(0, 0, 0, 0.3));\n",
              "      fill: #FFFFFF;\n",
              "    }\n",
              "  </style>\n",
              "\n",
              "      <script>\n",
              "        const buttonEl =\n",
              "          document.querySelector('#df-5ebd79b4-5dda-42c9-8dfb-3d2b61e3f26e button.colab-df-convert');\n",
              "        buttonEl.style.display =\n",
              "          google.colab.kernel.accessAllowed ? 'block' : 'none';\n",
              "\n",
              "        async function convertToInteractive(key) {\n",
              "          const element = document.querySelector('#df-5ebd79b4-5dda-42c9-8dfb-3d2b61e3f26e');\n",
              "          const dataTable =\n",
              "            await google.colab.kernel.invokeFunction('convertToInteractive',\n",
              "                                                     [key], {});\n",
              "          if (!dataTable) return;\n",
              "\n",
              "          const docLinkHtml = 'Like what you see? Visit the ' +\n",
              "            '<a target=\"_blank\" href=https://colab.research.google.com/notebooks/data_table.ipynb>data table notebook</a>'\n",
              "            + ' to learn more about interactive tables.';\n",
              "          element.innerHTML = '';\n",
              "          dataTable['output_type'] = 'display_data';\n",
              "          await google.colab.output.renderOutput(dataTable, element);\n",
              "          const docLink = document.createElement('div');\n",
              "          docLink.innerHTML = docLinkHtml;\n",
              "          element.appendChild(docLink);\n",
              "        }\n",
              "      </script>\n",
              "    </div>\n",
              "  </div>\n",
              "  "
            ],
            "text/plain": [
              "           actors      Monetary    avg_count  avg_vote  Recency  Frequency\n",
              "0       Tom Hanks  5.352381e+07  1738.785714  6.652381        0         42\n",
              "1       Tim Allen  4.535294e+07   980.647059  5.888235        4         17\n",
              "2     Don Rickles  1.700000e+07  2803.000000  7.450000       22          2\n",
              "3  Robin Williams  3.845854e+07   667.951220  6.219512        4         41\n",
              "4   Jonathan Hyde  6.500000e+07  2413.000000  6.900000       22          1"
            ]
          },
          "execution_count": 33,
          "metadata": {},
          "output_type": "execute_result"
        }
      ],
      "source": [
        "max_year = act_df.year.max()\n",
        "actor_df['Lastyear'] = act_df.groupby('actors')['year'].transform('max').astype('int')\n",
        "actor_df['Monetary'] = act_df.groupby('actors')['budget_tmdb'].transform('mean')\n",
        "actor_df['avg_count'] = act_df.groupby('actors')['vote_count'].transform('mean')\n",
        "actor_df['avg_vote'] = act_df.groupby('actors')['vote_average'].transform('mean')\n",
        "actor_df['Recency'] = pd.Series(max_year - actor_df['Lastyear'])\n",
        "actor_df['Frequency'] = act_df.groupby('actors')['id'].transform('count')\n",
        "actor_df = actor_df.drop('Lastyear', axis=1)\n",
        "actor_df_copy = actor_df.copy()\n",
        "actor_df_copy = actor_df_copy.drop('actors', axis=1)\n",
        "actor_df.head()"
      ]
    },
    {
      "cell_type": "code",
      "execution_count": null,
      "metadata": {
        "id": "JSIuW-gGKPOk"
      },
      "outputs": [],
      "source": [
        "if (Path('/content/drive/MyDrive/BDA/model/actors_kmeans.joblib').is_file() & \n",
        "    Path('/content/drive/MyDrive/BDA/image/actors_kmeans.png').is_file()) :\n",
        "  actors_kmeans = load('/content/drive/MyDrive/BDA/model/actors_kmeans.joblib')\n",
        "else:\n",
        "  #Normalization by Min-Max:\n",
        "  scaler_m = MinMaxScaler()\n",
        "  X_m = scaler_m.fit_transform(actor_df_copy.values)\n",
        "\n",
        "  sse_list = list()\n",
        "  max_k = 10\n",
        "  for k in range(2, max_k + 1):\n",
        "      kmeans = KMeans(n_clusters = k, n_init=10, max_iter=100, random_state=0)\n",
        "      kmeans.fit(X_m)\n",
        "      \n",
        "      sse = kmeans.inertia_\n",
        "      sse_list.append(sse)\n",
        "      \n",
        "  plt.plot(range(2, len(sse_list) + 2), sse_list,'-o')\n",
        "  plt.ylabel('SSE', fontsize=20)\n",
        "  plt.xlabel('K', fontsize=20)\n",
        "  plt.tick_params(axis='both', which='major', labelsize=15)\n",
        "  plt.tight_layout()\n",
        "  plt.savefig('/content/drive/MyDrive/BDA/image/actors_kmeans.png', format='png')\n",
        "  plt.show()\n",
        "  plt.close()\n",
        "\n",
        "  actors_kmeans = KMeans(n_clusters=5, n_init=10, max_iter=100, random_state=0)\n",
        "  actors_kmeans.fit(X_m)\n",
        "  dump(actors_kmeans, '/content/drive/MyDrive/BDA/model/actors_kmeans.joblib') "
      ]
    },
    {
      "cell_type": "markdown",
      "metadata": {
        "id": "nyiKH1EGv125"
      },
      "source": [
        "<img src = 'https://drive.google.com/uc?id=16j1Q_VTO1nuXoqQjoZnbCXRtLTpzqmyV'>"
      ]
    },
    {
      "cell_type": "code",
      "execution_count": null,
      "metadata": {
        "colab": {
          "base_uri": "https://localhost:8080/",
          "height": 290
        },
        "id": "aTtnaKro5Auk",
        "outputId": "beacc057-63f7-4a79-edb7-b415730d9608"
      },
      "outputs": [
        {
          "name": "stdout",
          "output_type": "stream",
          "text": [
            "{0: 4065, 1: 2576, 2: 934, 3: 593, 4: 1795}\n"
          ]
        },
        {
          "data": {
            "image/png": "[encoded data removed]",
            "text/plain": [
              "<Figure size 576x288 with 1 Axes>"
            ]
          },
          "metadata": {
            "needs_background": "light"
          },
          "output_type": "display_data"
        }
      ],
      "source": [
        "hist, bins = np.histogram(actors_kmeans.labels_, bins=range(0, len(set(actors_kmeans.labels_)) + 1))\n",
        "print(dict(zip(bins, hist)))\n",
        "\n",
        "plt.figure(figsize=(8, 4))\n",
        "for i in range(0, len(actors_kmeans.cluster_centers_)):\n",
        "    plt.plot(actors_kmeans.cluster_centers_[i], marker='o', label='Cluster %s' % i)\n",
        "plt.tick_params(axis='both', which='major', labelsize=10)\n",
        "plt.xticks(range(0, len(actor_df_copy.columns)), actor_df_copy.columns, fontsize=18)\n",
        "plt.legend(fontsize=10)\n",
        "plt.savefig('/content/drive/MyDrive/BDA/image/actor_cluster.png', format='png')\n",
        "plt.show()"
      ]
    },
    {
      "cell_type": "code",
      "execution_count": null,
      "metadata": {
        "colab": {
          "base_uri": "https://localhost:8080/",
          "height": 206
        },
        "id": "gQnFp4jrM4fA",
        "outputId": "32a264c3-b189-4ce3-8397-3d03b4b5634e"
      },
      "outputs": [
        {
          "data": {
            "text/html": [
              "\n",
              "  <div id=\"df-2ae1ca37-31c3-4465-afe0-845cfa2965ea\">\n",
              "    <div class=\"colab-df-container\">\n",
              "      <div>\n",
              "<style scoped>\n",
              "    .dataframe tbody tr th:only-of-type {\n",
              "        vertical-align: middle;\n",
              "    }\n",
              "\n",
              "    .dataframe tbody tr th {\n",
              "        vertical-align: top;\n",
              "    }\n",
              "\n",
              "    .dataframe thead th {\n",
              "        text-align: right;\n",
              "    }\n",
              "</style>\n",
              "<table border=\"1\" class=\"dataframe\">\n",
              "  <thead>\n",
              "    <tr style=\"text-align: right;\">\n",
              "      <th></th>\n",
              "      <th>actors</th>\n",
              "      <th>Monetary</th>\n",
              "      <th>avg_count</th>\n",
              "      <th>avg_vote</th>\n",
              "      <th>Recency</th>\n",
              "      <th>Frequency</th>\n",
              "      <th>K-Means_Labels</th>\n",
              "    </tr>\n",
              "  </thead>\n",
              "  <tbody>\n",
              "    <tr>\n",
              "      <th>0</th>\n",
              "      <td>Tom Hanks</td>\n",
              "      <td>5.352381e+07</td>\n",
              "      <td>1738.785714</td>\n",
              "      <td>6.652381</td>\n",
              "      <td>0</td>\n",
              "      <td>42</td>\n",
              "      <td>2</td>\n",
              "    </tr>\n",
              "    <tr>\n",
              "      <th>1</th>\n",
              "      <td>Tim Allen</td>\n",
              "      <td>4.535294e+07</td>\n",
              "      <td>980.647059</td>\n",
              "      <td>5.888235</td>\n",
              "      <td>4</td>\n",
              "      <td>17</td>\n",
              "      <td>2</td>\n",
              "    </tr>\n",
              "    <tr>\n",
              "      <th>2</th>\n",
              "      <td>Don Rickles</td>\n",
              "      <td>1.700000e+07</td>\n",
              "      <td>2803.000000</td>\n",
              "      <td>7.450000</td>\n",
              "      <td>22</td>\n",
              "      <td>2</td>\n",
              "      <td>4</td>\n",
              "    </tr>\n",
              "    <tr>\n",
              "      <th>3</th>\n",
              "      <td>Robin Williams</td>\n",
              "      <td>3.845854e+07</td>\n",
              "      <td>667.951220</td>\n",
              "      <td>6.219512</td>\n",
              "      <td>4</td>\n",
              "      <td>41</td>\n",
              "      <td>2</td>\n",
              "    </tr>\n",
              "    <tr>\n",
              "      <th>4</th>\n",
              "      <td>Jonathan Hyde</td>\n",
              "      <td>6.500000e+07</td>\n",
              "      <td>2413.000000</td>\n",
              "      <td>6.900000</td>\n",
              "      <td>22</td>\n",
              "      <td>1</td>\n",
              "      <td>2</td>\n",
              "    </tr>\n",
              "  </tbody>\n",
              "</table>\n",
              "</div>\n",
              "      <button class=\"colab-df-convert\" onclick=\"convertToInteractive('df-2ae1ca37-31c3-4465-afe0-845cfa2965ea')\"\n",
              "              title=\"Convert this dataframe to an interactive table.\"\n",
              "              style=\"display:none;\">\n",
              "        \n",
              "  <svg xmlns=\"http://www.w3.org/2000/svg\" height=\"24px\"viewBox=\"0 0 24 24\"\n",
              "       width=\"24px\">\n",
              "    <path d=\"M0 0h24v24H0V0z\" fill=\"none\"/>\n",
              "    <path d=\"M18.56 5.44l.94 2.06.94-2.06 2.06-.94-2.06-.94-.94-2.06-.94 2.06-2.06.94zm-11 1L8.5 8.5l.94-2.06 2.06-.94-2.06-.94L8.5 2.5l-.94 2.06-2.06.94zm10 10l.94 2.06.94-2.06 2.06-.94-2.06-.94-.94-2.06-.94 2.06-2.06.94z\"/><path d=\"M17.41 7.96l-1.37-1.37c-.4-.4-.92-.59-1.43-.59-.52 0-1.04.2-1.43.59L10.3 9.45l-7.72 7.72c-.78.78-.78 2.05 0 2.83L4 21.41c.39.39.9.59 1.41.59.51 0 1.02-.2 1.41-.59l7.78-7.78 2.81-2.81c.8-.78.8-2.07 0-2.86zM5.41 20L4 18.59l7.72-7.72 1.47 1.35L5.41 20z\"/>\n",
              "  </svg>\n",
              "      </button>\n",
              "      \n",
              "  <style>\n",
              "    .colab-df-container {\n",
              "      display:flex;\n",
              "      flex-wrap:wrap;\n",
              "      gap: 12px;\n",
              "    }\n",
              "\n",
              "    .colab-df-convert {\n",
              "      background-color: #E8F0FE;\n",
              "      border: none;\n",
              "      border-radius: 50%;\n",
              "      cursor: pointer;\n",
              "      display: none;\n",
              "      fill: #1967D2;\n",
              "      height: 32px;\n",
              "      padding: 0 0 0 0;\n",
              "      width: 32px;\n",
              "    }\n",
              "\n",
              "    .colab-df-convert:hover {\n",
              "      background-color: #E2EBFA;\n",
              "      box-shadow: 0px 1px 2px rgba(60, 64, 67, 0.3), 0px 1px 3px 1px rgba(60, 64, 67, 0.15);\n",
              "      fill: #174EA6;\n",
              "    }\n",
              "\n",
              "    [theme=dark] .colab-df-convert {\n",
              "      background-color: #3B4455;\n",
              "      fill: #D2E3FC;\n",
              "    }\n",
              "\n",
              "    [theme=dark] .colab-df-convert:hover {\n",
              "      background-color: #434B5C;\n",
              "      box-shadow: 0px 1px 3px 1px rgba(0, 0, 0, 0.15);\n",
              "      filter: drop-shadow(0px 1px 2px rgba(0, 0, 0, 0.3));\n",
              "      fill: #FFFFFF;\n",
              "    }\n",
              "  </style>\n",
              "\n",
              "      <script>\n",
              "        const buttonEl =\n",
              "          document.querySelector('#df-2ae1ca37-31c3-4465-afe0-845cfa2965ea button.colab-df-convert');\n",
              "        buttonEl.style.display =\n",
              "          google.colab.kernel.accessAllowed ? 'block' : 'none';\n",
              "\n",
              "        async function convertToInteractive(key) {\n",
              "          const element = document.querySelector('#df-2ae1ca37-31c3-4465-afe0-845cfa2965ea');\n",
              "          const dataTable =\n",
              "            await google.colab.kernel.invokeFunction('convertToInteractive',\n",
              "                                                     [key], {});\n",
              "          if (!dataTable) return;\n",
              "\n",
              "          const docLinkHtml = 'Like what you see? Visit the ' +\n",
              "            '<a target=\"_blank\" href=https://colab.research.google.com/notebooks/data_table.ipynb>data table notebook</a>'\n",
              "            + ' to learn more about interactive tables.';\n",
              "          element.innerHTML = '';\n",
              "          dataTable['output_type'] = 'display_data';\n",
              "          await google.colab.output.renderOutput(dataTable, element);\n",
              "          const docLink = document.createElement('div');\n",
              "          docLink.innerHTML = docLinkHtml;\n",
              "          element.appendChild(docLink);\n",
              "        }\n",
              "      </script>\n",
              "    </div>\n",
              "  </div>\n",
              "  "
            ],
            "text/plain": [
              "           actors      Monetary  ...  Frequency  K-Means_Labels\n",
              "0       Tom Hanks  5.352381e+07  ...         42               2\n",
              "1       Tim Allen  4.535294e+07  ...         17               2\n",
              "2     Don Rickles  1.700000e+07  ...          2               4\n",
              "3  Robin Williams  3.845854e+07  ...         41               2\n",
              "4   Jonathan Hyde  6.500000e+07  ...          1               2\n",
              "\n",
              "[5 rows x 7 columns]"
            ]
          },
          "execution_count": 36,
          "metadata": {},
          "output_type": "execute_result"
        }
      ],
      "source": [
        "actor_df['K-Means_Labels'] = actors_kmeans.labels_\n",
        "actor_df.head()"
      ]
    },
    {
      "cell_type": "code",
      "execution_count": null,
      "metadata": {
        "id": "n14zPtBvcHbL"
      },
      "outputs": [],
      "source": [
        "actor_dic = actor_df[['actors','K-Means_Labels']].set_index('actors').to_dict()\n",
        "df['labels'] = df['actors_tmdb'].apply(lambda values: list(map(lambda x: actor_dic['K-Means_Labels'][x], values)))\n",
        "\n",
        "for label in range(len(actors_kmeans.cluster_centers_)):\n",
        "  df['actor_label_'+str(label)] = df['labels'].apply(\n",
        "      lambda values: int(label in values)\n",
        "  )\n",
        "\n",
        "df = df.drop(['labels','actors_tmdb'],axis=1)\n",
        "df.to_csv('/content/drive/MyDrive/BDA/input/df_post.csv', index=False)"
      ]
    },
    {
      "cell_type": "markdown",
      "metadata": {
        "id": "Q5BsYAFzNLJV"
      },
      "source": [
        "<a id='regs'></a>\n",
        "### 2). Regressors ([to top](#top))"
      ]
    },
    {
      "cell_type": "markdown",
      "metadata": {
        "id": "TmXjjkGAt9Jw"
      },
      "source": [
        "After further preparing our dataset for the analyzes, we decided to perform our prediction task first with a regression and then with a binary classification defined by a threshold. For both we will analyze in the order:\n",
        "1. [Dummy](#dr)\n",
        "2. [Decision Tree](#dtr)\n",
        "3. [Decision Tree Bagging](#dtwbr)\n",
        "4. [Random Forest](#rfr)\n",
        "5. [Gradient Boosting](#gbr)\n",
        "6. [Multilayer Perceptron](#mlpr)\n",
        "7. [MLP with Bagging](#mlpwbr)\n",
        "8. [Auto Sklearn (automated machine learning toolkit)](#asr)"
      ]
    },
    {
      "cell_type": "markdown",
      "metadata": {
        "id": "47iZ88X8LabS"
      },
      "source": [
        "We choose the dummy regressor as a lower-bound baseline since it always outputs a constant mean value. And an auto Sklearn model was used, automatically generating the pipeline for data preparation, feature selection, model selection, hype-parameter tuning, model ensembling, etc. We think it is a good benchmark for our model. The first model we tried is the decision tree since it is easy to read and interpret. Then to achieve a better performance, we attempted to bag the decision tree model we built and two different Sklearn built-in ensemble methods: Randomforest and GeadientBoosting. We also tried MLP to check if the NN could bring us a better performance."
      ]
    },
    {
      "cell_type": "code",
      "execution_count": null,
      "metadata": {
        "id": "Y02iUSwyWa2Y"
      },
      "outputs": [],
      "source": [
        "df = pd.read_csv('/content/drive/MyDrive/BDA/input/df_post.csv', keep_default_na=False)\n",
        "return_df = df[df.columns.difference(['overview', 'tagline', 'title_tmdb','keywords', 'id', 'avg_vote', 'votes'])]\n",
        "return_df.to_csv('/content/drive/MyDrive/BDA/input/return_df_post.csv', index=False)\n",
        "X, y = return_df.drop(['revenue', 'return', 'return_log'], axis=1), return_df['return_log']\n",
        "train_X, test_X, train_y, test_y = train_test_split(X, y, train_size=0.75, test_size=0.25, random_state=0)"
      ]
    },
    {
      "cell_type": "markdown",
      "metadata": {
        "id": "el4Pxy6fJiWY"
      },
      "source": [
        "<a id='dr'></a>\n",
        "#### DummyRegressor ([to top](#top))"
      ]
    },
    {
      "cell_type": "markdown",
      "metadata": {
        "id": "n4d1pSff4-Qz"
      },
      "source": [
        "First we used a Dummy regressor that makes predictions using simple rules. This is useful as a simple baseline to compare with other regressors."
      ]
    },
    {
      "cell_type": "code",
      "execution_count": null,
      "metadata": {
        "colab": {
          "base_uri": "https://localhost:8080/"
        },
        "id": "nCZITMMgJsri",
        "outputId": "53a8e565-5991-47d3-df7f-8e92586fa3bd"
      },
      "outputs": [
        {
          "data": {
            "text/plain": [
              "DummyRegressor()"
            ]
          },
          "execution_count": 39,
          "metadata": {},
          "output_type": "execute_result"
        }
      ],
      "source": [
        "dr = DummyRegressor()\n",
        "dr.fit(train_X, train_y)"
      ]
    },
    {
      "cell_type": "code",
      "execution_count": null,
      "metadata": {
        "colab": {
          "base_uri": "https://localhost:8080/"
        },
        "id": "SmzOhTua1mMw",
        "outputId": "81b9f9f0-be9a-4372-e1ef-988b6e4f7020"
      },
      "outputs": [
        {
          "name": "stdout",
          "output_type": "stream",
          "text": [
            "Test RMSE : 2.5134\n",
            "Test MAE : 1.7310\n",
            "Test R2 : -0.0002\n",
            "Test PEARSONR : nan\n"
          ]
        }
      ],
      "source": [
        "test_predictions = dr.predict(test_X)\n",
        "dr_results = {\n",
        "    \"RMSE\" : np.sqrt(mean_squared_error(test_y, test_predictions)),\n",
        "    \"MAE\" : mean_absolute_error(test_y, test_predictions),\n",
        "    \"R2\" : dr.score(test_X, test_y),\n",
        "    \"PEARSONR\" : pearsonr(test_y.values, test_predictions)[0]\n",
        "}\n",
        "print(\"Test RMSE : {:.4f}\".format(dr_results['RMSE']))\n",
        "print(\"Test MAE : {:.4f}\".format(dr_results['MAE']))\n",
        "print(\"Test R2 : {:.4f}\".format(dr_results['R2']))\n",
        "print(\"Test PEARSONR : {:.4f}\".format(float(dr_results['PEARSONR'])))"
      ]
    },
    {
      "cell_type": "markdown",
      "metadata": {
        "id": "kZ637ibMrcFi"
      },
      "source": [
        "<a id='dtr'></a>\n",
        "#### DecisionTreeRegressor ([to top](#top))"
      ]
    },
    {
      "cell_type": "markdown",
      "metadata": {
        "id": "IlFINVat5CBz"
      },
      "source": [
        "As a first (real) regressor we used a decision tree, which breaks down a dataset into smaller and smaller subsets while at the same time an associated decision tree is incrementally developed.\n"
      ]
    },
    {
      "cell_type": "code",
      "execution_count": null,
      "metadata": {
        "id": "O7kHEZQ70byq"
      },
      "outputs": [],
      "source": [
        "if not Path('/content/drive/MyDrive/BDA/image/dtr_rfe.png').is_file():\n",
        "  X, y = return_df.drop(['revenue', 'return', 'return_log'], axis=1), return_df['return_log']\n",
        "  train_X, test_X, train_y, test_y = train_test_split(X, y, train_size=0.2, test_size=0.8, random_state=0)\n",
        "\n",
        "  # get a list of models to evaluate\n",
        "  def get_models():\n",
        "    models = dict()\n",
        "    for i in range(2, train_X.shape[1], 4):\n",
        "      rfe = RFE(estimator=DecisionTreeRegressor(random_state = 0), n_features_to_select=i)\n",
        "      model = DecisionTreeRegressor(random_state = 0)\n",
        "      models[str(i)] = Pipeline(steps=[('s', rfe), ('m', model)])\n",
        "    return models\n",
        "\n",
        "  # evaluate a give model using cross-validation\n",
        "  def evaluate_model(model, X, y):\n",
        "    cv = RepeatedKFold(n_splits=5, n_repeats=3, random_state=0)\n",
        "    scores = cross_val_score(model, X, y, scoring='r2', cv=cv, n_jobs=-1, error_score='raise')\n",
        "    return scores\n",
        "\n",
        "  # get the models to evaluate\n",
        "  models = get_models()\n",
        "\n",
        "  # evaluate the models and store results\n",
        "  results, names = list(), list()\n",
        "  for name, model in models.items():\n",
        "    scores = evaluate_model(model, train_X, train_y)\n",
        "    results.append(scores)\n",
        "    names.append(name)\n",
        "    print('%s %.3f (%.3f)' % (name, mean(scores), std(scores)))\n",
        "\n",
        "  # plot model performance for comparison\n",
        "  plt.boxplot(results, labels=names, showmeans=True)\n",
        "  plt.xlabel('number of features', fontsize=20)\n",
        "  plt.ylabel('scores', fontsize=20)\n",
        "  plt.grid(alpha=0.2)\n",
        "  plt.tight_layout()\n",
        "  plt.savefig('/content/drive/MyDrive/BDA/image/dtr_rfe.png', format='png')\n",
        "  plt.show()\n",
        "  plt.close()"
      ]
    },
    {
      "cell_type": "markdown",
      "metadata": {
        "id": "h9DgwW1TGMup"
      },
      "source": [
        "<img src = 'https://drive.google.com/uc?id=11YQ_GlIxEgiTNtPiucl7EJoNEyatQdDY'>"
      ]
    },
    {
      "cell_type": "markdown",
      "metadata": {
        "id": "HLnHOvVp5FqP"
      },
      "source": [
        "Before strarting, we performed a features selection, using recursive feature elimination (RFE). Then, we executed the RepeatedKFold cross-validation in order to flag problems like overfitting or selection bias and to give an insight on how the model will generalize to an independent dataset. This operation together with hyper-parameter tuning will be performed for each model in this notebook."
      ]
    },
    {
      "cell_type": "code",
      "execution_count": null,
      "metadata": {
        "id": "nWW7NeT00byr"
      },
      "outputs": [],
      "source": [
        "if Path('/content/drive/MyDrive/BDA/model/dtr_rfe_support.npy').is_file():\n",
        "  dtr_rfe_support = np.load('/content/drive/MyDrive/BDA/model/dtr_rfe_support.npy')\n",
        "\n",
        "  X, y = return_df.drop(['revenue', 'return', 'return_log'], axis=1), return_df['return_log']\n",
        "\n",
        "  train_X, test_X, train_y, test_y = train_test_split(X, y, train_size=0.75, test_size=0.25, random_state=0)\n",
        "  train_X, test_X = train_X.loc[:, dtr_rfe_support], test_X.loc[:, dtr_rfe_support]\n",
        "\n",
        "else:\n",
        "  train_X, test_X, train_y, test_y = train_test_split(X, y, train_size=0.75, test_size=0.25, random_state=0)\n",
        "\n",
        "  # create pipeline\n",
        "  rfe = RFE(estimator=DecisionTreeRegressor(random_state = 0), n_features_to_select=46)\n",
        "\n",
        "  # let's create a pipeline\n",
        "  model = DecisionTreeRegressor(random_state = 0)\n",
        "\n",
        "  # create a pipeline\n",
        "  pipeline = Pipeline(steps=[('s', rfe), ('m', model)])\n",
        "\n",
        "  # evaluate model\n",
        "  cv = RepeatedKFold(n_splits=5, n_repeats=3, random_state=0)\n",
        "  n_scores = cross_val_score(model, train_X, train_y, scoring='r2', cv=cv, n_jobs=-1, error_score='raise')\n",
        "\n",
        "  # report performance\n",
        "  print('r2_score for cv: %.3f (%.3f)' % (mean(n_scores), std(n_scores)))\n",
        "\n",
        "  pipeline.fit(train_X, train_y)\n",
        "  scores = pipeline.score(test_X, test_y)\n",
        "\n",
        "  # report performance\n",
        "  print('r2_score for testset: %.3f (%.3f)' % (mean(scores), std(scores)))\n",
        "\n",
        "  train_X, test_X = train_X.loc[:, rfe.support_], test_X.loc[:, rfe.support_]\n",
        "  np.save('/content/drive/MyDrive/BDA/model/dtr_rfe_support.npy', rfe.support_)"
      ]
    },
    {
      "cell_type": "markdown",
      "metadata": {
        "id": "l7k0o-3ZUt4M"
      },
      "source": [
        "For the validation metric, R-square was chosen since R-square can be thought of as a rescaling of MSE, comparing it to the variance of the outcome response. And it's also nice to interpret because the best possible score is 1.0."
      ]
    },
    {
      "cell_type": "markdown",
      "metadata": {
        "id": "iNAoczfn5Ixf"
      },
      "source": [
        "As anticipated, for better results it is important a hyper-parameter tuning, to choose the best criterion of splitting, the depth of our tree and so on.\n"
      ]
    },
    {
      "cell_type": "code",
      "execution_count": null,
      "metadata": {
        "colab": {
          "base_uri": "https://localhost:8080/"
        },
        "id": "cRgd1xDfbeNk",
        "outputId": "b3333654-4641-4295-9f39-d8e4a9ed92d4"
      },
      "outputs": [
        {
          "name": "stdout",
          "output_type": "stream",
          "text": [
            "DecisionTreeRegressor(criterion='friedman_mse', max_depth=15,\n",
            "                      min_samples_leaf=10, min_samples_split=150,\n",
            "                      random_state=0)\n"
          ]
        }
      ],
      "source": [
        "if Path('/content/drive/MyDrive/BDA/model/DecisionTreeRegressor.joblib').is_file():\n",
        "  dtr = load('/content/drive/MyDrive/BDA/model/DecisionTreeRegressor.joblib')\n",
        "\n",
        "else:\n",
        "  # Create the grid\n",
        "  params = {'criterion' : ['squared_error', 'friedman_mse', 'absolute_error', 'poisson'],\n",
        "            'splitter' : ['best', 'random'],\n",
        "            'max_depth' : [2, 5, 10, 15, 20, 25, None],\n",
        "            'min_samples_split' : [100, 150, 200],\n",
        "            'min_samples_leaf': [2, 5, 10, 15, 20, 25]}\n",
        "\n",
        "  #define the grid search\n",
        "  grid_search_cv = GridSearchCV(DecisionTreeRegressor(random_state=0),params,verbose=1,cv=5,scoring='r2',n_jobs=-1)\n",
        "\n",
        "  #run the grid search\n",
        "  grid_search_cv.fit(train_X, train_y)\n",
        "\n",
        "  dump(grid_search_cv.best_estimator_, '/content/drive/MyDrive/BDA/model/DecisionTreeRegressor.joblib') \n",
        "  dtr = grid_search_cv.best_estimator_\n",
        "\n",
        "print(dtr)"
      ]
    },
    {
      "cell_type": "code",
      "execution_count": null,
      "metadata": {
        "colab": {
          "base_uri": "https://localhost:8080/"
        },
        "id": "EDjEyKo63qcs",
        "outputId": "05742dd3-28e5-4c48-90df-9f55766d9049"
      },
      "outputs": [
        {
          "name": "stdout",
          "output_type": "stream",
          "text": [
            "Test RMSE : 1.9908\n",
            "Test MAE : 1.3494\n",
            "Test R2 : 0.3725\n",
            "Test PEARSONR : 0.6108\n"
          ]
        }
      ],
      "source": [
        "test_predictions = dtr.predict(test_X)\n",
        "dtr_results = {\n",
        "    \"RMSE\" : np.sqrt(mean_squared_error(test_y, test_predictions)),\n",
        "    \"MAE\" : mean_absolute_error(test_y, test_predictions),\n",
        "    \"R2\" : dtr.score(test_X, test_y),\n",
        "    \"PEARSONR\" : pearsonr(test_y.values, test_predictions)[0]\n",
        "}\n",
        "print(\"Test RMSE : {:.4f}\".format(dtr_results['RMSE']))\n",
        "print(\"Test MAE : {:.4f}\".format(dtr_results['MAE']))\n",
        "print(\"Test R2 : {:.4f}\".format(dtr_results['R2']))\n",
        "print(\"Test PEARSONR : {:.4f}\".format(dtr_results['PEARSONR']))"
      ]
    },
    {
      "cell_type": "markdown",
      "metadata": {
        "id": "Ki-YBFt-5NFh"
      },
      "source": [
        "Obviously the results obtained are better than the dummy regressor and honestly they are even higher than our expectations, already at the first regressor."
      ]
    },
    {
      "cell_type": "markdown",
      "metadata": {
        "id": "SjGc9IF403hj"
      },
      "source": [
        "<a id='dtwbr'></a>\n",
        "#### DecisionTree with BaggingRegressor ([to top](#top))"
      ]
    },
    {
      "cell_type": "markdown",
      "metadata": {
        "id": "QcAHTHiA5S1K"
      },
      "source": [
        "So, we decided to add Bagging (bootstrap aggregating) to our model, looking to further improve performance. Indeed bagging  is an ensemble method that fits base regressors each on random subsets of the original dataset and then aggregate their individual predictions. This can be crucial to reduce the variance and the noise."
      ]
    },
    {
      "cell_type": "code",
      "execution_count": null,
      "metadata": {
        "colab": {
          "base_uri": "https://localhost:8080/"
        },
        "id": "bLQKffxfx551",
        "outputId": "c268ff11-eeb0-407d-fab6-0997f6fb57e7"
      },
      "outputs": [
        {
          "name": "stdout",
          "output_type": "stream",
          "text": [
            "BaggingRegressor(base_estimator=DecisionTreeRegressor(criterion='friedman_mse',\n",
            "                                                      max_depth=15,\n",
            "                                                      min_samples_leaf=10,\n",
            "                                                      min_samples_split=150,\n",
            "                                                      random_state=0),\n",
            "                 max_features=0.8, max_samples=0.8, n_estimators=50,\n",
            "                 random_state=0)\n"
          ]
        }
      ],
      "source": [
        "if Path('/content/drive/MyDrive/BDA/model/dtr_BaggingRegressor.joblib').is_file():\n",
        "  dtr_bagging = load('/content/drive/MyDrive/BDA/model/dtr_BaggingRegressor.joblib') \n",
        "\n",
        "else:\n",
        "  dtr_bagging = BaggingRegressor(base_estimator=dtr, n_estimators=50, max_samples=0.8, max_features=0.8, random_state=0).fit(train_X,train_y)\n",
        "  dump(dtr_bagging, '/content/drive/MyDrive/BDA/model/dtr_BaggingRegressor.joblib')\n",
        "\n",
        "print(dtr_bagging)"
      ]
    },
    {
      "cell_type": "code",
      "execution_count": null,
      "metadata": {
        "colab": {
          "base_uri": "https://localhost:8080/"
        },
        "id": "u9Y116W0x552",
        "outputId": "47b583ce-3b03-4e87-992c-13eab1366ad9"
      },
      "outputs": [
        {
          "name": "stdout",
          "output_type": "stream",
          "text": [
            "Test RMSE : 1.9465\n",
            "Test MAE : 1.2985\n",
            "Test R2 : 0.4001\n",
            "Test PEARSONR : 0.6534\n"
          ]
        }
      ],
      "source": [
        "test_predictions = dtr_bagging.predict(test_X)\n",
        "dtr_bagging_results = {\n",
        "    \"RMSE\" : np.sqrt(mean_squared_error(test_y, test_predictions)),\n",
        "    \"MAE\" : mean_absolute_error(test_y, test_predictions),\n",
        "    \"R2\" : dtr_bagging.score(test_X, test_y),\n",
        "    \"PEARSONR\" : pearsonr(test_y.values, test_predictions)[0]\n",
        "}\n",
        "print(\"Test RMSE : {:.4f}\".format(dtr_bagging_results['RMSE']))\n",
        "print(\"Test MAE : {:.4f}\".format(dtr_bagging_results['MAE']))\n",
        "print(\"Test R2 : {:.4f}\".format(dtr_bagging_results['R2']))\n",
        "print(\"Test PEARSONR : {:.4f}\".format(dtr_bagging_results['PEARSONR']))"
      ]
    },
    {
      "cell_type": "markdown",
      "metadata": {
        "id": "B6umtwMO5j7H"
      },
      "source": [
        "As you can see not only reduced the error, but we also improved the prediction and consequently the correlation between the variables.\n"
      ]
    },
    {
      "cell_type": "markdown",
      "metadata": {
        "id": "hufewofpjtGi"
      },
      "source": [
        "<a id='rfr'></a>\n",
        "#### RandomForestRegressor ([to top](#top))"
      ]
    },
    {
      "cell_type": "markdown",
      "metadata": {
        "id": "KrfHTOPl5l9A"
      },
      "source": [
        "The next model might look like a repetition of bagging, with the difference however thtat Random Forest selects (a random) only a subset of attributes. So, the trees are more independent of each other compared to regular bagging, which often results in better predictive performance.\n"
      ]
    },
    {
      "cell_type": "code",
      "execution_count": null,
      "metadata": {
        "id": "E61OYal7RUvJ"
      },
      "outputs": [],
      "source": [
        "if not Path('/content/drive/MyDrive/BDA/image/rfr_rfe.png').is_file():\n",
        "  X, y = return_df.drop(['revenue', 'return', 'return_log'], axis=1), return_df['return_log']\n",
        "  train_X, test_X, train_y, test_y = train_test_split(X, y, train_size=0.2, test_size=0.8, random_state=0)\n",
        "\n",
        "  # get a list of models to evaluate\n",
        "  def get_models():\n",
        "    models = dict()\n",
        "    for i in range(2, train_X.shape[1], 4):\n",
        "      rfe = RFE(estimator=RandomForestRegressor(random_state = 0), n_features_to_select=i)\n",
        "      model = RandomForestRegressor(random_state = 0)\n",
        "      models[str(i)] = Pipeline(steps=[('s', rfe), ('m', model)])\n",
        "    return models\n",
        "\n",
        "  # evaluate a give model using cross-validation\n",
        "  def evaluate_model(model, X, y):\n",
        "    cv = RepeatedKFold(n_splits=5, n_repeats=3, random_state=0)\n",
        "    scores = cross_val_score(model, X, y, scoring='r2', cv=cv, n_jobs=-1, error_score='raise')\n",
        "    return scores\n",
        "\n",
        "  # get the models to evaluate\n",
        "  models = get_models()\n",
        "\n",
        "  # evaluate the models and store results\n",
        "  results, names = list(), list()\n",
        "  for name, model in models.items():\n",
        "    scores = evaluate_model(model, train_X, train_y)\n",
        "    results.append(scores)\n",
        "    names.append(name)\n",
        "    print('%s %.3f (%.3f)' % (name, mean(scores), std(scores)))\n",
        "\n",
        "  # plot model performance for comparison\n",
        "  plt.boxplot(results, labels=names, showmeans=True)\n",
        "  plt.xlabel('number of features', fontsize=20)\n",
        "  plt.ylabel('scores', fontsize=20)\n",
        "  plt.grid(alpha=0.2)\n",
        "  plt.tight_layout()\n",
        "  plt.savefig('/content/drive/MyDrive/BDA/image/rfr_rfe.png', format='png')\n",
        "  plt.show()\n",
        "  plt.close()"
      ]
    },
    {
      "cell_type": "markdown",
      "metadata": {
        "id": "mDof9_2AtBYi"
      },
      "source": [
        "<img src = 'https://drive.google.com/uc?id=10PRYl7jva3mweAsJtZPMKnen1YxgMCKr'>"
      ]
    },
    {
      "cell_type": "markdown",
      "metadata": {
        "id": "9UVNXaWL5p74"
      },
      "source": [
        "The first thing to note is that random forest needs far fewer features than the decision tree. Only 34 against the 46 previously chosen. In high-dimensional dataset, this is essential not only to reduce computation time and resources, but also to prevent overfitting. "
      ]
    },
    {
      "cell_type": "code",
      "execution_count": null,
      "metadata": {
        "id": "j9NXRQ6URUvK"
      },
      "outputs": [],
      "source": [
        "if Path('/content/drive/MyDrive/BDA/model/rfr_rfe_support.npy').is_file():\n",
        "  rfr_rfe_support = np.load('/content/drive/MyDrive/BDA/model/rfr_rfe_support.npy')\n",
        "\n",
        "  X, y = return_df.drop(['revenue', 'return', 'return_log'], axis=1), return_df['return_log']\n",
        "\n",
        "  train_X, test_X, train_y, test_y = train_test_split(X, y, train_size=0.75, test_size=0.25, random_state=0)\n",
        "  train_X, test_X = train_X.loc[:, rfr_rfe_support], test_X.loc[:, rfr_rfe_support]\n",
        "\n",
        "else:\n",
        "  train_X, test_X, train_y, test_y = train_test_split(X, y, train_size=0.75, test_size=0.25, random_state=0)\n",
        "\n",
        "  # create pipeline\n",
        "  rfe = RFE(estimator=RandomForestRegressor(random_state = 0), n_features_to_select=34)\n",
        "\n",
        "  # let's create a pipeline\n",
        "  model = RandomForestRegressor(random_state = 0)\n",
        "\n",
        "  # create a pipeline\n",
        "  pipeline = Pipeline(steps=[('s', rfe), ('m', model)])\n",
        "\n",
        "  # evaluate model\n",
        "  cv = RepeatedKFold(n_splits=5, n_repeats=3, random_state=0)\n",
        "  n_scores = cross_val_score(model, train_X, train_y, scoring='r2', cv=cv, n_jobs=-1, error_score='raise')\n",
        "\n",
        "  # report performance\n",
        "  print('r2_score for cv: %.3f (%.3f)' % (mean(n_scores), std(n_scores)))\n",
        "\n",
        "  pipeline.fit(train_X, train_y)\n",
        "  scores = pipeline.score(test_X, test_y)\n",
        "\n",
        "  # report performance\n",
        "  print('r2_score for testset: %.3f (%.3f)' % (mean(scores), std(scores)))\n",
        "\n",
        "  train_X, test_X = train_X.loc[:, rfe.support_], test_X.loc[:, rfe.support_]\n",
        "  np.save('/content/drive/MyDrive/BDA/model/rfr_rfe_support.npy', rfe.support_)"
      ]
    },
    {
      "cell_type": "code",
      "execution_count": null,
      "metadata": {
        "colab": {
          "base_uri": "https://localhost:8080/"
        },
        "id": "TG4zj3AOyg9T",
        "outputId": "f6138453-93c0-4022-956a-1431d10765aa"
      },
      "outputs": [
        {
          "name": "stdout",
          "output_type": "stream",
          "text": [
            "RandomForestRegressor(min_samples_leaf=5, n_estimators=500, random_state=0)\n"
          ]
        }
      ],
      "source": [
        "if Path('/content/drive/MyDrive/BDA/model/RandomForestRegressor.joblib').is_file():\n",
        "  rfr = load('/content/drive/MyDrive/BDA/model/RandomForestRegressor.joblib')\n",
        "\n",
        "else:\n",
        "  # Create the random grid\n",
        "  params = {'n_estimators': [int(x) for x in np.linspace(start = 100, stop = 1000, num = 10)],\n",
        "                'min_samples_split': [2, 5, 7],\n",
        "                'min_samples_leaf': [2, 5, 7]}\n",
        "\n",
        "  #define the grid search\n",
        "  grid_search_cv = RandomizedSearchCV(RandomForestRegressor(random_state = 0),params,n_iter=50,cv=5,verbose=2,random_state=0,n_jobs=-1)\n",
        "\n",
        "  #run the grid search\n",
        "  grid_search_cv.fit(train_X, train_y)\n",
        "\n",
        "  dump(grid_search_cv.best_estimator_, '/content/drive/MyDrive/BDA/model/RandomForestRegressor.joblib')\n",
        "  rfr = grid_search_cv.best_estimator_\n",
        "\n",
        "print(rfr)"
      ]
    },
    {
      "cell_type": "code",
      "execution_count": null,
      "metadata": {
        "colab": {
          "base_uri": "https://localhost:8080/"
        },
        "id": "ZTre9SvfHR6a",
        "outputId": "3c226049-ccde-416f-e945-3165c2a4354c"
      },
      "outputs": [
        {
          "name": "stdout",
          "output_type": "stream",
          "text": [
            "Test RMSE : 1.8107\n",
            "Test MAE : 1.2238\n",
            "Test R2 : 0.4809\n",
            "Test PEARSONR : 0.6973\n"
          ]
        }
      ],
      "source": [
        "test_predictions = rfr.predict(test_X)\n",
        "rfr_results = {\n",
        "    \"RMSE\" : np.sqrt(mean_squared_error(test_y, test_predictions)),\n",
        "    \"MAE\" : mean_absolute_error(test_y, test_predictions),\n",
        "    \"R2\" : rfr.score(test_X, test_y),\n",
        "    \"PEARSONR\" : pearsonr(test_y.values, test_predictions)[0]\n",
        "}\n",
        "print(\"Test RMSE : {:.4f}\".format(rfr_results['RMSE']))\n",
        "print(\"Test MAE : {:.4f}\".format(rfr_results['MAE']))\n",
        "print(\"Test R2 : {:.4f}\".format(rfr_results['R2']))\n",
        "print(\"Test PEARSONR : {:.4f}\".format(rfr_results['PEARSONR']))"
      ]
    },
    {
      "cell_type": "markdown",
      "metadata": {
        "id": "lApv4Wl65uHV"
      },
      "source": [
        "After tuning, we see that random forest has significantly improved the performance. Even bringing the pearson correlation to a significant 0.70. The Pearson correlation coefficient measures the linear relationship between two dimension. Thus, the closer it is to 1.0, the closer our prediction comes to reality. Same speech for R2, the closer it is to 1.0, the better observed outcomes are replicated by the model.\n"
      ]
    },
    {
      "cell_type": "markdown",
      "metadata": {
        "id": "QWJCWyMtrAeF"
      },
      "source": [
        "<a id='gbr'></a>\n",
        "#### GradientBoostingRegressor ([to top](#top))"
      ]
    },
    {
      "cell_type": "markdown",
      "metadata": {
        "id": "r3zrQ53_5w2R"
      },
      "source": [
        "In order to minimize the bias error (erroneous assumption in the learning algorithm) of the regression, we applied this method that as the other ensamble method did, it works on weak learner like decision tree, adding one by one tree. Unlike random forest, instead of training a new estimator on the data to predict the target, it trains an estimator to predict the residuals of the first predictor. Using that value in the base estimator."
      ]
    },
    {
      "cell_type": "code",
      "execution_count": null,
      "metadata": {
        "id": "x1SBDXlU9Ao-"
      },
      "outputs": [],
      "source": [
        "if not Path('/content/drive/MyDrive/BDA/image/gbr_rfe.png').is_file():\n",
        "  X, y = return_df.drop(['revenue', 'return', 'return_log'], axis=1), return_df['return_log']\n",
        "  train_X, test_X, train_y, test_y = train_test_split(X, y, train_size=0.2, test_size=0.8, random_state=0)\n",
        "\n",
        "  # get a list of models to evaluate\n",
        "  def get_models():\n",
        "    models = dict()\n",
        "    for i in range(2, train_X.shape[1], 4):\n",
        "      rfe = RFE(estimator=GradientBoostingRegressor(random_state = 0), n_features_to_select=i)\n",
        "      model = GradientBoostingRegressor(random_state = 0)\n",
        "      models[str(i)] = Pipeline(steps=[('s', rfe), ('m', model)])\n",
        "    return models\n",
        "\n",
        "  # evaluate a give model using cross-validation\n",
        "  def evaluate_model(model, X, y):\n",
        "    cv = RepeatedKFold(n_splits=5, n_repeats=3, random_state=0)\n",
        "    scores = cross_val_score(model, X, y, scoring='r2', cv=cv, n_jobs=-1, error_score='raise')\n",
        "    return scores\n",
        "\n",
        "  # get the models to evaluate\n",
        "  models = get_models()\n",
        "\n",
        "  # evaluate the models and store results\n",
        "  results, names = list(), list()\n",
        "  for name, model in models.items():\n",
        "    scores = evaluate_model(model, train_X, train_y)\n",
        "    results.append(scores)\n",
        "    names.append(name)\n",
        "    print('%s %.3f (%.3f)' % (name, mean(scores), std(scores)))\n",
        "\n",
        "  # plot model performance for comparison\n",
        "  plt.boxplot(results, labels=names, showmeans=True)\n",
        "  plt.xlabel('number of features', fontsize=20)\n",
        "  plt.ylabel('scores', fontsize=20)\n",
        "  plt.grid(alpha=0.2)\n",
        "  plt.tight_layout()\n",
        "  plt.savefig('/content/drive/MyDrive/BDA/image/gbr_rfe.png', format='png')\n",
        "  plt.show()\n",
        "  plt.close()"
      ]
    },
    {
      "cell_type": "markdown",
      "metadata": {
        "id": "2OYwAhzHtcxE"
      },
      "source": [
        "<img src = 'https://drive.google.com/uc?id=10cIPClhi5KycWvEQw6Y6nD6LOmm2BeVJ'>"
      ]
    },
    {
      "cell_type": "markdown",
      "metadata": {
        "id": "GirWpZ4-50ad"
      },
      "source": [
        "Also in this decision tree based model, it is reduced the number of features needed to execute a good regression. (30 instead of 34)."
      ]
    },
    {
      "cell_type": "code",
      "execution_count": null,
      "metadata": {
        "id": "eLNhqfjsHB5a"
      },
      "outputs": [],
      "source": [
        "if Path('/content/drive/MyDrive/BDA/model/gbr_rfe_support.npy').is_file():\n",
        "  gbr_rfe_support = np.load('/content/drive/MyDrive/BDA/model/gbr_rfe_support.npy')\n",
        "\n",
        "  X, y = return_df.drop(['revenue', 'return', 'return_log'], axis=1), return_df['return_log']\n",
        "\n",
        "  train_X, test_X, train_y, test_y = train_test_split(X, y, train_size=0.75, test_size=0.25, random_state=0)\n",
        "  train_X, test_X = train_X.loc[:, gbr_rfe_support], test_X.loc[:, gbr_rfe_support]\n",
        "\n",
        "else:\n",
        "  train_X, test_X, train_y, test_y = train_test_split(X, y, train_size=0.75, test_size=0.25, random_state=0)\n",
        "\n",
        "  # create pipeline\n",
        "  rfe = RFE(estimator=GradientBoostingRegressor(random_state = 0), n_features_to_select=30)\n",
        "\n",
        "  # let's create a pipeline\n",
        "  model = GradientBoostingRegressor(random_state = 0)\n",
        "\n",
        "  # create a pipeline\n",
        "  pipeline = Pipeline(steps=[('s', rfe), ('m', model)])\n",
        "\n",
        "  # evaluate model\n",
        "  cv = RepeatedKFold(n_splits=5, n_repeats=3, random_state=0)\n",
        "  n_scores = cross_val_score(model, train_X, train_y, scoring='r2', cv=cv, n_jobs=-1, error_score='raise')\n",
        "\n",
        "  # report performance\n",
        "  print('r2_score for cv: %.3f (%.3f)' % (mean(n_scores), std(n_scores)))\n",
        "\n",
        "  pipeline.fit(train_X, train_y)\n",
        "  scores = pipeline.score(test_X, test_y)\n",
        "\n",
        "  # report performance\n",
        "  print('r2_score for testset: %.3f (%.3f)' % (mean(scores), std(scores)))\n",
        "\n",
        "  train_X, test_X = train_X.loc[:, rfe.support_], test_X.loc[:, rfe.support_]\n",
        "  np.save('/content/drive/MyDrive/BDA/model/gbr_rfe_support.npy', rfe.support_)"
      ]
    },
    {
      "cell_type": "code",
      "execution_count": null,
      "metadata": {
        "colab": {
          "base_uri": "https://localhost:8080/"
        },
        "id": "F_j7QyMr564m",
        "outputId": "4902d520-ee20-4cc2-8dba-3340945da03a"
      },
      "outputs": [
        {
          "name": "stdout",
          "output_type": "stream",
          "text": [
            "GradientBoostingRegressor(learning_rate=0.01, max_depth=6, n_estimators=500,\n",
            "                          random_state=0, subsample=0.5)\n"
          ]
        }
      ],
      "source": [
        "if Path('/content/drive/MyDrive/BDA/model/GradientBoostingRegressor.joblib').is_file():\n",
        "  gbr = load('/content/drive/MyDrive/BDA/model/GradientBoostingRegressor.joblib')\n",
        "\n",
        "else:\n",
        "  # Create the grid\n",
        "  params = {'learning_rate': [0.1, 0.01, 0.001],\n",
        "            'subsample'    : [0.9, 0.5, 0.3],\n",
        "            'n_estimators' : [200, 500, 1000],\n",
        "            'max_depth'    : [4, 6, 8]}\n",
        "\n",
        "  #define the grid search\n",
        "  grid_search_cv = GridSearchCV(GradientBoostingRegressor(random_state=0),params,verbose=1,cv=5,scoring='r2',n_jobs=-1)\n",
        "\n",
        "  #run the grid search\n",
        "  grid_search_cv.fit(train_X, train_y)\n",
        "\n",
        "  dump(grid_search_cv.best_estimator_, '/content/drive/MyDrive/BDA/model/GradientBoostingRegressor.joblib') \n",
        "  gbr = grid_search_cv.best_estimator_\n",
        "\n",
        "print(gbr)"
      ]
    },
    {
      "cell_type": "markdown",
      "metadata": {
        "id": "XPwwh_2r57S6"
      },
      "source": [
        "The more inexplicable the black box becomes, the more important becomes to tune the parameters, such as the number of estimator: 500 in our case."
      ]
    },
    {
      "cell_type": "code",
      "execution_count": null,
      "metadata": {
        "colab": {
          "base_uri": "https://localhost:8080/"
        },
        "id": "wNgaBUWlrRWh",
        "outputId": "114614ed-04b1-40e6-e647-9c98a1f8bf84"
      },
      "outputs": [
        {
          "name": "stdout",
          "output_type": "stream",
          "text": [
            "Test RMSE : 1.8106\n",
            "Test MAE : 1.2204\n",
            "Test R2 : 0.4809\n",
            "Test PEARSONR : 0.6984\n"
          ]
        }
      ],
      "source": [
        "test_predictions = gbr.predict(test_X)\n",
        "gbr_results = {\n",
        "    \"RMSE\" : np.sqrt(mean_squared_error(test_y, test_predictions)),\n",
        "    \"MAE\" : mean_absolute_error(test_y, test_predictions),\n",
        "    \"R2\" : gbr.score(test_X, test_y),\n",
        "    \"PEARSONR\" : pearsonr(test_y.values, test_predictions)[0]\n",
        "}\n",
        "print(\"Test RMSE : {:.4f}\".format(gbr_results['RMSE']))\n",
        "print(\"Test MAE : {:.4f}\".format(gbr_results['MAE']))\n",
        "print(\"Test R2 : {:.4f}\".format(gbr_results['R2']))\n",
        "print(\"Test PEARSONR : {:.4f}\".format(gbr_results['PEARSONR']))"
      ]
    },
    {
      "cell_type": "markdown",
      "metadata": {
        "id": "W_flIBIQ5_H1"
      },
      "source": [
        "Unlikely, our work has resulted in a slight improvement over the random forest. Despite this, it remains an excellent result."
      ]
    },
    {
      "cell_type": "markdown",
      "metadata": {
        "id": "OE787nGJryIU"
      },
      "source": [
        "<a id='mlpr'></a>\n",
        "#### MLPRegressor ([to top](#top))"
      ]
    },
    {
      "cell_type": "markdown",
      "metadata": {
        "id": "kUQ6_sbH6DxZ"
      },
      "source": [
        "The next model used is the simplest of the artificial neural network."
      ]
    },
    {
      "cell_type": "code",
      "execution_count": null,
      "metadata": {
        "id": "kCG_YLGNROgc"
      },
      "outputs": [],
      "source": [
        "X, y = return_df.drop(['revenue', 'return', 'return_log'], axis=1), return_df['return_log']\n",
        "data = X\n",
        "data.insert(len(data.columns), 'return_log', y)\n",
        "scaler_m = MinMaxScaler()\n",
        "data_m = scaler_m.fit_transform(data.values)\n",
        "X_m = data_m[:, 0:len(data.columns)-1]\n",
        "y_m = data_m[:,len(data.columns)-1]\n",
        "train_X, test_X, train_y, test_y = train_test_split(X_m, y_m, train_size=0.75, test_size=0.25, random_state=0)"
      ]
    },
    {
      "cell_type": "code",
      "execution_count": null,
      "metadata": {
        "colab": {
          "base_uri": "https://localhost:8080/"
        },
        "id": "HijHrpYgPV-H",
        "outputId": "f6479b5d-2a84-4604-b9c2-4e9042d38a4f"
      },
      "outputs": [
        {
          "name": "stdout",
          "output_type": "stream",
          "text": [
            "MLPRegressor(early_stopping=True, hidden_layer_sizes=(5,), max_iter=1000,\n",
            "             random_state=0)\n"
          ]
        }
      ],
      "source": [
        "if Path('/content/drive/MyDrive/BDA/model/MLPRegressor.joblib').is_file():\n",
        "  mlpr = load('/content/drive/MyDrive/BDA/model/MLPRegressor.joblib')\n",
        "  \n",
        "else:\n",
        "  params = {\"hidden_layer_sizes\": [(1,),(3,),(5,),(7,)],\n",
        "            \"activation\": [\"identity\", \"logistic\", \"tanh\", \"relu\"],\n",
        "            \"solver\": [\"lbfgs\", \"sgd\", \"adam\"],\n",
        "            \"alpha\": [0.0001, 0.0005,0.001]}\n",
        "\n",
        "  grid_search_cv = GridSearchCV(MLPRegressor(random_state = 0, early_stopping=True, max_iter=1000),params,verbose=1,cv=5,scoring='r2',n_jobs=-1)\n",
        "  grid_search_cv.fit(train_X,train_y)\n",
        "  dump(grid_search_cv.best_estimator_, '/content/drive/MyDrive/BDA/model/MLPRegressor.joblib')\n",
        "  mlpr = grid_search_cv.best_estimator_\n",
        "\n",
        "print(mlpr)"
      ]
    },
    {
      "cell_type": "code",
      "execution_count": null,
      "metadata": {
        "colab": {
          "base_uri": "https://localhost:8080/"
        },
        "id": "XZrOmvCJ4ys6",
        "outputId": "6261b6cc-8fc1-4650-a53d-e69e0ce21877"
      },
      "outputs": [
        {
          "name": "stdout",
          "output_type": "stream",
          "text": [
            "Test RMSE : 2.2101\n",
            "Test MAE : 1.3940\n",
            "Test R2 : 0.2266\n",
            "Test PEARSONR : 0.47826993404093093\n"
          ]
        }
      ],
      "source": [
        "test_predictions = mlpr.predict(test_X)\n",
        "mlpr_results = {\n",
        "    \"RMSE\" : np.sqrt(mean_squared_error(scaler_m.inverse_transform(np.column_stack([test_X, test_y]))[:,-1]\n",
        "                                        , scaler_m.inverse_transform(np.column_stack([test_X,test_predictions]))[:,-1])),\n",
        "    \"MAE\" : mean_absolute_error(scaler_m.inverse_transform(np.column_stack([test_X, test_y]))[:,-1]\n",
        "                                        , scaler_m.inverse_transform(np.column_stack([test_X,test_predictions]))[:,-1]),\n",
        "    \"R2\" : mlpr.score(test_X, test_y),\n",
        "    \"PEARSONR\" : pearsonr(scaler_m.inverse_transform(np.column_stack([test_X, test_y]))[:,-1]\n",
        "                          , scaler_m.inverse_transform(np.column_stack([test_X,test_predictions]))[:,-1])[0]\n",
        "}\n",
        "print(\"Test RMSE : {:.4f}\".format(mlpr_results['RMSE']))\n",
        "print(\"Test MAE : {:.4f}\".format(mlpr_results['MAE']))\n",
        "print(\"Test R2 : {:.4f}\".format(mlpr_results['R2']))\n",
        "print(\"Test PEARSONR : {}\".format(mlpr_results['PEARSONR']))"
      ]
    },
    {
      "cell_type": "markdown",
      "metadata": {
        "id": "PJqSDaAI2ejL"
      },
      "source": [
        "<a id='mlpwbr'></a>\n",
        "#### MLP with BaggingRegressor ([to top](#top))"
      ]
    },
    {
      "cell_type": "markdown",
      "metadata": {
        "id": "zf_UP8GI6HmC"
      },
      "source": [
        "Since the first results were unsatisfactory, we decided to implent bagging on this predictor."
      ]
    },
    {
      "cell_type": "code",
      "execution_count": null,
      "metadata": {
        "colab": {
          "base_uri": "https://localhost:8080/"
        },
        "id": "ft2QRZg1_qrP",
        "outputId": "f70de37e-9785-4ec1-c222-c51cff11a390"
      },
      "outputs": [
        {
          "name": "stdout",
          "output_type": "stream",
          "text": [
            "BaggingRegressor(base_estimator=MLPRegressor(early_stopping=True,\n",
            "                                             hidden_layer_sizes=(5,),\n",
            "                                             max_iter=1000, random_state=0),\n",
            "                 max_features=0.8, max_samples=0.8, n_estimators=50,\n",
            "                 random_state=0)\n"
          ]
        }
      ],
      "source": [
        "if Path('/content/drive/MyDrive/BDA/model/mlpr_BaggingRegressor.joblib').is_file():\n",
        "  mlpr_bagging = load('/content/drive/MyDrive/BDA/model/mlpr_BaggingRegressor.joblib') \n",
        "\n",
        "else:\n",
        "  mlpr_bagging = BaggingRegressor(base_estimator=mlpr, n_estimators=50, max_samples=0.8, max_features=0.8, random_state=0).fit(train_X,train_y)\n",
        "  dump(mlpr_bagging, '/content/drive/MyDrive/BDA/model/mlpr_BaggingRegressor.joblib')\n",
        "\n",
        "print(mlpr_bagging)"
      ]
    },
    {
      "cell_type": "code",
      "execution_count": null,
      "metadata": {
        "colab": {
          "base_uri": "https://localhost:8080/"
        },
        "id": "EWnJsCFmAF9J",
        "outputId": "bc008925-307a-4001-dff9-0b04752f4ddd"
      },
      "outputs": [
        {
          "name": "stdout",
          "output_type": "stream",
          "text": [
            "Test RMSE : 2.2739\n",
            "Test MAE : 1.4486\n",
            "Test R2 : 0.2266\n",
            "Test PEARSONR : 0.43053081647801755\n"
          ]
        }
      ],
      "source": [
        "test_predictions = mlpr_bagging.predict(test_X)\n",
        "mlpr_bagging_results = {\n",
        "    \"RMSE\" : np.sqrt(mean_squared_error(scaler_m.inverse_transform(np.column_stack([test_X, test_y]))[:,-1]\n",
        "                                        , scaler_m.inverse_transform(np.column_stack([test_X,test_predictions]))[:,-1])),\n",
        "    \"MAE\" : mean_absolute_error(scaler_m.inverse_transform(np.column_stack([test_X, test_y]))[:,-1]\n",
        "                                        , scaler_m.inverse_transform(np.column_stack([test_X,test_predictions]))[:,-1]),\n",
        "    \"R2\" : mlpr.score(test_X, test_y),\n",
        "    \"PEARSONR\" : pearsonr(scaler_m.inverse_transform(np.column_stack([test_X, test_y]))[:,-1]\n",
        "                          , scaler_m.inverse_transform(np.column_stack([test_X,test_predictions]))[:,-1])[0]\n",
        "}\n",
        "print(\"Test RMSE : {:.4f}\".format(mlpr_bagging_results['RMSE']))\n",
        "print(\"Test MAE : {:.4f}\".format(mlpr_bagging_results['MAE']))\n",
        "print(\"Test R2 : {:.4f}\".format(mlpr_bagging_results['R2']))\n",
        "print(\"Test PEARSONR : {}\".format(mlpr_bagging_results['PEARSONR']))"
      ]
    },
    {
      "cell_type": "markdown",
      "metadata": {
        "id": "zR-oicTl6Mja"
      },
      "source": [
        "As opposite to what we expected, not only did the results not improve but also we lost both in terms of errors and correlation.\n"
      ]
    },
    {
      "cell_type": "markdown",
      "metadata": {
        "id": "_O3wC2rY4f1W"
      },
      "source": [
        "<a id='asr'></a>\n",
        "####  AutoSklearnRegressor ([to top](#top))"
      ]
    },
    {
      "cell_type": "markdown",
      "metadata": {
        "id": "uW1BfpoP6P9p"
      },
      "source": [
        "The last regressor analyzed is a fully automated model. All processes from feature selection to tuning are performed by the regressor, making it a real black box.\n"
      ]
    },
    {
      "cell_type": "code",
      "execution_count": null,
      "metadata": {
        "id": "79WuamBTb8K4"
      },
      "outputs": [],
      "source": [
        "X, y = return_df.drop(['revenue', 'return', 'return_log'], axis=1), return_df['return_log']\n",
        "train_X, test_X, train_y, test_y = train_test_split(X, y, train_size=0.75, test_size=0.25, random_state=0)"
      ]
    },
    {
      "cell_type": "code",
      "execution_count": null,
      "metadata": {
        "colab": {
          "base_uri": "https://localhost:8080/"
        },
        "id": "vYViZI50b52L",
        "outputId": "7b7b7a89-2bbe-4de8-e4ea-12d9d2d87519"
      },
      "outputs": [
        {
          "name": "stdout",
          "output_type": "stream",
          "text": [
            "AutoSklearnRegressor(ensemble_nbest=1000, ensemble_size=1000,\n",
            "                     per_run_time_limit=100, seed=42,\n",
            "                     time_left_for_this_task=1000,\n",
            "                     tmp_folder='/tmp/autosklearn_regression_example_tmp')\n"
          ]
        }
      ],
      "source": [
        "if Path('/content/drive/MyDrive/BDA/model/AutoSklearnRegressor.joblib').is_file():\n",
        "  asr = load('/content/drive/MyDrive/BDA/model/AutoSklearnRegressor.joblib') \n",
        " \n",
        "else:\n",
        "  asr = autosklearn.regression.AutoSklearnRegressor(\n",
        "      time_left_for_this_task=1000,\n",
        "      per_run_time_limit=100,\n",
        "      ensemble_size = 1000,\n",
        "      ensemble_nbest = 1000,\n",
        "      seed = 42,\n",
        "      tmp_folder='/tmp/autosklearn_regression_example_tmp'\n",
        "  )\n",
        "  asr.fit(train_X, train_y, dataset_name='MovieLs')\n",
        "  dump(asr, '/content/drive/MyDrive/BDA/model/AutoSklearnRegressor.joblib')\n",
        "\n",
        "print(asr)"
      ]
    },
    {
      "cell_type": "code",
      "execution_count": null,
      "metadata": {
        "colab": {
          "base_uri": "https://localhost:8080/"
        },
        "id": "BZNvPHZm5w_f",
        "outputId": "48533a57-a47d-48c4-e5cd-52f1f06aebeb"
      },
      "outputs": [
        {
          "name": "stdout",
          "output_type": "stream",
          "text": [
            "          rank  ensemble_weight               type      cost   duration\n",
            "model_id                                                               \n",
            "11           1            0.569  gradient_boosting  0.573199   3.586937\n",
            "15           2            0.226  gradient_boosting  0.603687   6.096907\n",
            "3            3            0.134        extra_trees  0.646273   7.964093\n",
            "4            4            0.071                mlp  0.921230  15.853168\n",
            "[(0.569000, SimpleRegressionPipeline({'data_preprocessor:__choice__': 'feature_type', 'feature_preprocessor:__choice__': 'no_preprocessing', 'regressor:__choice__': 'gradient_boosting', 'data_preprocessor:feature_type:categorical_transformer:categorical_encoding:__choice__': 'one_hot_encoding', 'data_preprocessor:feature_type:categorical_transformer:category_coalescence:__choice__': 'minority_coalescer', 'data_preprocessor:feature_type:numerical_transformer:imputation:strategy': 'mean', 'data_preprocessor:feature_type:numerical_transformer:rescaling:__choice__': 'standardize', 'regressor:gradient_boosting:early_stop': 'train', 'regressor:gradient_boosting:l2_regularization': 0.005746611563553693, 'regressor:gradient_boosting:learning_rate': 0.0913971028976721, 'regressor:gradient_boosting:loss': 'least_squares', 'regressor:gradient_boosting:max_bins': 255, 'regressor:gradient_boosting:max_depth': 'None', 'regressor:gradient_boosting:max_leaf_nodes': 9, 'regressor:gradient_boosting:min_samples_leaf': 2, 'regressor:gradient_boosting:scoring': 'loss', 'regressor:gradient_boosting:tol': 1e-07, 'data_preprocessor:feature_type:categorical_transformer:category_coalescence:minority_coalescer:minimum_fraction': 0.0011912229897445134, 'regressor:gradient_boosting:n_iter_no_change': 20},\n",
            "dataset_properties={\n",
            "  'task': 4,\n",
            "  'sparse': False,\n",
            "  'multioutput': False,\n",
            "  'target_type': 'regression',\n",
            "  'signed': False})),\n",
            "(0.226000, SimpleRegressionPipeline({'data_preprocessor:__choice__': 'feature_type', 'feature_preprocessor:__choice__': 'no_preprocessing', 'regressor:__choice__': 'gradient_boosting', 'data_preprocessor:feature_type:categorical_transformer:categorical_encoding:__choice__': 'one_hot_encoding', 'data_preprocessor:feature_type:categorical_transformer:category_coalescence:__choice__': 'minority_coalescer', 'data_preprocessor:feature_type:numerical_transformer:imputation:strategy': 'median', 'data_preprocessor:feature_type:numerical_transformer:rescaling:__choice__': 'robust_scaler', 'regressor:gradient_boosting:early_stop': 'off', 'regressor:gradient_boosting:l2_regularization': 5.997418027353535e-10, 'regressor:gradient_boosting:learning_rate': 0.12286466971783992, 'regressor:gradient_boosting:loss': 'least_squares', 'regressor:gradient_boosting:max_bins': 255, 'regressor:gradient_boosting:max_depth': 'None', 'regressor:gradient_boosting:max_leaf_nodes': 26, 'regressor:gradient_boosting:min_samples_leaf': 8, 'regressor:gradient_boosting:scoring': 'loss', 'regressor:gradient_boosting:tol': 1e-07, 'data_preprocessor:feature_type:categorical_transformer:category_coalescence:minority_coalescer:minimum_fraction': 0.010000000000000004, 'data_preprocessor:feature_type:numerical_transformer:rescaling:robust_scaler:q_max': 0.7912621507143142, 'data_preprocessor:feature_type:numerical_transformer:rescaling:robust_scaler:q_min': 0.2637968890661204},\n",
            "dataset_properties={\n",
            "  'task': 4,\n",
            "  'sparse': False,\n",
            "  'multioutput': False,\n",
            "  'target_type': 'regression',\n",
            "  'signed': False})),\n",
            "(0.134000, SimpleRegressionPipeline({'data_preprocessor:__choice__': 'feature_type', 'feature_preprocessor:__choice__': 'no_preprocessing', 'regressor:__choice__': 'extra_trees', 'data_preprocessor:feature_type:categorical_transformer:categorical_encoding:__choice__': 'no_encoding', 'data_preprocessor:feature_type:categorical_transformer:category_coalescence:__choice__': 'minority_coalescer', 'data_preprocessor:feature_type:numerical_transformer:imputation:strategy': 'median', 'data_preprocessor:feature_type:numerical_transformer:rescaling:__choice__': 'quantile_transformer', 'regressor:extra_trees:bootstrap': 'False', 'regressor:extra_trees:criterion': 'mse', 'regressor:extra_trees:max_depth': 'None', 'regressor:extra_trees:max_features': 0.6962692885049272, 'regressor:extra_trees:max_leaf_nodes': 'None', 'regressor:extra_trees:min_impurity_decrease': 0.0, 'regressor:extra_trees:min_samples_leaf': 17, 'regressor:extra_trees:min_samples_split': 17, 'regressor:extra_trees:min_weight_fraction_leaf': 0.0, 'data_preprocessor:feature_type:categorical_transformer:category_coalescence:minority_coalescer:minimum_fraction': 0.00016754269505428354, 'data_preprocessor:feature_type:numerical_transformer:rescaling:quantile_transformer:n_quantiles': 170, 'data_preprocessor:feature_type:numerical_transformer:rescaling:quantile_transformer:output_distribution': 'uniform'},\n",
            "dataset_properties={\n",
            "  'task': 4,\n",
            "  'sparse': False,\n",
            "  'multioutput': False,\n",
            "  'target_type': 'regression',\n",
            "  'signed': False})),\n",
            "(0.071000, SimpleRegressionPipeline({'data_preprocessor:__choice__': 'feature_type', 'feature_preprocessor:__choice__': 'polynomial', 'regressor:__choice__': 'mlp', 'data_preprocessor:feature_type:categorical_transformer:categorical_encoding:__choice__': 'one_hot_encoding', 'data_preprocessor:feature_type:categorical_transformer:category_coalescence:__choice__': 'minority_coalescer', 'data_preprocessor:feature_type:numerical_transformer:imputation:strategy': 'median', 'data_preprocessor:feature_type:numerical_transformer:rescaling:__choice__': 'minmax', 'feature_preprocessor:polynomial:degree': 2, 'feature_preprocessor:polynomial:include_bias': 'False', 'feature_preprocessor:polynomial:interaction_only': 'True', 'regressor:mlp:activation': 'relu', 'regressor:mlp:alpha': 6.108449182457731e-05, 'regressor:mlp:batch_size': 'auto', 'regressor:mlp:beta_1': 0.9, 'regressor:mlp:beta_2': 0.999, 'regressor:mlp:early_stopping': 'valid', 'regressor:mlp:epsilon': 1e-08, 'regressor:mlp:hidden_layer_depth': 3, 'regressor:mlp:learning_rate_init': 0.00027704755935258253, 'regressor:mlp:n_iter_no_change': 32, 'regressor:mlp:num_nodes_per_layer': 101, 'regressor:mlp:shuffle': 'True', 'regressor:mlp:solver': 'adam', 'regressor:mlp:tol': 0.0001, 'data_preprocessor:feature_type:categorical_transformer:category_coalescence:minority_coalescer:minimum_fraction': 0.010356286469647443, 'regressor:mlp:validation_fraction': 0.1},\n",
            "dataset_properties={\n",
            "  'task': 4,\n",
            "  'sparse': False,\n",
            "  'multioutput': False,\n",
            "  'target_type': 'regression',\n",
            "  'signed': False})),\n",
            "]\n"
          ]
        }
      ],
      "source": [
        "print(asr.leaderboard())\n",
        "print(asr.show_models())"
      ]
    },
    {
      "cell_type": "code",
      "execution_count": null,
      "metadata": {
        "colab": {
          "base_uri": "https://localhost:8080/"
        },
        "id": "nP6R9kCOrmmA",
        "outputId": "d38bd877-40d7-4586-96d3-279009b741e9"
      },
      "outputs": [
        {
          "name": "stdout",
          "output_type": "stream",
          "text": [
            "Test RMSE : 1.8356\n",
            "Test MAE : 1.2148\n",
            "Test R2 : 0.4666\n",
            "Test PEARSONR : 0.6872\n"
          ]
        }
      ],
      "source": [
        "test_predictions = asr.predict(test_X)\n",
        "asr_results = {\n",
        "    \"RMSE\" : np.sqrt(mean_squared_error(test_y, test_predictions)),\n",
        "    \"MAE\" : mean_absolute_error(test_y, test_predictions),\n",
        "    \"R2\" : r2_score(test_y, test_predictions),\n",
        "    \"PEARSONR\" : pearsonr(test_y.values, test_predictions)[0]\n",
        "}\n",
        "print(\"Test RMSE : {:.4f}\".format(asr_results['RMSE']))\n",
        "print(\"Test MAE : {:.4f}\".format(asr_results['MAE']))\n",
        "print(\"Test R2 : {:.4f}\".format(asr_results['R2']))\n",
        "print(\"Test PEARSONR : {:.4f}\".format(float(asr_results['PEARSONR'])))"
      ]
    },
    {
      "cell_type": "markdown",
      "metadata": {
        "id": "AmU93tX56VcM"
      },
      "source": [
        "The initial idea was to use it as a sort of benchmark or upper bound for our predictions, but we noticed that, even if minimal, we got better results with other models."
      ]
    },
    {
      "cell_type": "markdown",
      "metadata": {
        "id": "Tblfgf0QwfyG"
      },
      "source": [
        "<a id='expr'></a>\n",
        "### 3). Experiments ([to top](#top))"
      ]
    },
    {
      "cell_type": "markdown",
      "metadata": {
        "id": "2wing14P6XhO"
      },
      "source": [
        "In this section we compared the different results."
      ]
    },
    {
      "cell_type": "code",
      "execution_count": null,
      "metadata": {
        "colab": {
          "base_uri": "https://localhost:8080/",
          "height": 211
        },
        "id": "WsSB20NMwXzz",
        "outputId": "3d7b2945-f48d-4a7d-c80c-bfd4dd5f927b"
      },
      "outputs": [
        {
          "data": {
            "text/html": [
              "<table>\n",
              "<thead>\n",
              "<tr><th>Model                 </th><th style=\"text-align: right;\">  RMSE</th><th style=\"text-align: right;\">   MAE</th><th style=\"text-align: right;\">     R2</th><th>PEARSONR  </th></tr>\n",
              "</thead>\n",
              "<tbody>\n",
              "<tr><td>Dummy                 </td><td style=\"text-align: right;\">2.5134</td><td style=\"text-align: right;\">1.731 </td><td style=\"text-align: right;\">-0.0002</td><td>nan       </td></tr>\n",
              "<tr><td>DecisionTree          </td><td style=\"text-align: right;\">1.9908</td><td style=\"text-align: right;\">1.3494</td><td style=\"text-align: right;\"> 0.3725</td><td>0.6108    </td></tr>\n",
              "<tr><td>DecisionTree Bagging  </td><td style=\"text-align: right;\">1.9465</td><td style=\"text-align: right;\">1.2985</td><td style=\"text-align: right;\"> 0.4001</td><td>0.6534    </td></tr>\n",
              "<tr><td>RandomForest          </td><td style=\"text-align: right;\">1.8107</td><td style=\"text-align: right;\">1.2238</td><td style=\"text-align: right;\"> 0.4809</td><td>0.6973    </td></tr>\n",
              "<tr><td>GradientBoosting      </td><td style=\"text-align: right;\">1.8106</td><td style=\"text-align: right;\">1.2204</td><td style=\"text-align: right;\"> 0.4809</td><td>0.6984    </td></tr>\n",
              "<tr><td>Multi-layer Perceptron</td><td style=\"text-align: right;\">2.2101</td><td style=\"text-align: right;\">1.394 </td><td style=\"text-align: right;\"> 0.2266</td><td>0.4783    </td></tr>\n",
              "<tr><td>MLP Bagging           </td><td style=\"text-align: right;\">2.2739</td><td style=\"text-align: right;\">1.4486</td><td style=\"text-align: right;\"> 0.2266</td><td>0.4305    </td></tr>\n",
              "<tr><td>AutoSklearn           </td><td style=\"text-align: right;\">1.8356</td><td style=\"text-align: right;\">1.2148</td><td style=\"text-align: right;\"> 0.4666</td><td>0.6872    </td></tr>\n",
              "</tbody>\n",
              "</table>"
            ],
            "text/plain": [
              "<IPython.core.display.HTML object>"
            ]
          },
          "metadata": {},
          "output_type": "display_data"
        }
      ],
      "source": [
        "all_models = [\n",
        "    (\"Dummy\", dr_results, dr),\n",
        "    (\"DecisionTree\", dtr_results, [dtr, dtr_rfe_support]),\n",
        "    (\"DecisionTree Bagging\", dtr_bagging_results, [dtr_bagging, dtr_rfe_support]),\n",
        "    (\"RandomForest\", rfr_results, [rfr, rfr_rfe_support]),\n",
        "    (\"GradientBoosting\", gbr_results, [gbr, gbr_rfe_support]),\n",
        "    (\"Multi-layer Perceptron\", mlpr_results, mlpr),\n",
        "    (\"MLP Bagging\", mlpr_bagging_results, mlpr_bagging),\n",
        "    (\"AutoSklearn\", asr_results, asr)\n",
        "]\n",
        "table = [[model_name,\n",
        "          \" %4.4f \" % (model_results[\"RMSE\"]),\n",
        "          \" %4.4f \" % (model_results[\"MAE\"]),\n",
        "          \" %4.4f \" % (model_results[\"R2\"]),\n",
        "          \" %4.4f \" % (model_results[\"PEARSONR\"])]\n",
        "         for model_name, model_results, model in all_models]\n",
        "dump(table, '/content/drive/MyDrive/BDA/models/regressor_table_post.joblib')\n",
        "display(HTML(tabulate.tabulate(table, tablefmt='html', headers=[\"Model\", \"RMSE\", \"MAE\", \"R2\", \"PEARSONR\"])))"
      ]
    },
    {
      "cell_type": "markdown",
      "metadata": {
        "id": "CZnG80a16aE1"
      },
      "source": [
        "Looking at the table we can see how the best results came from tree based, such as random forest and gradient boosting, even going beyond autosklearn. However, the results for the neural networks were disappointing, even below the DT. This is probably due to the fact that an ANN did not be appropriate to this type of prediction and to the multiplicity of types of parameters that can be set which inevitably requires more than a simple trial and error."
      ]
    },
    {
      "cell_type": "code",
      "execution_count": null,
      "metadata": {
        "id": "g5ZkpMbVCDUh"
      },
      "outputs": [],
      "source": [
        "if not Path('/content/drive/MyDrive/BDA/image/scatter_plot.png').is_file():\n",
        "  X, y = return_df.drop(['revenue', 'return', 'return_log'], axis=1), return_df['return_log']\n",
        "  train_X, test_X, train_y, test_y = train_test_split(X, y, train_size=0.75, test_size=0.25, random_state=0)\n",
        "  train_X_m, test_X_m, train_y_m, test_y_m = train_test_split(X_m, y_m, train_size=0.75, test_size=0.25, random_state=0)\n",
        "  fig, axs = plt.subplots(4, 2, figsize=(10, 16))\n",
        "\n",
        "  axs[0, 0].scatter(dr.predict(train_X), train_y, label=\"Train samples\", c='#d95f02')\n",
        "  axs[0, 0].scatter(dr.predict(test_X), test_y, label=\"Test samples\", c='#7570b3')\n",
        "  axs[0, 0].set_xlabel(\"Predicted value\")\n",
        "  axs[0, 0].set_ylabel(\"True value\")\n",
        "  axs[0, 0].set_title(\"Dummy\")\n",
        "\n",
        "  axs[0, 1].scatter(dtr.predict(train_X.loc[:, dtr_rfe_support]), train_y, label=\"Train samples\", c='#d95f02')\n",
        "  axs[0, 1].scatter(dtr.predict(test_X.loc[:, dtr_rfe_support]), test_y, label=\"Test samples\", c='#7570b3')\n",
        "  axs[0, 1].set_xlabel(\"Predicted value\")\n",
        "  axs[0, 1].set_ylabel(\"True value\")\n",
        "  axs[0, 1].set_title(\"DecisionTree\")\n",
        "\n",
        "  axs[1, 0].scatter(dtr_bagging.predict(train_X.loc[:, dtr_rfe_support]), train_y, label=\"Train samples\", c='#d95f02')\n",
        "  axs[1, 0].scatter(dtr_bagging.predict(test_X.loc[:, dtr_rfe_support]), test_y, label=\"Test samples\", c='#7570b3')\n",
        "  axs[1, 0].set_xlabel(\"Predicted value\")\n",
        "  axs[1, 0].set_ylabel(\"True value\")\n",
        "  axs[1, 0].set_title(\"DecisionTree Bagging\")\n",
        "\n",
        "  axs[1, 1].scatter(rfr.predict(train_X.loc[:, rfr_rfe_support]), train_y, label=\"Train samples\", c='#d95f02')\n",
        "  axs[1, 1].scatter(rfr.predict(test_X.loc[:, rfr_rfe_support]), test_y, label=\"Test samples\", c='#7570b3')\n",
        "  axs[1, 1].set_xlabel(\"Predicted value\")\n",
        "  axs[1, 1].set_ylabel(\"True value\")\n",
        "  axs[1, 1].set_title(\"RandomForest\")\n",
        "\n",
        "  axs[2, 0].scatter(gbr.predict(train_X.loc[:, gbr_rfe_support]), train_y, label=\"Train samples\", c='#d95f02')\n",
        "  axs[2, 0].scatter(gbr.predict(test_X.loc[:, gbr_rfe_support]), test_y, label=\"Test samples\", c='#7570b3')\n",
        "  axs[2, 0].set_xlabel(\"Predicted value\")\n",
        "  axs[2, 0].set_ylabel(\"True value\")\n",
        "  axs[2, 0].set_title(\"GradientBoosting\")\n",
        "\n",
        "  axs[2, 1].scatter(mlpr.predict(train_X_m), train_y_m, label=\"Train samples\", c='#d95f02')\n",
        "  axs[2, 1].scatter(mlpr.predict(test_X_m), test_y_m, label=\"Test samples\", c='#7570b3')\n",
        "  axs[2, 1].set_xlabel(\"Predicted value\")\n",
        "  axs[2, 1].set_ylabel(\"True value\")\n",
        "  axs[2, 1].set_title(\"Multi-layer Perceptron\")\n",
        "\n",
        "  axs[3, 0].scatter(mlpr_bagging.predict(train_X_m), train_y_m, label=\"Train samples\", c='#d95f02')\n",
        "  axs[3, 0].scatter(mlpr_bagging.predict(test_X_m), test_y_m, label=\"Test samples\", c='#7570b3')\n",
        "  axs[3, 0].set_xlabel(\"Predicted value\")\n",
        "  axs[3, 0].set_ylabel(\"True value\")\n",
        "  axs[3, 0].set_title(\"MLP Bagging\")\n",
        "\n",
        "  axs[3, 1].scatter(asr.predict(train_X), train_y, label=\"Train samples\", c='#d95f02')\n",
        "  axs[3, 1].scatter(asr.predict(test_X), test_y, label=\"Test samples\", c='#7570b3')\n",
        "  axs[3, 1].set_xlabel(\"Predicted value\")\n",
        "  axs[3, 1].set_ylabel(\"True value\")\n",
        "  axs[3, 1].set_title(\"AutoSklearn\")\n",
        "\n",
        "  fig.tight_layout()\n",
        "  plt.savefig('/content/drive/MyDrive/BDA/image/scatter_plot.png', format='png')\n",
        "  plt.show()"
      ]
    },
    {
      "cell_type": "markdown",
      "metadata": {
        "id": "ZkCph_8sqAqg"
      },
      "source": [
        "<img src = 'https://drive.google.com/uc?id=1-Bwttoirfi23qqHmZhfH_G_C4CnKcckA'>"
      ]
    },
    {
      "cell_type": "markdown",
      "metadata": {
        "id": "takFrfBX6fdA"
      },
      "source": [
        "Also looking at the confusion matrix we can visualize how good our regressors work. In orange are the value predicted for the <font color='orange'>train set</font> and in violet the <font color='SlateBlue '>test set</font>. Apart from the better performances already mentioned, we noticed that the regressor had more difficulties on the higher and less frequent values. A possible choice could be to stratify the train subset with more instances of this type."
      ]
    },
    {
      "cell_type": "markdown",
      "metadata": {
        "id": "2BBCZLJ66iEn"
      },
      "source": [
        "In addition to having performed better, tree based allow us to offer a so-called explanation of their choices. Indeed, using the so-called feature importance they show the discriminating factors for the regression. You can see how in the three models the number of votes (contrary to our expectations) has always been decisive. In an opposite way (and therefore contrary to our expectations) elements such as the director, the actors or the production company were very little relevant."
      ]
    },
    {
      "cell_type": "code",
      "execution_count": null,
      "metadata": {
        "id": "QwsCOWH2FRnq"
      },
      "outputs": [],
      "source": [
        "if not Path('/content/drive/MyDrive/BDA/image/feature_importance_reg.png').is_file():\n",
        "  fig, axs = plt.subplots(nrows=1, ncols=3, figsize=(15, 20))\n",
        "  classifiers = [dtr, rfr, gbr]\n",
        "  rfe_supports = [dtr_rfe_support, rfr_rfe_support, gbr_rfe_support]\n",
        "  for regs, rfe_support, ax in zip(classifiers, rfe_supports, axs.flatten()):\n",
        "    sns.barplot(x=regs.feature_importances_, y=train_X.loc[:, rfe_support].columns, ax=ax)\n",
        "    ax.title.set_text(type(regs).__name__)\n",
        "\n",
        "  fig.tight_layout()\n",
        "  plt.savefig('/content/drive/MyDrive/BDA/image/feature_importance_reg.png', format='png')\n",
        "  plt.show()"
      ]
    },
    {
      "cell_type": "markdown",
      "metadata": {
        "id": "iQiaL_L1qRWo"
      },
      "source": [
        "<img src = 'https://drive.google.com/uc?id=1-WFF23qrC0gTe6gjylqCCtQApNwSY8yw'>"
      ]
    },
    {
      "cell_type": "code",
      "execution_count": null,
      "metadata": {
        "id": "S8X9egM5HMDe"
      },
      "outputs": [],
      "source": [
        "if not Path('/content/drive/MyDrive/BDA/image/dt_reg.png').is_file():\n",
        "  # visualize the actual decision tree obtained \n",
        "  dot_data = export_graphviz(dtr,\n",
        "                out_file=None,\n",
        "                max_depth=4, \n",
        "                feature_names=list(train_X.loc[:, dtr_rfe_support].columns),  \n",
        "                filled=True,\n",
        "                rotate=True,\n",
        "                rounded=True)  \n",
        "  graph = pydotplus.graph_from_dot_data(dot_data)\n",
        "  graph.write_png('/content/drive/MyDrive/BDA/image/dt_reg.png')  \n",
        "  Image(graph.create_png())"
      ]
    },
    {
      "cell_type": "markdown",
      "metadata": {
        "id": "b0A65fVyqwDR"
      },
      "source": [
        "<img src = 'https://drive.google.com/uc?id=1-X4hr7s0vnoyyS6LFgpL-FVbAbmVwnXD'>"
      ]
    },
    {
      "cell_type": "markdown",
      "metadata": {
        "id": "IS4w-OYP6le2"
      },
      "source": [
        "Looking at the plot of our decision tree (truncated: the first splits are the most decisive) we can in a certain sense tell the story of our regression: starting from the division by number of votes, then budget and so on."
      ]
    },
    {
      "cell_type": "markdown",
      "metadata": {
        "id": "8_NFBbFwcda_"
      },
      "source": [
        "<a id='tcr'></a>\n",
        "### 4). Testcases ([to top](#top))"
      ]
    },
    {
      "cell_type": "markdown",
      "metadata": {
        "id": "pVaQrz9zhb90"
      },
      "source": [
        "**Test for Gradient boosting and Random Forest model:**"
      ]
    },
    {
      "cell_type": "markdown",
      "metadata": {
        "id": "jnGcBTgChx7G"
      },
      "source": [
        "Testcase 1:"
      ]
    },
    {
      "cell_type": "code",
      "execution_count": null,
      "metadata": {
        "colab": {
          "base_uri": "https://localhost:8080/",
          "height": 145
        },
        "id": "XtrBUAwSSUJG",
        "outputId": "ec11de95-d3d1-4d24-b106-b5fb0af0737c"
      },
      "outputs": [
        {
          "data": {
            "text/html": [
              "\n",
              "  <div id=\"df-7609411c-025f-493f-8093-b5382e3a2bd8\">\n",
              "    <div class=\"colab-df-container\">\n",
              "      <div>\n",
              "<style scoped>\n",
              "    .dataframe tbody tr th:only-of-type {\n",
              "        vertical-align: middle;\n",
              "    }\n",
              "\n",
              "    .dataframe tbody tr th {\n",
              "        vertical-align: top;\n",
              "    }\n",
              "\n",
              "    .dataframe thead th {\n",
              "        text-align: right;\n",
              "    }\n",
              "</style>\n",
              "<table border=\"1\" class=\"dataframe\">\n",
              "  <thead>\n",
              "    <tr style=\"text-align: right;\">\n",
              "      <th></th>\n",
              "      <th>budget_tmdb</th>\n",
              "      <th>month_cos</th>\n",
              "      <th>month_sin</th>\n",
              "      <th>popularity</th>\n",
              "      <th>return</th>\n",
              "      <th>return_log</th>\n",
              "      <th>revenue</th>\n",
              "      <th>runtime</th>\n",
              "      <th>vote_average</th>\n",
              "      <th>vote_count</th>\n",
              "      <th>year</th>\n",
              "    </tr>\n",
              "  </thead>\n",
              "  <tbody>\n",
              "    <tr>\n",
              "      <th>4727</th>\n",
              "      <td>12000000.0</td>\n",
              "      <td>0.866025</td>\n",
              "      <td>0.5</td>\n",
              "      <td>6.135652</td>\n",
              "      <td>0.437916</td>\n",
              "      <td>-0.825729</td>\n",
              "      <td>5254986.0</td>\n",
              "      <td>97.0</td>\n",
              "      <td>6.5</td>\n",
              "      <td>228.0</td>\n",
              "      <td>2008</td>\n",
              "    </tr>\n",
              "  </tbody>\n",
              "</table>\n",
              "</div>\n",
              "      <button class=\"colab-df-convert\" onclick=\"convertToInteractive('df-7609411c-025f-493f-8093-b5382e3a2bd8')\"\n",
              "              title=\"Convert this dataframe to an interactive table.\"\n",
              "              style=\"display:none;\">\n",
              "        \n",
              "  <svg xmlns=\"http://www.w3.org/2000/svg\" height=\"24px\"viewBox=\"0 0 24 24\"\n",
              "       width=\"24px\">\n",
              "    <path d=\"M0 0h24v24H0V0z\" fill=\"none\"/>\n",
              "    <path d=\"M18.56 5.44l.94 2.06.94-2.06 2.06-.94-2.06-.94-.94-2.06-.94 2.06-2.06.94zm-11 1L8.5 8.5l.94-2.06 2.06-.94-2.06-.94L8.5 2.5l-.94 2.06-2.06.94zm10 10l.94 2.06.94-2.06 2.06-.94-2.06-.94-.94-2.06-.94 2.06-2.06.94z\"/><path d=\"M17.41 7.96l-1.37-1.37c-.4-.4-.92-.59-1.43-.59-.52 0-1.04.2-1.43.59L10.3 9.45l-7.72 7.72c-.78.78-.78 2.05 0 2.83L4 21.41c.39.39.9.59 1.41.59.51 0 1.02-.2 1.41-.59l7.78-7.78 2.81-2.81c.8-.78.8-2.07 0-2.86zM5.41 20L4 18.59l7.72-7.72 1.47 1.35L5.41 20z\"/>\n",
              "  </svg>\n",
              "      </button>\n",
              "      \n",
              "  <style>\n",
              "    .colab-df-container {\n",
              "      display:flex;\n",
              "      flex-wrap:wrap;\n",
              "      gap: 12px;\n",
              "    }\n",
              "\n",
              "    .colab-df-convert {\n",
              "      background-color: #E8F0FE;\n",
              "      border: none;\n",
              "      border-radius: 50%;\n",
              "      cursor: pointer;\n",
              "      display: none;\n",
              "      fill: #1967D2;\n",
              "      height: 32px;\n",
              "      padding: 0 0 0 0;\n",
              "      width: 32px;\n",
              "    }\n",
              "\n",
              "    .colab-df-convert:hover {\n",
              "      background-color: #E2EBFA;\n",
              "      box-shadow: 0px 1px 2px rgba(60, 64, 67, 0.3), 0px 1px 3px 1px rgba(60, 64, 67, 0.15);\n",
              "      fill: #174EA6;\n",
              "    }\n",
              "\n",
              "    [theme=dark] .colab-df-convert {\n",
              "      background-color: #3B4455;\n",
              "      fill: #D2E3FC;\n",
              "    }\n",
              "\n",
              "    [theme=dark] .colab-df-convert:hover {\n",
              "      background-color: #434B5C;\n",
              "      box-shadow: 0px 1px 3px 1px rgba(0, 0, 0, 0.15);\n",
              "      filter: drop-shadow(0px 1px 2px rgba(0, 0, 0, 0.3));\n",
              "      fill: #FFFFFF;\n",
              "    }\n",
              "  </style>\n",
              "\n",
              "      <script>\n",
              "        const buttonEl =\n",
              "          document.querySelector('#df-7609411c-025f-493f-8093-b5382e3a2bd8 button.colab-df-convert');\n",
              "        buttonEl.style.display =\n",
              "          google.colab.kernel.accessAllowed ? 'block' : 'none';\n",
              "\n",
              "        async function convertToInteractive(key) {\n",
              "          const element = document.querySelector('#df-7609411c-025f-493f-8093-b5382e3a2bd8');\n",
              "          const dataTable =\n",
              "            await google.colab.kernel.invokeFunction('convertToInteractive',\n",
              "                                                     [key], {});\n",
              "          if (!dataTable) return;\n",
              "\n",
              "          const docLinkHtml = 'Like what you see? Visit the ' +\n",
              "            '<a target=\"_blank\" href=https://colab.research.google.com/notebooks/data_table.ipynb>data table notebook</a>'\n",
              "            + ' to learn more about interactive tables.';\n",
              "          element.innerHTML = '';\n",
              "          dataTable['output_type'] = 'display_data';\n",
              "          await google.colab.output.renderOutput(dataTable, element);\n",
              "          const docLink = document.createElement('div');\n",
              "          docLink.innerHTML = docLinkHtml;\n",
              "          element.appendChild(docLink);\n",
              "        }\n",
              "      </script>\n",
              "    </div>\n",
              "  </div>\n",
              "  "
            ],
            "text/plain": [
              "      budget_tmdb  month_cos  month_sin  ...  vote_average  vote_count  year\n",
              "4727   12000000.0   0.866025        0.5  ...           6.5       228.0  2008\n",
              "\n",
              "[1 rows x 11 columns]"
            ]
          },
          "execution_count": 68,
          "metadata": {},
          "output_type": "execute_result"
        }
      ],
      "source": [
        "# Random choice from testset\n",
        "chosen_idx_1 = np.random.choice(test_y[(test_y<=5)|(test_y>=-5)].index.values, replace = True)\n",
        "return_df[return_df.index == chosen_idx_1][['budget_tmdb', 'month_cos', 'month_sin', 'popularity', 'return', 'return_log', 'revenue', 'runtime', 'vote_average', 'vote_count', 'year']]"
      ]
    },
    {
      "cell_type": "code",
      "execution_count": null,
      "metadata": {
        "colab": {
          "base_uri": "https://localhost:8080/"
        },
        "id": "28hMMc6Idxyr",
        "outputId": "a3813925-2b4a-4e61-b468-c1332e28bfc5"
      },
      "outputs": [
        {
          "name": "stdout",
          "output_type": "stream",
          "text": [
            "\n",
            " chosen_idx: 4727, y_pred: 0.0684, y_true: -0.8257\n"
          ]
        }
      ],
      "source": [
        "# Prediction from Gradient Boosting model\n",
        "y_pred = gbr.predict(test_X.loc[:, gbr_rfe_support][test_X.index == chosen_idx_1].values.reshape(1, -1))[0]\n",
        "y_true = test_y[test_y.index == chosen_idx_1].values[0]\n",
        "print(\"\\n chosen_idx: {}, y_pred: {:.4f}, y_true: {:.4f}\".format(chosen_idx_1, y_pred, y_true))"
      ]
    },
    {
      "cell_type": "code",
      "execution_count": null,
      "metadata": {
        "colab": {
          "base_uri": "https://localhost:8080/"
        },
        "id": "mVJ9rZ2x_S9W",
        "outputId": "718b989b-3d24-4a9f-8a21-b308a936908a"
      },
      "outputs": [
        {
          "name": "stdout",
          "output_type": "stream",
          "text": [
            "\n",
            " chosen_idx: 4727, y_pred: 0.1873, y_true: -0.8257\n"
          ]
        }
      ],
      "source": [
        "# Prediction from Random Forest model\n",
        "y_pred = rfr.predict(test_X.loc[:, rfr_rfe_support][test_X.index == chosen_idx_1].values.reshape(1, -1))[0]\n",
        "y_true = test_y[test_y.index == chosen_idx_1].values[0]\n",
        "print(\"\\n chosen_idx: {}, y_pred: {:.4f}, y_true: {:.4f}\".format(chosen_idx_1, y_pred, y_true))"
      ]
    },
    {
      "cell_type": "markdown",
      "metadata": {
        "id": "15jjr7yYh2gS"
      },
      "source": [
        "Testcase 2:"
      ]
    },
    {
      "cell_type": "code",
      "execution_count": null,
      "metadata": {
        "colab": {
          "base_uri": "https://localhost:8080/",
          "height": 145
        },
        "id": "E4rlc1z0Rf5g",
        "outputId": "e47a91c6-f996-4107-b8e7-eb565c051310"
      },
      "outputs": [
        {
          "data": {
            "text/html": [
              "\n",
              "  <div id=\"df-4381e401-8230-42ef-8555-87dc183a3dd2\">\n",
              "    <div class=\"colab-df-container\">\n",
              "      <div>\n",
              "<style scoped>\n",
              "    .dataframe tbody tr th:only-of-type {\n",
              "        vertical-align: middle;\n",
              "    }\n",
              "\n",
              "    .dataframe tbody tr th {\n",
              "        vertical-align: top;\n",
              "    }\n",
              "\n",
              "    .dataframe thead th {\n",
              "        text-align: right;\n",
              "    }\n",
              "</style>\n",
              "<table border=\"1\" class=\"dataframe\">\n",
              "  <thead>\n",
              "    <tr style=\"text-align: right;\">\n",
              "      <th></th>\n",
              "      <th>budget_tmdb</th>\n",
              "      <th>month_cos</th>\n",
              "      <th>month_sin</th>\n",
              "      <th>popularity</th>\n",
              "      <th>return</th>\n",
              "      <th>return_log</th>\n",
              "      <th>revenue</th>\n",
              "      <th>runtime</th>\n",
              "      <th>vote_average</th>\n",
              "      <th>vote_count</th>\n",
              "      <th>year</th>\n",
              "    </tr>\n",
              "  </thead>\n",
              "  <tbody>\n",
              "    <tr>\n",
              "      <th>2152</th>\n",
              "      <td>1.0</td>\n",
              "      <td>0.5</td>\n",
              "      <td>-0.866025</td>\n",
              "      <td>4.028679</td>\n",
              "      <td>12396383.0</td>\n",
              "      <td>16.332915</td>\n",
              "      <td>12396383.0</td>\n",
              "      <td>98.0</td>\n",
              "      <td>6.1</td>\n",
              "      <td>77.0</td>\n",
              "      <td>1987</td>\n",
              "    </tr>\n",
              "  </tbody>\n",
              "</table>\n",
              "</div>\n",
              "      <button class=\"colab-df-convert\" onclick=\"convertToInteractive('df-4381e401-8230-42ef-8555-87dc183a3dd2')\"\n",
              "              title=\"Convert this dataframe to an interactive table.\"\n",
              "              style=\"display:none;\">\n",
              "        \n",
              "  <svg xmlns=\"http://www.w3.org/2000/svg\" height=\"24px\"viewBox=\"0 0 24 24\"\n",
              "       width=\"24px\">\n",
              "    <path d=\"M0 0h24v24H0V0z\" fill=\"none\"/>\n",
              "    <path d=\"M18.56 5.44l.94 2.06.94-2.06 2.06-.94-2.06-.94-.94-2.06-.94 2.06-2.06.94zm-11 1L8.5 8.5l.94-2.06 2.06-.94-2.06-.94L8.5 2.5l-.94 2.06-2.06.94zm10 10l.94 2.06.94-2.06 2.06-.94-2.06-.94-.94-2.06-.94 2.06-2.06.94z\"/><path d=\"M17.41 7.96l-1.37-1.37c-.4-.4-.92-.59-1.43-.59-.52 0-1.04.2-1.43.59L10.3 9.45l-7.72 7.72c-.78.78-.78 2.05 0 2.83L4 21.41c.39.39.9.59 1.41.59.51 0 1.02-.2 1.41-.59l7.78-7.78 2.81-2.81c.8-.78.8-2.07 0-2.86zM5.41 20L4 18.59l7.72-7.72 1.47 1.35L5.41 20z\"/>\n",
              "  </svg>\n",
              "      </button>\n",
              "      \n",
              "  <style>\n",
              "    .colab-df-container {\n",
              "      display:flex;\n",
              "      flex-wrap:wrap;\n",
              "      gap: 12px;\n",
              "    }\n",
              "\n",
              "    .colab-df-convert {\n",
              "      background-color: #E8F0FE;\n",
              "      border: none;\n",
              "      border-radius: 50%;\n",
              "      cursor: pointer;\n",
              "      display: none;\n",
              "      fill: #1967D2;\n",
              "      height: 32px;\n",
              "      padding: 0 0 0 0;\n",
              "      width: 32px;\n",
              "    }\n",
              "\n",
              "    .colab-df-convert:hover {\n",
              "      background-color: #E2EBFA;\n",
              "      box-shadow: 0px 1px 2px rgba(60, 64, 67, 0.3), 0px 1px 3px 1px rgba(60, 64, 67, 0.15);\n",
              "      fill: #174EA6;\n",
              "    }\n",
              "\n",
              "    [theme=dark] .colab-df-convert {\n",
              "      background-color: #3B4455;\n",
              "      fill: #D2E3FC;\n",
              "    }\n",
              "\n",
              "    [theme=dark] .colab-df-convert:hover {\n",
              "      background-color: #434B5C;\n",
              "      box-shadow: 0px 1px 3px 1px rgba(0, 0, 0, 0.15);\n",
              "      filter: drop-shadow(0px 1px 2px rgba(0, 0, 0, 0.3));\n",
              "      fill: #FFFFFF;\n",
              "    }\n",
              "  </style>\n",
              "\n",
              "      <script>\n",
              "        const buttonEl =\n",
              "          document.querySelector('#df-4381e401-8230-42ef-8555-87dc183a3dd2 button.colab-df-convert');\n",
              "        buttonEl.style.display =\n",
              "          google.colab.kernel.accessAllowed ? 'block' : 'none';\n",
              "\n",
              "        async function convertToInteractive(key) {\n",
              "          const element = document.querySelector('#df-4381e401-8230-42ef-8555-87dc183a3dd2');\n",
              "          const dataTable =\n",
              "            await google.colab.kernel.invokeFunction('convertToInteractive',\n",
              "                                                     [key], {});\n",
              "          if (!dataTable) return;\n",
              "\n",
              "          const docLinkHtml = 'Like what you see? Visit the ' +\n",
              "            '<a target=\"_blank\" href=https://colab.research.google.com/notebooks/data_table.ipynb>data table notebook</a>'\n",
              "            + ' to learn more about interactive tables.';\n",
              "          element.innerHTML = '';\n",
              "          dataTable['output_type'] = 'display_data';\n",
              "          await google.colab.output.renderOutput(dataTable, element);\n",
              "          const docLink = document.createElement('div');\n",
              "          docLink.innerHTML = docLinkHtml;\n",
              "          element.appendChild(docLink);\n",
              "        }\n",
              "      </script>\n",
              "    </div>\n",
              "  </div>\n",
              "  "
            ],
            "text/plain": [
              "      budget_tmdb  month_cos  month_sin  ...  vote_average  vote_count  year\n",
              "2152          1.0        0.5  -0.866025  ...           6.1        77.0  1987\n",
              "\n",
              "[1 rows x 11 columns]"
            ]
          },
          "execution_count": 71,
          "metadata": {},
          "output_type": "execute_result"
        }
      ],
      "source": [
        "# Random choice from testset\n",
        "chosen_idx_2 = np.random.choice(test_y[(test_y>6)|(test_y<-10)].index.values, replace = True)\n",
        "return_df[return_df.index == chosen_idx_2][['budget_tmdb', 'month_cos', 'month_sin', 'popularity', 'return', 'return_log', 'revenue', 'runtime', 'vote_average', 'vote_count', 'year']]"
      ]
    },
    {
      "cell_type": "code",
      "execution_count": null,
      "metadata": {
        "colab": {
          "base_uri": "https://localhost:8080/"
        },
        "id": "Y9HPxyU_f4Db",
        "outputId": "623afae5-f9e7-42ce-f443-aa9ef75f4476"
      },
      "outputs": [
        {
          "name": "stdout",
          "output_type": "stream",
          "text": [
            "\n",
            " chosen_idx: 2152, y_pred: 7.8936, y_true: 16.3329\n"
          ]
        }
      ],
      "source": [
        "# Prediction from Gradient Boosting model\n",
        "y_pred = gbr.predict(test_X.loc[:, gbr_rfe_support][test_X.index == chosen_idx_2].values.reshape(1, -1))[0]\n",
        "y_true = test_y[test_y.index == chosen_idx_2].values[0]\n",
        "print(\"\\n chosen_idx: {}, y_pred: {:.4f}, y_true: {:.4f}\".format(chosen_idx_2, y_pred, y_true))"
      ]
    },
    {
      "cell_type": "code",
      "execution_count": null,
      "metadata": {
        "colab": {
          "base_uri": "https://localhost:8080/"
        },
        "id": "Z0iYw8oA_xNn",
        "outputId": "0654b98c-706d-45b8-8aa6-31335af788f0"
      },
      "outputs": [
        {
          "name": "stdout",
          "output_type": "stream",
          "text": [
            "\n",
            " chosen_idx: 2152, y_pred: 5.3676, y_true: 16.3329\n"
          ]
        }
      ],
      "source": [
        "# Prediction from Random Forest model\n",
        "y_pred = rfr.predict(test_X.loc[:, rfr_rfe_support][test_X.index == chosen_idx_2].values.reshape(1, -1))[0]\n",
        "y_true = test_y[test_y.index == chosen_idx_2].values[0]\n",
        "print(\"\\n chosen_idx: {}, y_pred: {:.4f}, y_true: {:.4f}\".format(chosen_idx_2, y_pred, y_true))"
      ]
    },
    {
      "cell_type": "markdown",
      "metadata": {
        "id": "fLxQL3PHhjD2"
      },
      "source": [
        "<a id='clf'></a>\n",
        "## B. Movie Profitability Classification ([to top](#top))"
      ]
    },
    {
      "cell_type": "markdown",
      "metadata": {
        "id": "qnzgkUmMZIK5"
      },
      "source": [
        "So far, we have built various regressors, which are all quantitative research methods. In this section, to answer what factors influence whether a movie will be able to recoup its investments? We will try to solve the same problem in a qualitative way by classification.\n"
      ]
    },
    {
      "cell_type": "markdown",
      "metadata": {
        "id": "9Cwy_yPJkB9k"
      },
      "source": [
        "<a id='afec'></a>\n",
        "### 1). Additional Features Engineering ([to top](#top))"
      ]
    },
    {
      "cell_type": "markdown",
      "metadata": {
        "id": "oxK0VRoEwSpN"
      },
      "source": [
        "First, let’s convert our **return_log** feature into a binary variable, which is **0** when the revenue is lower than the budget, indicating a **flop**, and **1** otherwise, indicating a **hit**. "
      ]
    },
    {
      "cell_type": "code",
      "execution_count": null,
      "metadata": {
        "id": "b7oaJ8NspqDJ"
      },
      "outputs": [],
      "source": [
        "return_df['profitability'] = return_df['return_log'].apply(lambda x: 1 if x >=0 else 0)\n",
        "\n",
        "X, y = return_df.drop(['revenue', 'return', 'return_log','profitability'], axis=1), return_df['profitability']"
      ]
    },
    {
      "cell_type": "markdown",
      "metadata": {
        "id": "mQX4f_lAKqjA"
      },
      "source": [
        "<a id='hud'></a>\n",
        "### 2). Handling Unbalanced Data ([to top](#top))"
      ]
    },
    {
      "cell_type": "code",
      "execution_count": null,
      "metadata": {
        "colab": {
          "base_uri": "https://localhost:8080/"
        },
        "id": "5SK4SKFDrSPl",
        "outputId": "9867c71a-b004-4ed0-95ee-bddf014f380d"
      },
      "outputs": [
        {
          "name": "stdout",
          "output_type": "stream",
          "text": [
            "1    4892\n",
            "0    3964\n",
            "Name: profitability, dtype: int64\n"
          ]
        }
      ],
      "source": [
        "print(y.value_counts())"
      ]
    },
    {
      "cell_type": "markdown",
      "metadata": {
        "id": "0ywWnUnS6xJk"
      },
      "source": [
        "As we all know, imbalanced data will harm the performance of our classifier, especially on the minority class, although typically, its performance on the minority class is most important. To address our imbalanced dataset, we augment our data for the minority class via Synthetic Minority Oversampling Technique or SMOTE for short.\n"
      ]
    },
    {
      "cell_type": "code",
      "execution_count": null,
      "metadata": {
        "colab": {
          "base_uri": "https://localhost:8080/"
        },
        "id": "hMAkuvcUp0k8",
        "outputId": "4f001457-f5a0-495a-f3a0-684695144af3"
      },
      "outputs": [
        {
          "name": "stdout",
          "output_type": "stream",
          "text": [
            "(6642, 68) (6642,)\n"
          ]
        }
      ],
      "source": [
        "train_X, test_X, train_y, test_y = train_test_split(X, y, train_size=0.75, test_size=0.25, random_state=0)\n",
        "test_X_no_sm, test_y_no_sm = test_X, test_y\n",
        "print(train_X.shape, train_y.shape)"
      ]
    },
    {
      "cell_type": "code",
      "execution_count": null,
      "metadata": {
        "colab": {
          "base_uri": "https://localhost:8080/"
        },
        "id": "So3eQ1164WHS",
        "outputId": "0dc659ef-6267-49b4-8211-1875fa1a2f49"
      },
      "outputs": [
        {
          "name": "stdout",
          "output_type": "stream",
          "text": [
            "(7334, 68) (7334,)\n"
          ]
        }
      ],
      "source": [
        "# Apply SMOTE to balance the dataset\n",
        "sm = SMOTE(random_state=42)\n",
        "train_X_sm, train_y_sm = sm.fit_resample(train_X, train_y)\n",
        "print(train_X_sm.shape, train_y_sm.shape)"
      ]
    },
    {
      "cell_type": "code",
      "execution_count": null,
      "metadata": {
        "colab": {
          "base_uri": "https://localhost:8080/"
        },
        "id": "U3_IJms_DVpX",
        "outputId": "4f392098-fc7f-42e3-bf08-9dc03c6374f1"
      },
      "outputs": [
        {
          "name": "stdout",
          "output_type": "stream",
          "text": [
            "1    3667\n",
            "0    3667\n",
            "Name: profitability, dtype: int64\n"
          ]
        }
      ],
      "source": [
        "print(train_y_sm.value_counts())"
      ]
    },
    {
      "cell_type": "markdown",
      "metadata": {
        "id": "lm4WGVo6Ovqu"
      },
      "source": [
        "<a id='clfs'></a>\n",
        "### 3). Classifiers ([to top](#top))"
      ]
    },
    {
      "cell_type": "markdown",
      "metadata": {
        "id": "fDgLFBOiddeG"
      },
      "source": [
        "Now our data is prepared, we will try to test various classifier, ranging from tree-based method to neural network based models."
      ]
    },
    {
      "cell_type": "markdown",
      "metadata": {
        "id": "eGFR3pfl60j6"
      },
      "source": [
        "As before we will go through various models in order to predict our result, with the difference, however, that we now have a binary target and therefore we will perform a classification. the models will be very similar but obviously with a different objective:\n",
        "1. [Dummy](#dc)\n",
        "2. [Decision Tree](#dtc)\n",
        "3. [Decision Tree with Bagging](#dtwbc)\n",
        "4. [Random Forest](#rfc)\n",
        "5. [Gradient Boosting](#gbc)\n",
        "6. [Multilayer Perceptron](#mlpc)\n",
        "7. [MLP with Bagging](#mlpwbc)\n",
        "8. [MLP-SVM](#mlp-svm)\n",
        "9. [Stacking Classifiers](#sc)\n",
        "10. [Auto Sklearn (automated machine learning toolkit)](#asc)"
      ]
    },
    {
      "cell_type": "markdown",
      "metadata": {
        "id": "0IW0kkDPdsVs"
      },
      "source": [
        "We also use a dummy classifier as our baseline. As in the regression task, we also start with tree based models, as they are interpretable by themselves. \n"
      ]
    },
    {
      "cell_type": "markdown",
      "metadata": {
        "id": "3wtQ_1k5Kkgy"
      },
      "source": [
        "<a id='dc'></a>\n",
        "#### DummyClassifier ([to top](#top))"
      ]
    },
    {
      "cell_type": "code",
      "execution_count": null,
      "metadata": {
        "colab": {
          "base_uri": "https://localhost:8080/"
        },
        "id": "uG3kSm_S3iBf",
        "outputId": "1dcaca46-1a03-4c26-c9fa-2b32f0e0bd89"
      },
      "outputs": [
        {
          "name": "stdout",
          "output_type": "stream",
          "text": [
            "Accuracy for testset: 0.4467\n",
            "Precision for testset: 0.2234\n",
            "Recall for testset: 0.5000\n",
            "Fscore for testset: 0.3088\n",
            "Roc_auc for testset: 0.5000\n"
          ]
        }
      ],
      "source": [
        "# \"stratified\", \"most_frequent\", \"prior\", \"uniform\", \"constant\"\n",
        "dc = DummyClassifier(strategy=\"most_frequent\")\n",
        "dc.fit(train_X_sm, train_y_sm)\n",
        "test_predictions = dc.predict(test_X)\n",
        "precision, recall, fscore, _ = score(test_y,test_predictions,average='macro')\n",
        "dc_results = {\n",
        "    \"accuracy\" : dc.score(test_X, test_y),\n",
        "    \"precision\" : precision,\n",
        "    \"recall\" : recall,\n",
        "    \"fscore\" : fscore,\n",
        "    \"roc_auc\" : roc_auc_score(test_y,test_predictions)\n",
        "}\n",
        "print('Accuracy for testset: %.4f' % dc_results[\"accuracy\"])\n",
        "print('Precision for testset: %.4f' % dc_results[\"precision\"])\n",
        "print('Recall for testset: %.4f' % dc_results[\"recall\"])\n",
        "print('Fscore for testset: %.4f' % dc_results[\"fscore\"])\n",
        "print('Roc_auc for testset: %.4f' % dc_results[\"roc_auc\"])"
      ]
    },
    {
      "cell_type": "markdown",
      "metadata": {
        "id": "5lupYH1BrLbz"
      },
      "source": [
        "<a id='dtc'></a>\n",
        "#### DecisionTreeClassifier ([to top](#top))"
      ]
    },
    {
      "cell_type": "code",
      "execution_count": null,
      "metadata": {
        "id": "FxigXxLMHqC_"
      },
      "outputs": [],
      "source": [
        "train_X, train_y = train_X_sm, train_y_sm\n",
        "test_X, test_y = test_X_no_sm, test_y_no_sm"
      ]
    },
    {
      "cell_type": "markdown",
      "metadata": {
        "id": "QnKtCjwLf7Tg"
      },
      "source": [
        "Before starting, we performed a features selection using recursive feature elimination (RFE)"
      ]
    },
    {
      "cell_type": "code",
      "execution_count": null,
      "metadata": {
        "id": "Hlibf_2Vrsj2"
      },
      "outputs": [],
      "source": [
        "if not Path('/content/drive/MyDrive/BDA/image/dtc_rfe.png').is_file():\n",
        "  # get a list of models to evaluate\n",
        "  def get_models():\n",
        "    models = dict()\n",
        "    for i in range(2, train_X.shape[1], 4):\n",
        "      rfe = RFE(estimator=DecisionTreeClassifier(random_state = 0), n_features_to_select=i)\n",
        "      model = DecisionTreeClassifier(random_state = 0)\n",
        "      models[str(i)] = Pipeline(steps=[('s', rfe), ('m', model)])\n",
        "    return models\n",
        "\n",
        "  # evaluate a give model using cross-validation\n",
        "  def evaluate_model(model, X, y):\n",
        "    cv = RepeatedStratifiedKFold(n_splits=5, n_repeats=3, random_state=0)\n",
        "    scores = cross_val_score(model, X, y, scoring='accuracy', cv=cv, n_jobs=-1, error_score='raise')\n",
        "    return scores\n",
        "\n",
        "  # get the models to evaluate\n",
        "  models = get_models()\n",
        "\n",
        "  # evaluate the models and store results\n",
        "  results, names = list(), list()\n",
        "  for name, model in models.items():\n",
        "    scores = evaluate_model(model, train_X[:int(len(train_X)*0.2)], train_y[:int(len(train_X)*0.2)])\n",
        "    results.append(scores)\n",
        "    names.append(name)\n",
        "    print('%s %.3f (%.3f)' % (name, mean(scores), std(scores)))\n",
        "\n",
        "  # plot model performance for comparison\n",
        "  plt.boxplot(results, labels=names, showmeans=True)\n",
        "  plt.xlabel('number of features', fontsize=20)\n",
        "  plt.ylabel('scores', fontsize=20)\n",
        "  plt.grid(alpha=0.2)\n",
        "  plt.tight_layout()\n",
        "  plt.savefig('/content/drive/MyDrive/BDA/image/dtc_rfe.png', format='png')\n",
        "  plt.show()\n",
        "  plt.close()"
      ]
    },
    {
      "cell_type": "markdown",
      "metadata": {
        "id": "IcQRDUk8t25s"
      },
      "source": [
        "<img src = 'https://drive.google.com/uc?id=10jNk7E5NHlnpPITtWj1XLU6DG4KUjd6R'>"
      ]
    },
    {
      "cell_type": "markdown",
      "metadata": {
        "id": "quC_heoa7YU_"
      },
      "source": [
        "You can notice that with respect to the same application with different tasks, we select a greater number of features: 58 compared to the 46 of the regressor."
      ]
    },
    {
      "cell_type": "code",
      "execution_count": null,
      "metadata": {
        "id": "j7Xg_GVErsj3"
      },
      "outputs": [],
      "source": [
        "if Path('/content/drive/MyDrive/BDA/model/dtc_rfe_support.npy').is_file():\n",
        "  dtc_rfe_support = np.load('/content/drive/MyDrive/BDA/model/dtc_rfe_support.npy')\n",
        "  train_X, test_X = train_X.loc[:, dtc_rfe_support], test_X.loc[:, dtc_rfe_support]\n",
        "\n",
        "else:\n",
        "  # create pipeline\n",
        "  rfe = RFE(estimator=DecisionTreeClassifier(random_state = 0), n_features_to_select=58)\n",
        "\n",
        "  # let's create a pipeline\n",
        "  model = DecisionTreeClassifier(random_state = 0)\n",
        "\n",
        "  # create a pipeline\n",
        "  pipeline = Pipeline(steps=[('s', rfe), ('m', model)])\n",
        "\n",
        "  # evaluate model\n",
        "  cv = RepeatedStratifiedKFold(n_splits=5, n_repeats=3, random_state=0)\n",
        "  n_scores = cross_val_score(model, train_X, train_y, scoring='accuracy', cv=cv, n_jobs=-1, error_score='raise')\n",
        "\n",
        "  # report performance\n",
        "  print('Accuray for cv: %.3f (%.3f)' % (mean(n_scores), std(n_scores)))\n",
        "  pipeline.fit(train_X, train_y)\n",
        "  scores = pipeline.score(test_X, test_y)\n",
        "\n",
        "  # report performance\n",
        "  print('Accuracy for testset: %.3f (%.3f)' % (mean(scores), std(scores)))\n",
        "\n",
        "  train_X, test_X = train_X.loc[:, rfe.support_], test_X.loc[:, rfe.support_]\n",
        "  np.save('/content/drive/MyDrive/BDA/model/dtc_rfe_support.npy', rfe.support_)"
      ]
    },
    {
      "cell_type": "markdown",
      "metadata": {
        "id": "n7J6zrhXgCXv"
      },
      "source": [
        "Then, the RepeatedStratifiedKFold cross-validation was used for model selection."
      ]
    },
    {
      "cell_type": "code",
      "execution_count": null,
      "metadata": {
        "colab": {
          "base_uri": "https://localhost:8080/"
        },
        "id": "uKWm5Qisrsj4",
        "outputId": "88de1305-e9a5-4229-968c-020f28ab6657"
      },
      "outputs": [
        {
          "name": "stdout",
          "output_type": "stream",
          "text": [
            "DecisionTreeClassifier(max_depth=10, min_samples_leaf=25, min_samples_split=150,\n",
            "                       random_state=0)\n"
          ]
        }
      ],
      "source": [
        "if Path('/content/drive/MyDrive/BDA/model/DecisionTreeClassifier.joblib').is_file():\n",
        "  dtc = load('/content/drive/MyDrive/BDA/model/DecisionTreeClassifier.joblib')\n",
        "\n",
        "else:\n",
        "  params = {'criterion':['gini','entropy'],\n",
        "            'splitter' : ['best', 'random'],\n",
        "            'max_depth' : [2, 5, 10, 15, 20, 25, None],\n",
        "            'min_samples_split' : [100, 150, 200],\n",
        "            'min_samples_leaf': [2, 5, 10, 15, 20, 25]}\n",
        "\n",
        "  grid_search_cv = GridSearchCV(DecisionTreeClassifier(random_state=0),params,verbose=1,cv=5,scoring='accuracy',n_jobs=-1)\n",
        "  grid_search_cv.fit(train_X,train_y)\n",
        "\n",
        "  dump(grid_search_cv.best_estimator_, '/content/drive/MyDrive/BDA/model/DecisionTreeClassifier.joblib') \n",
        "  dtc = grid_search_cv.best_estimator_\n",
        "\n",
        "print(dtc)"
      ]
    },
    {
      "cell_type": "markdown",
      "metadata": {
        "id": "OhHKuaJ2gTM5"
      },
      "source": [
        "We also use grid search cross-validation to choose the best hyper-parameter based on the accuracy obtained. "
      ]
    },
    {
      "cell_type": "code",
      "execution_count": null,
      "metadata": {
        "colab": {
          "base_uri": "https://localhost:8080/"
        },
        "id": "9B0G0axQq9Gg",
        "outputId": "e137d843-62c0-458a-bf2f-65d0364b3a4d"
      },
      "outputs": [
        {
          "name": "stdout",
          "output_type": "stream",
          "text": [
            "Accuracy for testset: 0.7511\n",
            "Precision for testset: 0.7498\n",
            "Recall for testset: 0.7524\n",
            "Fscore for testset: 0.7500\n",
            "Roc_auc for testset: 0.7524\n"
          ]
        }
      ],
      "source": [
        "test_predictions = dtc.predict(test_X)\n",
        "precision, recall, fscore, _ = score(test_y,test_predictions,average='macro')\n",
        "dtc_results = {\n",
        "    \"accuracy\" : accuracy_score(test_y, test_predictions),\n",
        "    \"precision\" : precision,\n",
        "    \"recall\" : recall,\n",
        "    \"fscore\" : fscore,\n",
        "    \"roc_auc\" : roc_auc_score(test_y,test_predictions)\n",
        "}\n",
        "print('Accuracy for testset: %.4f' % dtc_results[\"accuracy\"])\n",
        "print('Precision for testset: %.4f' % dtc_results[\"precision\"])\n",
        "print('Recall for testset: %.4f' % dtc_results[\"recall\"])\n",
        "print('Fscore for testset: %.4f' % dtc_results[\"fscore\"])\n",
        "print('Roc_auc for testset: %.4f' % dtc_results[\"roc_auc\"])"
      ]
    },
    {
      "cell_type": "markdown",
      "metadata": {
        "id": "DBT4LP-67cuZ"
      },
      "source": [
        "The first results seem to be very interesting, but obviously we need to compare them to those of other classifiers."
      ]
    },
    {
      "cell_type": "markdown",
      "metadata": {
        "id": "yjDEhrvY3nYT"
      },
      "source": [
        "<a id='dtwbc'></a>\n",
        "#### DecisionTree with BaggingClassifier ([to top](#top))"
      ]
    },
    {
      "cell_type": "markdown",
      "metadata": {
        "id": "e4sNmvU_7e2Y"
      },
      "source": [
        "Same as previously, to improve the performance, we tried the ensemble method. First, we added bagging to the decision tree model, followed by the random forest and gradient boost classifier. "
      ]
    },
    {
      "cell_type": "code",
      "execution_count": null,
      "metadata": {
        "colab": {
          "base_uri": "https://localhost:8080/"
        },
        "id": "NpZ6xGaWHXTo",
        "outputId": "f8d932ff-6bd2-4eeb-b89f-eb77511acc1c"
      },
      "outputs": [
        {
          "name": "stdout",
          "output_type": "stream",
          "text": [
            "BaggingClassifier(base_estimator=DecisionTreeClassifier(max_depth=10,\n",
            "                                                        min_samples_leaf=25,\n",
            "                                                        min_samples_split=150,\n",
            "                                                        random_state=0),\n",
            "                  max_features=0.8, max_samples=0.8, n_estimators=50,\n",
            "                  random_state=0)\n"
          ]
        }
      ],
      "source": [
        "if Path('/content/drive/MyDrive/BDA/model/dtc_BaggingClassifier.joblib').is_file():\n",
        "  dtc_bagging = load('/content/drive/MyDrive/BDA/model/dtc_BaggingClassifier.joblib') \n",
        "\n",
        "else:\n",
        "  dtc_bagging = BaggingClassifier(base_estimator=dtc, n_estimators=50, max_samples=0.8, max_features=0.8, random_state=0).fit(train_X,train_y)\n",
        "  dump(dtc_bagging, '/content/drive/MyDrive/BDA/model/dtc_BaggingClassifier.joblib')\n",
        "\n",
        "print(dtc_bagging)"
      ]
    },
    {
      "cell_type": "code",
      "execution_count": null,
      "metadata": {
        "colab": {
          "base_uri": "https://localhost:8080/"
        },
        "id": "xdyVgJaKHXTo",
        "outputId": "92fd064f-af65-4383-d574-8584ca5f8acf"
      },
      "outputs": [
        {
          "name": "stdout",
          "output_type": "stream",
          "text": [
            "Accuracy for testset: 0.7724\n",
            "Precision for testset: 0.7728\n",
            "Recall for testset: 0.7759\n",
            "Fscore for testset: 0.7718\n",
            "Roc_auc for testset: 0.7759\n"
          ]
        }
      ],
      "source": [
        "test_predictions = dtc_bagging.predict(test_X)\n",
        "precision, recall, fscore, _ = score(test_y, test_predictions,average='macro')\n",
        "dtc_bagging_results = {\n",
        "    \"accuracy\" : accuracy_score(test_y, test_predictions),\n",
        "    \"precision\" : precision,\n",
        "    \"recall\" : recall,\n",
        "    \"fscore\" : fscore,\n",
        "    \"roc_auc\" : roc_auc_score(test_y,test_predictions)\n",
        "}\n",
        "print('Accuracy for testset: %.4f' % dtc_bagging_results[\"accuracy\"])\n",
        "print('Precision for testset: %.4f' % dtc_bagging_results[\"precision\"])\n",
        "print('Recall for testset: %.4f' % dtc_bagging_results[\"recall\"])\n",
        "print('Fscore for testset: %.4f' % dtc_bagging_results[\"fscore\"])\n",
        "print('Roc_auc for testset: %.4f' % dtc_bagging_results[\"roc_auc\"])"
      ]
    },
    {
      "cell_type": "markdown",
      "metadata": {
        "id": "iDGa1hU47kQO"
      },
      "source": [
        "As the same way as seen in the regression section, with bagging we have slightly improved all the performances, without losing either precision or recall."
      ]
    },
    {
      "cell_type": "markdown",
      "metadata": {
        "id": "Jq6t4CsO6sKg"
      },
      "source": [
        "<a id='rfc'></a>\n",
        "#### RandomForestClassifier ([to top](#top))"
      ]
    },
    {
      "cell_type": "code",
      "execution_count": null,
      "metadata": {
        "id": "E1o2Nj6-H05q"
      },
      "outputs": [],
      "source": [
        "train_X, train_y = train_X_sm, train_y_sm\n",
        "test_X, test_y = test_X_no_sm, test_y_no_sm"
      ]
    },
    {
      "cell_type": "code",
      "execution_count": null,
      "metadata": {
        "id": "nTcMVzxx6sKh"
      },
      "outputs": [],
      "source": [
        "if not Path('/content/drive/MyDrive/BDA/image/rfc_rfe.png').is_file():\n",
        "  # get a list of models to evaluate\n",
        "  def get_models():\n",
        "    models = dict()\n",
        "    for i in range(2, train_X.shape[1], 4):\n",
        "      rfe = RFE(estimator=RandomForestClassifier(random_state = 0), n_features_to_select=i)\n",
        "      model = RandomForestClassifier(random_state = 0)\n",
        "      models[str(i)] = Pipeline(steps=[('s', rfe), ('m', model)])\n",
        "    return models\n",
        "\n",
        "  # evaluate a give model using cross-validation\n",
        "  def evaluate_model(model, X, y):\n",
        "    cv = RepeatedStratifiedKFold(n_splits=5, n_repeats=3, random_state=0)\n",
        "    scores = cross_val_score(model, X, y, scoring='accuracy', cv=cv, n_jobs=-1, error_score='raise')\n",
        "    return scores\n",
        "\n",
        "  # get the models to evaluate\n",
        "  models = get_models()\n",
        "\n",
        "  # evaluate the models and store results\n",
        "  results, names = list(), list()\n",
        "  for name, model in models.items():\n",
        "    scores = evaluate_model(model, train_X[:int(len(train_X)*0.2)], train_y[:int(len(train_X)*0.2)])\n",
        "    results.append(scores)\n",
        "    names.append(name)\n",
        "    print('%s %.3f (%.3f)' % (name, mean(scores), std(scores)))\n",
        "\n",
        "  # plot model performance for comparison\n",
        "  plt.boxplot(results, labels=names, showmeans=True)\n",
        "  plt.xlabel('number of features', fontsize=20)\n",
        "  plt.ylabel('scores', fontsize=20)\n",
        "  plt.grid(alpha=0.2)\n",
        "  plt.tight_layout()\n",
        "  plt.savefig('/content/drive/MyDrive/BDA/image/rfc_rfe.png', format='png')\n",
        "  plt.show()\n",
        "  plt.close()"
      ]
    },
    {
      "cell_type": "markdown",
      "metadata": {
        "id": "70Ii8rH8uGmJ"
      },
      "source": [
        "<img src = 'https://drive.google.com/uc?id=10nzuWBr_P9O5LP7pnLZ30qp7tJVbg4mw'>"
      ]
    },
    {
      "cell_type": "markdown",
      "metadata": {
        "id": "RVZHdLBC7rNy"
      },
      "source": [
        "It is interesting to note in the selection of the necessary features there is a tangible proportion between the two tasks. Indeed for the regressors we have selected 46-34 (DT - RF), for the classifiers 58-46: keeping approximately the same proportions of 75%."
      ]
    },
    {
      "cell_type": "code",
      "execution_count": null,
      "metadata": {
        "id": "C_eInXzQ6sKh"
      },
      "outputs": [],
      "source": [
        "if Path('/content/drive/MyDrive/BDA/model/rfc_rfe_support.npy').is_file():\n",
        "  rfc_rfe_support = np.load('/content/drive/MyDrive/BDA/model/rfc_rfe_support.npy')\n",
        "  train_X, test_X = train_X.loc[:, rfc_rfe_support], test_X.loc[:, rfc_rfe_support]\n",
        "\n",
        "else:\n",
        "  # create pipeline\n",
        "  rfe = RFE(estimator=RandomForestClassifier(random_state = 0), n_features_to_select=46)\n",
        "\n",
        "  # let's create a pipeline\n",
        "  model = RandomForestClassifier(random_state = 0)\n",
        "\n",
        "  # create a pipeline\n",
        "  pipeline = Pipeline(steps=[('s', rfe), ('m', model)])\n",
        "\n",
        "  # evaluate model\n",
        "  cv = RepeatedStratifiedKFold(n_splits=5, n_repeats=3, random_state=0)\n",
        "  n_scores = cross_val_score(model, train_X, train_y, scoring='accuracy', cv=cv, n_jobs=-1, error_score='raise')\n",
        "\n",
        "  # report performance\n",
        "  print('Accuray for cv: %.3f (%.3f)' % (mean(n_scores), std(n_scores)))\n",
        "\n",
        "  pipeline.fit(train_X, train_y)\n",
        "  scores = pipeline.score(test_X, test_y)\n",
        "\n",
        "  # report performance\n",
        "  print('Accuracy for testset: %.3f (%.3f)' % (mean(scores), std(scores)))\n",
        "\n",
        "  train_X, test_X = train_X.loc[:, rfe.support_], test_X.loc[:, rfe.support_]\n",
        "  np.save('/content/drive/MyDrive/BDA/model/rfc_rfe_support.npy', rfe.support_)"
      ]
    },
    {
      "cell_type": "code",
      "execution_count": null,
      "metadata": {
        "colab": {
          "base_uri": "https://localhost:8080/"
        },
        "id": "x2ynOEcL6sKi",
        "outputId": "a99b933c-4eb4-446e-cfb9-887e0e404737"
      },
      "outputs": [
        {
          "name": "stdout",
          "output_type": "stream",
          "text": [
            "RandomForestClassifier(n_estimators=400, random_state=0)\n"
          ]
        }
      ],
      "source": [
        "if Path('/content/drive/MyDrive/BDA/model/RandomForestClassifier.joblib').is_file():\n",
        "  rfc = load('/content/drive/MyDrive/BDA/model/RandomForestClassifier.joblib')\n",
        "\n",
        "else:\n",
        "  params = {'criterion' : ['gini','entropy'],\n",
        "            'n_estimators' : [int(x) for x in np.linspace(start = 100, stop = 1000, num = 10)],\n",
        "            'min_samples_split' : [2, 3, 5, 7],\n",
        "            'min_samples_leaf': [1, 2, 5, 7]}\n",
        "\n",
        "  grid_search_cv = GridSearchCV(RandomForestClassifier(random_state=0),params,verbose=1,cv=5,scoring='accuracy',n_jobs=-1)\n",
        "  grid_search_cv.fit(train_X,train_y)\n",
        "\n",
        "  dump(grid_search_cv.best_estimator_, '/content/drive/MyDrive/BDA/model/RandomForestClassifier.joblib')\n",
        "  rfc = grid_search_cv.best_estimator_\n",
        "\n",
        "print(rfc)"
      ]
    },
    {
      "cell_type": "code",
      "execution_count": null,
      "metadata": {
        "colab": {
          "base_uri": "https://localhost:8080/"
        },
        "id": "OzHxDOWh9tab",
        "outputId": "56a6a757-7f8b-47c5-a25a-45abced0e73b"
      },
      "outputs": [
        {
          "name": "stdout",
          "output_type": "stream",
          "text": [
            "Accuracy for testset: 0.7773\n",
            "Precision for testset: 0.7756\n",
            "Recall for testset: 0.7782\n",
            "Fscore for testset: 0.7761\n",
            "Roc_auc for testset: 0.7782\n"
          ]
        }
      ],
      "source": [
        "test_predictions = rfc.predict(test_X)\n",
        "precision, recall, fscore, _ = score(test_y,test_predictions,average='macro')\n",
        "rfc_results = {\n",
        "    \"accuracy\" : accuracy_score(test_y, test_predictions),\n",
        "    \"precision\" : precision,\n",
        "    \"recall\" : recall,\n",
        "    \"fscore\" : fscore,\n",
        "    \"roc_auc\" : roc_auc_score(test_y,test_predictions)\n",
        "}\n",
        "print('Accuracy for testset: %.4f' % rfc_results[\"accuracy\"])\n",
        "print('Precision for testset: %.4f' % rfc_results[\"precision\"])\n",
        "print('Recall for testset: %.4f' % rfc_results[\"recall\"])\n",
        "print('Fscore for testset: %.4f' % rfc_results[\"fscore\"])\n",
        "print('Roc_auc for testset: %.4f' % rfc_results[\"roc_auc\"])"
      ]
    },
    {
      "cell_type": "markdown",
      "metadata": {
        "id": "OeuUtjjk7vDm"
      },
      "source": [
        "Same to the previous experience, random forest improved the performance compared to bagging decisiontree."
      ]
    },
    {
      "cell_type": "markdown",
      "metadata": {
        "id": "06394Pfnyq1S"
      },
      "source": [
        "<a id='gbc'></a>\n",
        "#### GradientBoostingClassifier ([to top](#top))"
      ]
    },
    {
      "cell_type": "code",
      "execution_count": null,
      "metadata": {
        "id": "5XGJrUcfH20g"
      },
      "outputs": [],
      "source": [
        "train_X, train_y = train_X_sm, train_y_sm\n",
        "test_X, test_y = test_X_no_sm, test_y_no_sm"
      ]
    },
    {
      "cell_type": "code",
      "execution_count": null,
      "metadata": {
        "id": "49oSLkz4zH-D"
      },
      "outputs": [],
      "source": [
        "if not Path('/content/drive/MyDrive/BDA/image/gbc_rfe.png').is_file():\n",
        "  # get a list of models to evaluate\n",
        "  def get_models():\n",
        "    models = dict()\n",
        "    for i in range(2, train_X.shape[1], 4):\n",
        "      rfe = RFE(estimator=GradientBoostingClassifier(random_state = 0), n_features_to_select=i)\n",
        "      model = GradientBoostingClassifier(random_state = 0)\n",
        "      models[str(i)] = Pipeline(steps=[('s', rfe), ('m', model)])\n",
        "    return models\n",
        "\n",
        "  # evaluate a give model using cross-validation\n",
        "  def evaluate_model(model, X, y):\n",
        "    cv = RepeatedStratifiedKFold(n_splits=5, n_repeats=3, random_state=0)\n",
        "    scores = cross_val_score(model, X, y, scoring='accuracy', cv=cv, n_jobs=-1, error_score='raise')\n",
        "    return scores\n",
        "\n",
        "  # get the models to evaluate\n",
        "  models = get_models()\n",
        "\n",
        "  # evaluate the models and store results\n",
        "  results, names = list(), list()\n",
        "  for name, model in models.items():\n",
        "    scores = evaluate_model(model, train_X[:int(len(train_X)*0.2)], train_y[:int(len(train_X)*0.2)])\n",
        "    results.append(scores)\n",
        "    names.append(name)\n",
        "    print('%s %.3f (%.3f)' % (name, mean(scores), std(scores)))\n",
        "\n",
        "  # plot model performance for comparison\n",
        "  plt.boxplot(results, labels=names, showmeans=True)\n",
        "  plt.xlabel('number of features', fontsize=20)\n",
        "  plt.ylabel('scores', fontsize=20)\n",
        "  plt.grid(alpha=0.2)\n",
        "  plt.tight_layout()\n",
        "  plt.savefig('/content/drive/MyDrive/BDA/image/gbc_rfe.png', format='png')\n",
        "  plt.show()\n",
        "  plt.close()"
      ]
    },
    {
      "cell_type": "markdown",
      "metadata": {
        "id": "QPm-07-ruS1f"
      },
      "source": [
        "<img src = 'https://drive.google.com/uc?id=10ulfQihH2asaUvBgNlmh7ev-vSoK2kxF'>"
      ]
    },
    {
      "cell_type": "markdown",
      "metadata": {
        "id": "nlwfu2-F7yq1"
      },
      "source": [
        "Another example of proportionality is the reduction of features from 46 to 42, as happened in the previous section from 34 to 30."
      ]
    },
    {
      "cell_type": "code",
      "execution_count": null,
      "metadata": {
        "id": "_I-ofdTDzH-G"
      },
      "outputs": [],
      "source": [
        "if Path('/content/drive/MyDrive/BDA/model/gbc_rfe_support.npy').is_file():\n",
        "  gbc_rfe_support = np.load('/content/drive/MyDrive/BDA/model/gbc_rfe_support.npy')\n",
        "  train_X, test_X = train_X.loc[:, gbc_rfe_support], test_X.loc[:, gbc_rfe_support]\n",
        "\n",
        "else:\n",
        "  # create pipeline\n",
        "  rfe = RFE(estimator=GradientBoostingClassifier(random_state = 0), n_features_to_select=42)\n",
        "\n",
        "  # let's create a pipeline\n",
        "  model = GradientBoostingClassifier(random_state = 0)\n",
        "\n",
        "  # create a pipeline\n",
        "  pipeline = Pipeline(steps=[('s', rfe), ('m', model)])\n",
        "\n",
        "  # evaluate model\n",
        "  cv = RepeatedStratifiedKFold(n_splits=5, n_repeats=3, random_state=0)\n",
        "  n_scores = cross_val_score(model, train_X, train_y, scoring='accuracy', cv=cv, n_jobs=-1, error_score='raise')\n",
        "\n",
        "  # report performance\n",
        "  print('Accuray for cv: %.3f (%.3f)' % (mean(n_scores), std(n_scores)))\n",
        "  pipeline.fit(train_X, train_y)\n",
        "  scores = pipeline.score(test_X, test_y)\n",
        "\n",
        "  # report performance\n",
        "  print('Accuracy for testset: %.3f (%.3f)' % (mean(scores), std(scores)))\n",
        "\n",
        "  train_X, test_X = train_X.loc[:, rfe.support_], test_X.loc[:, rfe.support_]\n",
        "  np.save('/content/drive/MyDrive/BDA/model/gbc_rfe_support.npy', rfe.support_)"
      ]
    },
    {
      "cell_type": "code",
      "execution_count": null,
      "metadata": {
        "colab": {
          "base_uri": "https://localhost:8080/"
        },
        "id": "ZNtjEiOkzH-L",
        "outputId": "5c35442c-be9d-40ce-8d6d-e11c6753f0b2"
      },
      "outputs": [
        {
          "name": "stdout",
          "output_type": "stream",
          "text": [
            "GradientBoostingClassifier(learning_rate=0.01, max_depth=6, n_estimators=1000,\n",
            "                           random_state=0, subsample=0.9)\n"
          ]
        }
      ],
      "source": [
        "if Path('/content/drive/MyDrive/BDA/model/GradientBoostingClassifier.joblib').is_file():\n",
        "  gbc = load('/content/drive/MyDrive/BDA/model/GradientBoostingClassifier.joblib')\n",
        "\n",
        "else:\n",
        "\n",
        "  params = {'learning_rate': [0.1, 0.01, 0.001],\n",
        "            'subsample'    : [0.9, 0.5, 0.3],\n",
        "            'n_estimators' : [200, 500, 1000],\n",
        "            'max_depth'    : [4,6,8]}\n",
        "\n",
        "  grid_search_cv = GridSearchCV(GradientBoostingClassifier(random_state=0),params,verbose=1,cv=5,scoring='accuracy',n_jobs=-1)\n",
        "  grid_search_cv.fit(train_X,train_y)\n",
        "\n",
        "  dump(grid_search_cv.best_estimator_, '/content/drive/MyDrive/BDA/model/GradientBoostingClassifier.joblib') \n",
        "  gbc = grid_search_cv.best_estimator_\n",
        "\n",
        "print(gbc)"
      ]
    },
    {
      "cell_type": "code",
      "execution_count": null,
      "metadata": {
        "colab": {
          "base_uri": "https://localhost:8080/"
        },
        "id": "LCNVoDrt-xnX",
        "outputId": "4961464f-7956-4fc1-e20c-af2f0705f975"
      },
      "outputs": [
        {
          "name": "stdout",
          "output_type": "stream",
          "text": [
            "Accuracy for testset: 0.7873\n",
            "Precision for testset: 0.7853\n",
            "Recall for testset: 0.7879\n",
            "Fscore for testset: 0.7860\n",
            "Roc_auc for testset: 0.7879\n"
          ]
        }
      ],
      "source": [
        "test_predictions = gbc.predict(test_X)\n",
        "precision, recall, fscore, _ = score(test_y,test_predictions,average='macro')\n",
        "gbc_results = {\n",
        "    \"accuracy\" : accuracy_score(test_y, test_predictions),\n",
        "    \"precision\" : precision,\n",
        "    \"recall\" : recall,\n",
        "    \"fscore\" : fscore,\n",
        "    \"roc_auc\" : roc_auc_score(test_y,test_predictions)\n",
        "}\n",
        "print('Accuracy for testset: %.4f' % gbc_results[\"accuracy\"])\n",
        "print('Precision for testset: %.4f' % gbc_results[\"precision\"])\n",
        "print('Recall for testset: %.4f' % gbc_results[\"recall\"])\n",
        "print('Fscore for testset: %.4f' % gbc_results[\"fscore\"])\n",
        "print('Roc_auc for testset: %.4f' % gbc_results[\"roc_auc\"])"
      ]
    },
    {
      "cell_type": "markdown",
      "metadata": {
        "id": "Iqzhte4g76lx"
      },
      "source": [
        "This time, the gradient boosting seems to outdistance (even if slightly) RF performances."
      ]
    },
    {
      "cell_type": "markdown",
      "metadata": {
        "id": "9p-8_9l1a4nA"
      },
      "source": [
        "<a id='mlpc'></a>\n",
        "#### MLPClassifier ([to top](#top))"
      ]
    },
    {
      "cell_type": "code",
      "execution_count": null,
      "metadata": {
        "id": "Z0oONhuGcCHB"
      },
      "outputs": [],
      "source": [
        "X, y = return_df.drop(['revenue', 'return', 'return_log','profitability'], axis=1), return_df['profitability']\n",
        "data_X = X.copy()\n",
        "scaler_m = MinMaxScaler()\n",
        "data_X = scaler_m.fit_transform(data_X.values)\n",
        "data_X = pd.DataFrame(data_X, columns= X.columns)\n",
        "train_X, test_X, train_y, test_y = train_test_split(data_X, y, train_size=0.75, test_size=0.25, random_state=0)"
      ]
    },
    {
      "cell_type": "code",
      "execution_count": null,
      "metadata": {
        "colab": {
          "base_uri": "https://localhost:8080/"
        },
        "id": "1-MSO0nsa4nC",
        "outputId": "36c5e266-4462-4dc7-c5b8-e6102f83158e"
      },
      "outputs": [
        {
          "data": {
            "text/plain": [
              "((7334, 68), (7334,))"
            ]
          },
          "execution_count": 98,
          "metadata": {},
          "output_type": "execute_result"
        }
      ],
      "source": [
        "# Apply SMOTE to balance the dataset\n",
        "sm = SMOTE(random_state=42)\n",
        "train_X, train_y = sm.fit_resample(train_X, train_y)\n",
        "train_X.shape, train_y.shape"
      ]
    },
    {
      "cell_type": "code",
      "execution_count": null,
      "metadata": {
        "colab": {
          "base_uri": "https://localhost:8080/"
        },
        "id": "fmnm5Kjqa4nF",
        "outputId": "2c2d39e3-83c0-46d1-d85b-d03e20a79a41"
      },
      "outputs": [
        {
          "name": "stdout",
          "output_type": "stream",
          "text": [
            "MLPClassifier(activation='tanh', alpha=0.001, early_stopping=True,\n",
            "              hidden_layer_sizes=(1,), max_iter=1000, random_state=0,\n",
            "              solver='lbfgs')\n"
          ]
        }
      ],
      "source": [
        "if Path('/content/drive/MyDrive/BDA/model/MLPClassifier.joblib').is_file():\n",
        "  mlpc = load('/content/drive/MyDrive/BDA/model/MLPClassifier.joblib')\n",
        "\n",
        "else:\n",
        "  params = {\"hidden_layer_sizes\": [(1,),(2,),(3,)],\n",
        "            \"activation\": [\"identity\", \"logistic\", \"tanh\", \"relu\"],\n",
        "            \"solver\": [\"lbfgs\", \"sgd\", \"adam\"],\n",
        "            \"alpha\": [0.001,0.005,0.01]}\n",
        "\n",
        "  grid_search_cv = GridSearchCV(MLPClassifier(random_state = 0, early_stopping=True, max_iter=1000),params,verbose=1,cv=5,scoring='accuracy',n_jobs=-1)\n",
        "  grid_search_cv.fit(train_X,train_y)\n",
        "\n",
        "  dump(grid_search_cv.best_estimator_, '/content/drive/MyDrive/BDA/model/MLPClassifier.joblib')\n",
        "  mlpc = grid_search_cv.best_estimator_\n",
        "\n",
        "print(mlpc)"
      ]
    },
    {
      "cell_type": "code",
      "execution_count": null,
      "metadata": {
        "colab": {
          "base_uri": "https://localhost:8080/"
        },
        "id": "EPePHIm_y1MX",
        "outputId": "83b6662d-7e94-4477-f741-04abbe43fae3"
      },
      "outputs": [
        {
          "name": "stdout",
          "output_type": "stream",
          "text": [
            "Accuracy for testset: 0.7584\n",
            "Precision for testset: 0.7595\n",
            "Recall for testset: 0.7623\n",
            "Fscore for testset: 0.7579\n",
            "Roc_auc for testset: 0.7623\n"
          ]
        }
      ],
      "source": [
        "test_predictions = mlpc.predict(test_X)\n",
        "precision, recall, fscore, _ = score(test_y,test_predictions,average='macro')\n",
        "mlpc_results = {\n",
        "    \"accuracy\" : accuracy_score(test_y, test_predictions),\n",
        "    \"precision\" : precision,\n",
        "    \"recall\" : recall,\n",
        "    \"fscore\" : fscore,\n",
        "    \"roc_auc\" : roc_auc_score(test_y,test_predictions)\n",
        "}\n",
        "print('Accuracy for testset: %.4f' % mlpc_results[\"accuracy\"])\n",
        "print('Precision for testset: %.4f' % mlpc_results[\"precision\"])\n",
        "print('Recall for testset: %.4f' % mlpc_results[\"recall\"])\n",
        "print('Fscore for testset: %.4f' % mlpc_results[\"fscore\"])\n",
        "print('Roc_auc for testset: %.4f' % mlpc_results[\"roc_auc\"])"
      ]
    },
    {
      "cell_type": "markdown",
      "metadata": {
        "id": "SA-PFzsv39Wm"
      },
      "source": [
        "<a id='mlpwbc'></a>\n",
        "#### MLP with BaggingClassifier ([to top](#top))"
      ]
    },
    {
      "cell_type": "code",
      "execution_count": null,
      "metadata": {
        "colab": {
          "base_uri": "https://localhost:8080/"
        },
        "id": "osPAAUywIYMO",
        "outputId": "c9227e41-ceb9-44c6-a722-f4675252ff62"
      },
      "outputs": [
        {
          "name": "stdout",
          "output_type": "stream",
          "text": [
            "BaggingClassifier(base_estimator=MLPClassifier(activation='tanh', alpha=0.001,\n",
            "                                               early_stopping=True,\n",
            "                                               hidden_layer_sizes=(1,),\n",
            "                                               max_iter=1000, random_state=0,\n",
            "                                               solver='lbfgs'),\n",
            "                  max_features=0.8, max_samples=0.8, n_estimators=50,\n",
            "                  random_state=0)\n"
          ]
        }
      ],
      "source": [
        "if Path('/content/drive/MyDrive/BDA/model/mlpc_BaggingClassifier.joblib').is_file():\n",
        "  mlpc_bagging = load('/content/drive/MyDrive/BDA/model/mlpc_BaggingClassifier.joblib') \n",
        "\n",
        "else:\n",
        "  mlpc_bagging = BaggingClassifier(base_estimator=mlpc, n_estimators=50, max_samples=0.8, max_features=0.8, random_state=0).fit(train_X,train_y)\n",
        "  dump(mlpc_bagging, '/content/drive/MyDrive/BDA/model/mlpc_BaggingClassifier.joblib')\n",
        "\n",
        "print(mlpc_bagging)"
      ]
    },
    {
      "cell_type": "code",
      "execution_count": null,
      "metadata": {
        "colab": {
          "base_uri": "https://localhost:8080/"
        },
        "id": "WI0hn12O-mb_",
        "outputId": "53aa8885-64cb-4680-cbad-13f72a4a5f2a"
      },
      "outputs": [
        {
          "name": "stdout",
          "output_type": "stream",
          "text": [
            "Accuracy for testset: 0.7593\n",
            "Precision for testset: 0.7595\n",
            "Recall for testset: 0.7625\n",
            "Fscore for testset: 0.7586\n",
            "Roc_auc for testset: 0.7625\n"
          ]
        }
      ],
      "source": [
        "test_predictions = mlpc_bagging.predict(test_X)\n",
        "precision, recall, fscore, _ = score(test_y,test_predictions,average='macro')\n",
        "mlpc_bagging_results = {\n",
        "    \"accuracy\" : accuracy_score(test_y, test_predictions),\n",
        "    \"precision\" : precision,\n",
        "    \"recall\" : recall,\n",
        "    \"fscore\" : fscore,\n",
        "    \"roc_auc\" : roc_auc_score(test_y,test_predictions)\n",
        "}\n",
        "print('Accuracy for testset: %.4f' % mlpc_bagging_results[\"accuracy\"])\n",
        "print('Precision for testset: %.4f' % mlpc_bagging_results[\"precision\"])\n",
        "print('Recall for testset: %.4f' % mlpc_bagging_results[\"recall\"])\n",
        "print('Fscore for testset: %.4f' % mlpc_bagging_results[\"fscore\"])\n",
        "print('Roc_auc for testset: %.4f' % mlpc_bagging_results[\"roc_auc\"])"
      ]
    },
    {
      "cell_type": "markdown",
      "metadata": {
        "id": "iwTdrLgS8D9r"
      },
      "source": [
        "Also in this case, the neural networks are the ones that worked not as good as we expected. Although the results are not as disappointing as those of the regression."
      ]
    },
    {
      "cell_type": "markdown",
      "metadata": {
        "id": "aWD_zRPDcwPJ"
      },
      "source": [
        "<a id='mlp-svm'></a>\n",
        "#### MLP-SVM ([to top](#top))"
      ]
    },
    {
      "cell_type": "markdown",
      "metadata": {
        "id": "9gvuChy5g38C"
      },
      "source": [
        "In addition, We trained a Keras model that approximates a Support Vector Machine (SVM).\n",
        "The key idea is to stack a RandomFourierFeatures layer with a linear layer. The RandomFourierFeatures layer can be used to \"kernelize\" linear models by applying a non-linear transformation to the input features and training a linear model on top of the transformed features. The composition of this layer and the linear model with hinge loss results in equivalent models (up to approximation) to kernel SVMs."
      ]
    },
    {
      "cell_type": "markdown",
      "metadata": {
        "id": "8_nLUqtJiplE"
      },
      "source": [
        "By the way, we also tried the SVC model with hyperparameter tuning, but the performance was not very well. This Quasi-SVM method in Keras could improve the performance by backpropagation. "
      ]
    },
    {
      "cell_type": "code",
      "execution_count": null,
      "metadata": {
        "id": "-zUoun0Jvon6"
      },
      "outputs": [],
      "source": [
        "from sklearn.base import TransformerMixin, BaseEstimator\n",
        "from keras.utils import np_utils\n",
        "from keras.wrappers.scikit_learn import KerasClassifier\n",
        "from keras.models import Sequential\n",
        "from keras.layers import Activation, Dense, Dropout\n",
        "from tensorflow.keras.layers.experimental import RandomFourierFeatures\n",
        "from keras.regularizers import l2\n",
        "import keras\n",
        "from numpy.random import seed\n",
        "seed(1)\n",
        "import tensorflow as tf\n",
        "tf.random.set_seed(2)"
      ]
    },
    {
      "cell_type": "code",
      "execution_count": null,
      "metadata": {
        "id": "SCIC6cxCcwPM"
      },
      "outputs": [],
      "source": [
        "X, y = return_df.drop(['revenue', 'return', 'return_log','profitability'], axis=1), return_df['profitability']\n",
        "data_X = X.copy()\n",
        "scaler_m = MinMaxScaler()\n",
        "data_X = scaler_m.fit_transform(data_X.values)\n",
        "data_X = pd.DataFrame(data_X, columns= X.columns)\n",
        "train_X, test_X, train_y, test_y = train_test_split(data_X, y, train_size=0.75, test_size=0.25, random_state=0)"
      ]
    },
    {
      "cell_type": "code",
      "execution_count": null,
      "metadata": {
        "colab": {
          "base_uri": "https://localhost:8080/"
        },
        "id": "OiDMpt4mcwPM",
        "outputId": "843a70e3-d485-4bff-ccae-dc888368ba0b"
      },
      "outputs": [
        {
          "data": {
            "text/plain": [
              "((7334, 68), (7334,))"
            ]
          },
          "execution_count": 105,
          "metadata": {},
          "output_type": "execute_result"
        }
      ],
      "source": [
        "# Apply SMOTE to balance the dataset\n",
        "sm = SMOTE(random_state=42)\n",
        "train_X, train_y = sm.fit_resample(train_X, train_y)\n",
        "train_X.shape, train_y.shape"
      ]
    },
    {
      "cell_type": "code",
      "execution_count": null,
      "metadata": {
        "id": "fK22wlZldO79"
      },
      "outputs": [],
      "source": [
        "train_y = np_utils.to_categorical(train_y)\n",
        "test_y = np_utils.to_categorical(test_y)"
      ]
    },
    {
      "cell_type": "code",
      "execution_count": null,
      "metadata": {
        "id": "KuJEeLo9cwPN"
      },
      "outputs": [],
      "source": [
        "def create_model(init='uniform', optimizer='Adam'):\n",
        "    # define model\n",
        "    model = Sequential()\n",
        "    model.add(Dense(64, input_dim=len(train_X.columns), kernel_initializer=init, activation='tanh')) \n",
        "    model.add(Dropout(0.2))\n",
        "    model.add(Dense(100, input_dim=len(train_X.columns))) \n",
        "    RandomFourierFeatures(\n",
        "           output_dim=200, kernel_initializer=\"gaussian\"\n",
        "       ),\n",
        "    \n",
        "    model.add(Dense(2, kernel_initializer=init,kernel_regularizer='l2'))\n",
        "    model.compile(loss=keras.losses.hinge, optimizer=tf.keras.optimizers.Adam(lr=0.001), metrics=['accuracy'])\n",
        "  \n",
        "    return model"
      ]
    },
    {
      "cell_type": "code",
      "execution_count": null,
      "metadata": {
        "colab": {
          "base_uri": "https://localhost:8080/"
        },
        "id": "o0IyY42Hc5A1",
        "outputId": "6b4aa09c-9cea-4e15-d078-b731955c4b14"
      },
      "outputs": [
        {
          "name": "stdout",
          "output_type": "stream",
          "text": [
            "Model: \"sequential_22\"\n",
            "_________________________________________________________________\n",
            " Layer (type)                Output Shape              Param #   \n",
            "=================================================================\n",
            " dense_66 (Dense)            (None, 64)                4416      \n",
            "                                                                 \n",
            " dropout_22 (Dropout)        (None, 64)                0         \n",
            "                                                                 \n",
            " dense_67 (Dense)            (None, 100)               6500      \n",
            "                                                                 \n",
            " dense_68 (Dense)            (None, 2)                 202       \n",
            "                                                                 \n",
            "=================================================================\n",
            "Total params: 11,118\n",
            "Trainable params: 11,118\n",
            "Non-trainable params: 0\n",
            "_________________________________________________________________\n"
          ]
        }
      ],
      "source": [
        "if Path('/content/drive/MyDrive/BDA/model/mlp_svm.joblib').is_file():\n",
        "  mlp_svm = load('/content/drive/MyDrive/BDA/model/mlp_svm.joblib') \n",
        "\n",
        "else:\n",
        "  mlp_svm = create_model()\n",
        "  mlp_svm.fit(train_X, train_y, verbose=0, epochs=300, validation_split=0.2)\n",
        "  dump(mlp_svm, '/content/drive/MyDrive/BDA/model/mlp_svm.joblib')\n",
        "\n",
        "mlp_svm.summary()"
      ]
    },
    {
      "cell_type": "code",
      "execution_count": null,
      "metadata": {
        "colab": {
          "base_uri": "https://localhost:8080/"
        },
        "id": "Qt_jqHlmc_UP",
        "outputId": "07b564ed-1607-43c6-ab44-ec82aa139eda"
      },
      "outputs": [
        {
          "name": "stdout",
          "output_type": "stream",
          "text": [
            "Accuracy for testset: 0.7674\n",
            "Precision for testset: 0.7656\n",
            "Recall for testset: 0.7681\n",
            "Fscore for testset: 0.7661\n",
            "Roc_auc for testset: 0.7681\n"
          ]
        }
      ],
      "source": [
        "test_pred = np.argmax(mlp_svm.predict(test_X), axis=1)\n",
        "test_label = np.argmax(test_y, axis=1)\n",
        "precision, recall, fscore, _ = score(test_label,test_pred,average='macro')\n",
        "mlp_svm_results = {\n",
        "    \"accuracy\" : accuracy_score(test_label, test_pred),\n",
        "    \"precision\" : precision,\n",
        "    \"recall\" : recall,\n",
        "    \"fscore\" : fscore,\n",
        "    \"roc_auc\" : roc_auc_score(test_label,test_pred)\n",
        "}\n",
        "print('Accuracy for testset: %.4f' % mlp_svm_results[\"accuracy\"])\n",
        "print('Precision for testset: %.4f' % mlp_svm_results[\"precision\"])\n",
        "print('Recall for testset: %.4f' % mlp_svm_results[\"recall\"])\n",
        "print('Fscore for testset: %.4f' % mlp_svm_results[\"fscore\"])\n",
        "print('Roc_auc for testset: %.4f' % mlp_svm_results[\"roc_auc\"])"
      ]
    },
    {
      "cell_type": "markdown",
      "metadata": {
        "id": "PTMmngeQ61Id"
      },
      "source": [
        "<a id='sc'></a>\n",
        "#### StackingClassifier ([to top](#top))"
      ]
    },
    {
      "cell_type": "markdown",
      "metadata": {
        "id": "T0AmDAa6lz--"
      },
      "source": [
        "We also implemented a stacking classifier that stacked the output of RandomForest, GradientBossting, and Quasi-SVM model we built and a final LogisticRegression classifier was used to compute the final prediction. Stacking allows us to use the strength of each individual estimator by using their output as input of the final estimator."
      ]
    },
    {
      "cell_type": "code",
      "execution_count": null,
      "metadata": {
        "id": "Yz-v0HTs_P5d"
      },
      "outputs": [],
      "source": [
        "X, y = return_df.drop(['revenue', 'return', 'return_log','profitability'], axis=1), return_df['profitability']\n",
        "data_X = X.copy()\n",
        "scaler_m = MinMaxScaler()\n",
        "data_X = scaler_m.fit_transform(data_X.values)\n",
        "data_X = pd.DataFrame(data_X, columns= X.columns)\n",
        "train_X, test_X, train_y, test_y = train_test_split(data_X, y, train_size=0.75, test_size=0.25, random_state=0)"
      ]
    },
    {
      "cell_type": "code",
      "execution_count": null,
      "metadata": {
        "colab": {
          "base_uri": "https://localhost:8080/"
        },
        "id": "XhKY1CFA_P5e",
        "outputId": "988ea652-1d8e-47a6-c1fd-65c1404ed0af"
      },
      "outputs": [
        {
          "data": {
            "text/plain": [
              "((7334, 68), (7334,))"
            ]
          },
          "execution_count": 111,
          "metadata": {},
          "output_type": "execute_result"
        }
      ],
      "source": [
        "# Apply SMOTE to balance the dataset\n",
        "sm = SMOTE(random_state=42)\n",
        "train_X, train_y = sm.fit_resample(train_X, train_y)\n",
        "train_X.shape, train_y.shape"
      ]
    },
    {
      "cell_type": "code",
      "execution_count": null,
      "metadata": {
        "id": "EfV0iBdj0VgM"
      },
      "outputs": [],
      "source": [
        "# custom transformer for sklearn pipeline\n",
        "class LabelTransform(TransformerMixin, BaseEstimator):\n",
        "    def transform(self, X):\n",
        "      return X\n",
        "\n",
        "    def fit(self, X, y=None):\n",
        "      y= np_utils.to_categorical(y)\n",
        "      return self"
      ]
    },
    {
      "cell_type": "code",
      "execution_count": null,
      "metadata": {
        "colab": {
          "base_uri": "https://localhost:8080/"
        },
        "id": "PuRK-U6B8DDH",
        "outputId": "bb70817e-b332-404e-a794-f3465e3d7e4a"
      },
      "outputs": [
        {
          "name": "stdout",
          "output_type": "stream",
          "text": [
            "StackingClassifier(estimators=[('RandomForest',\n",
            "                                RandomForestClassifier(n_estimators=400,\n",
            "                                                       random_state=0)),\n",
            "                               ('GradientBossting',\n",
            "                                GradientBoostingClassifier(learning_rate=0.01,\n",
            "                                                           max_depth=6,\n",
            "                                                           n_estimators=1000,\n",
            "                                                           random_state=0,\n",
            "                                                           subsample=0.9)),\n",
            "                               ('mlp_svm',\n",
            "                                Pipeline(steps=[('lb_trans', LabelTransform()),\n",
            "                                                ('mlp_svm',\n",
            "                                                 <keras.wrappers.scikit_learn.KerasClassifier object at 0x7f4d24b2b690>)]))],\n",
            "                   final_estimator=LogisticRegression(), passthrough=True)\n"
          ]
        }
      ],
      "source": [
        "if Path('/content/drive/MyDrive/BDA/model/StackingClassifier.joblib').is_file():\n",
        "  sc = load('/content/drive/MyDrive/BDA/model/StackingClassifier.joblib')\n",
        "\n",
        "else:\n",
        "  model = tf.keras.wrappers.scikit_learn.KerasClassifier(\n",
        "                            create_model,\n",
        "                            epochs=300,\n",
        "                            verbose=False)\n",
        "    \n",
        "  model._estimator_type = \"classifier\"\n",
        "\n",
        "  mlp_svm_pipe = Pipeline([\n",
        "      ('lb_trans', LabelTransform()), # selecting features 0 and 1 (df1) to be used with LR (clf1)\n",
        "      ('mlp_svm', model)\n",
        "      ])\n",
        "\n",
        "  sc = StackingClassifier(estimators=[('RandomForest', rfc), \n",
        "                                      ('GradientBossting', gbc), \n",
        "                                      ('mlp_svm', mlp_svm_pipe)], \n",
        "                          passthrough=True, \n",
        "                          final_estimator=LogisticRegression(random_state=0))\n",
        "\n",
        "  sc.fit(train_X, train_y)\n",
        "  dump(sc, '/content/drive/MyDrive/BDA/model/StackingClassifier.joblib')\n",
        "\n",
        "print(sc)"
      ]
    },
    {
      "cell_type": "code",
      "execution_count": null,
      "metadata": {
        "colab": {
          "base_uri": "https://localhost:8080/"
        },
        "id": "ZF87_nKwJUCx",
        "outputId": "f98855ef-8165-4fe7-eb00-74a2a774f39a"
      },
      "outputs": [
        {
          "name": "stdout",
          "output_type": "stream",
          "text": [
            "Accuracy for testset: 0.7945\n",
            "Precision for testset: 0.7924\n",
            "Recall for testset: 0.7948\n",
            "Fscore for testset: 0.7931\n",
            "Roc_auc for testset: 0.7948\n"
          ]
        }
      ],
      "source": [
        "test_predictions = sc.predict(test_X)\n",
        "precision, recall, fscore, _ = score(test_y,test_predictions,average='macro')\n",
        "sc_results = {\n",
        "    \"accuracy\" : accuracy_score(test_y, test_predictions),\n",
        "    \"precision\" : precision,\n",
        "    \"recall\" : recall,\n",
        "    \"fscore\" : fscore,\n",
        "    \"roc_auc\" : roc_auc_score(test_y,test_predictions)\n",
        "}\n",
        "print('Accuracy for testset: %.4f' % sc_results[\"accuracy\"])\n",
        "print('Precision for testset: %.4f' % sc_results[\"precision\"])\n",
        "print('Recall for testset: %.4f' % sc_results[\"recall\"])\n",
        "print('Fscore for testset: %.4f' % sc_results[\"fscore\"])\n",
        "print('Roc_auc for testset: %.4f' % sc_results[\"roc_auc\"])"
      ]
    },
    {
      "cell_type": "markdown",
      "metadata": {
        "id": "4E0KbZMFhnva"
      },
      "source": [
        "<a id='asc'></a>\n",
        "#### AutoSklearnClassifier ([to top](#top))"
      ]
    },
    {
      "cell_type": "code",
      "execution_count": null,
      "metadata": {
        "id": "TOCyh7-_H4G4"
      },
      "outputs": [],
      "source": [
        "train_X, train_y = train_X_sm, train_y_sm\n",
        "test_X, test_y = test_X_no_sm, test_y_no_sm"
      ]
    },
    {
      "cell_type": "code",
      "execution_count": null,
      "metadata": {
        "colab": {
          "base_uri": "https://localhost:8080/"
        },
        "id": "0ol8wW6Qs2Nu",
        "outputId": "db3833b3-0456-4978-b1cd-376f494f23f4"
      },
      "outputs": [
        {
          "name": "stdout",
          "output_type": "stream",
          "text": [
            "AutoSklearnClassifier(ensemble_nbest=1000, ensemble_size=1000,\n",
            "                      per_run_time_limit=100, seed=42,\n",
            "                      time_left_for_this_task=1000,\n",
            "                      tmp_folder='/tmp/autosklearn_classification_example_')\n"
          ]
        }
      ],
      "source": [
        "if Path('/content/drive/MyDrive/BDA/model/AutoSklearnClassifier.joblib').is_file():\n",
        "  asc = load('/content/drive/MyDrive/BDA/model/AutoSklearnClassifier.joblib') \n",
        " \n",
        "else:\n",
        "  asc = autosklearn.classification.AutoSklearnClassifier(\n",
        "      time_left_for_this_task=1000,\n",
        "      per_run_time_limit=100,\n",
        "      ensemble_size = 1000,\n",
        "      ensemble_nbest = 1000,\n",
        "      seed = 42,\n",
        "      tmp_folder='/tmp/autosklearn_classification_example_'\n",
        "  )\n",
        "  asc.fit(train_X, train_y, dataset_name='Movies')\n",
        "  dump(asc, '/content/drive/MyDrive/BDA/model/AutoSklearnClassifier.joblib')\n",
        "\n",
        "print(asc)"
      ]
    },
    {
      "cell_type": "code",
      "execution_count": null,
      "metadata": {
        "colab": {
          "base_uri": "https://localhost:8080/"
        },
        "id": "E4zgoBcks2Nv",
        "outputId": "a6bc2d10-fa8e-4284-de67-af1d73ba2296"
      },
      "outputs": [
        {
          "name": "stdout",
          "output_type": "stream",
          "text": [
            "          rank  ensemble_weight                 type      cost   duration\n",
            "model_id                                                                 \n",
            "46           1            0.009    gradient_boosting  0.200743  11.191300\n",
            "23           2            0.012    gradient_boosting  0.201157   9.722036\n",
            "18           3            0.018    gradient_boosting  0.204874   2.495456\n",
            "2            4            0.025        random_forest  0.208178   5.735824\n",
            "41           5            0.001    gradient_boosting  0.212309   5.137824\n",
            "12           6            0.018             adaboost  0.224287   4.030592\n",
            "32           7            0.009   passive_aggressive  0.228005   2.211923\n",
            "9            8            0.001                  mlp  0.228831  12.511339\n",
            "30           9            0.006    gradient_boosting  0.229657   2.878043\n",
            "40          10            0.001    gradient_boosting  0.242462  12.761715\n",
            "4           11            0.002        random_forest  0.245353  11.727839\n",
            "24          12            0.001                  mlp  0.249484  13.045251\n",
            "38          13            0.004    gradient_boosting  0.249484   2.523238\n",
            "47          14            0.368        liblinear_svc  0.256919   1.963789\n",
            "36          15            0.007             adaboost  0.262288   1.727423\n",
            "15          16            0.006                  lda  0.265180   1.241997\n",
            "35          17            0.003                  qda  0.269310   1.524861\n",
            "34          18            0.010        random_forest  0.283354  41.480808\n",
            "44          19            0.001    gradient_boosting  0.285419   5.667319\n",
            "21          20            0.012                  mlp  0.286658   3.033278\n",
            "19          21            0.018                  mlp  0.293680  25.843143\n",
            "5           22            0.019             adaboost  0.301115   4.075156\n",
            "27          23            0.001  k_nearest_neighbors  0.309376   3.296849\n",
            "45          24            0.014         bernoulli_nb  0.310615   1.022976\n",
            "29          25            0.002    gradient_boosting  0.311029   2.849706\n",
            "33          26            0.002    gradient_boosting  0.315159   5.404387\n",
            "16          27            0.002  k_nearest_neighbors  0.342834   5.394457\n",
            "28          28            0.005           libsvm_svc  0.351095   9.487545\n",
            "37          29            0.054                  lda  0.358530   1.051149\n",
            "22          30            0.019   passive_aggressive  0.371747   1.175316\n",
            "48          31            0.017        decision_tree  0.431640   0.935594\n",
            "42          32            0.001          gaussian_nb  0.434531   0.936517\n",
            "31          33            0.332        liblinear_svc  0.465097   1.206460\n",
            "[(0.368000, SimpleClassificationPipeline({'balancing:strategy': 'none', 'classifier:__choice__': 'liblinear_svc', 'data_preprocessor:__choice__': 'feature_type', 'feature_preprocessor:__choice__': 'fast_ica', 'classifier:liblinear_svc:C': 0.07266892084060803, 'classifier:liblinear_svc:dual': 'False', 'classifier:liblinear_svc:fit_intercept': 'True', 'classifier:liblinear_svc:intercept_scaling': 1, 'classifier:liblinear_svc:loss': 'squared_hinge', 'classifier:liblinear_svc:multi_class': 'ovr', 'classifier:liblinear_svc:penalty': 'l2', 'classifier:liblinear_svc:tol': 4.054255374690616e-05, 'data_preprocessor:feature_type:categorical_transformer:categorical_encoding:__choice__': 'encoding', 'data_preprocessor:feature_type:categorical_transformer:category_coalescence:__choice__': 'minority_coalescer', 'data_preprocessor:feature_type:numerical_transformer:imputation:strategy': 'most_frequent', 'data_preprocessor:feature_type:numerical_transformer:rescaling:__choice__': 'none', 'feature_preprocessor:fast_ica:algorithm': 'deflation', 'feature_preprocessor:fast_ica:fun': 'exp', 'feature_preprocessor:fast_ica:whiten': 'True', 'data_preprocessor:feature_type:categorical_transformer:category_coalescence:minority_coalescer:minimum_fraction': 0.002058725971372046, 'feature_preprocessor:fast_ica:n_components': 1340},\n",
            "dataset_properties={\n",
            "  'task': 1,\n",
            "  'sparse': False,\n",
            "  'multilabel': False,\n",
            "  'multiclass': False,\n",
            "  'target_type': 'classification',\n",
            "  'signed': False})),\n",
            "(0.332000, SimpleClassificationPipeline({'balancing:strategy': 'none', 'classifier:__choice__': 'liblinear_svc', 'data_preprocessor:__choice__': 'feature_type', 'feature_preprocessor:__choice__': 'polynomial', 'classifier:liblinear_svc:C': 12479.189398309323, 'classifier:liblinear_svc:dual': 'False', 'classifier:liblinear_svc:fit_intercept': 'True', 'classifier:liblinear_svc:intercept_scaling': 1, 'classifier:liblinear_svc:loss': 'squared_hinge', 'classifier:liblinear_svc:multi_class': 'ovr', 'classifier:liblinear_svc:penalty': 'l2', 'classifier:liblinear_svc:tol': 0.01266736483867838, 'data_preprocessor:feature_type:categorical_transformer:categorical_encoding:__choice__': 'one_hot_encoding', 'data_preprocessor:feature_type:categorical_transformer:category_coalescence:__choice__': 'no_coalescense', 'data_preprocessor:feature_type:numerical_transformer:imputation:strategy': 'median', 'data_preprocessor:feature_type:numerical_transformer:rescaling:__choice__': 'robust_scaler', 'feature_preprocessor:polynomial:degree': 2, 'feature_preprocessor:polynomial:include_bias': 'False', 'feature_preprocessor:polynomial:interaction_only': 'True', 'data_preprocessor:feature_type:numerical_transformer:rescaling:robust_scaler:q_max': 0.7434299453178872, 'data_preprocessor:feature_type:numerical_transformer:rescaling:robust_scaler:q_min': 0.027781487612063647},\n",
            "dataset_properties={\n",
            "  'task': 1,\n",
            "  'sparse': False,\n",
            "  'multilabel': False,\n",
            "  'multiclass': False,\n",
            "  'target_type': 'classification',\n",
            "  'signed': False})),\n",
            "(0.054000, SimpleClassificationPipeline({'balancing:strategy': 'none', 'classifier:__choice__': 'lda', 'data_preprocessor:__choice__': 'feature_type', 'feature_preprocessor:__choice__': 'nystroem_sampler', 'classifier:lda:shrinkage': 'manual', 'classifier:lda:tol': 0.006118691431752588, 'data_preprocessor:feature_type:categorical_transformer:categorical_encoding:__choice__': 'one_hot_encoding', 'data_preprocessor:feature_type:categorical_transformer:category_coalescence:__choice__': 'minority_coalescer', 'data_preprocessor:feature_type:numerical_transformer:imputation:strategy': 'most_frequent', 'data_preprocessor:feature_type:numerical_transformer:rescaling:__choice__': 'minmax', 'feature_preprocessor:nystroem_sampler:kernel': 'rbf', 'feature_preprocessor:nystroem_sampler:n_components': 123, 'classifier:lda:shrinkage_factor': 0.8392922811844096, 'data_preprocessor:feature_type:categorical_transformer:category_coalescence:minority_coalescer:minimum_fraction': 0.0005527341659118884, 'feature_preprocessor:nystroem_sampler:gamma': 0.7117611138650544},\n",
            "dataset_properties={\n",
            "  'task': 1,\n",
            "  'sparse': False,\n",
            "  'multilabel': False,\n",
            "  'multiclass': False,\n",
            "  'target_type': 'classification',\n",
            "  'signed': False})),\n",
            "(0.025000, SimpleClassificationPipeline({'balancing:strategy': 'none', 'classifier:__choice__': 'random_forest', 'data_preprocessor:__choice__': 'feature_type', 'feature_preprocessor:__choice__': 'no_preprocessing', 'classifier:random_forest:bootstrap': 'True', 'classifier:random_forest:criterion': 'gini', 'classifier:random_forest:max_depth': 'None', 'classifier:random_forest:max_features': 0.5, 'classifier:random_forest:max_leaf_nodes': 'None', 'classifier:random_forest:min_impurity_decrease': 0.0, 'classifier:random_forest:min_samples_leaf': 1, 'classifier:random_forest:min_samples_split': 2, 'classifier:random_forest:min_weight_fraction_leaf': 0.0, 'data_preprocessor:feature_type:categorical_transformer:categorical_encoding:__choice__': 'one_hot_encoding', 'data_preprocessor:feature_type:categorical_transformer:category_coalescence:__choice__': 'minority_coalescer', 'data_preprocessor:feature_type:numerical_transformer:imputation:strategy': 'mean', 'data_preprocessor:feature_type:numerical_transformer:rescaling:__choice__': 'standardize', 'data_preprocessor:feature_type:categorical_transformer:category_coalescence:minority_coalescer:minimum_fraction': 0.01},\n",
            "dataset_properties={\n",
            "  'task': 1,\n",
            "  'sparse': False,\n",
            "  'multilabel': False,\n",
            "  'multiclass': False,\n",
            "  'target_type': 'classification',\n",
            "  'signed': False})),\n",
            "(0.019000, SimpleClassificationPipeline({'balancing:strategy': 'weighting', 'classifier:__choice__': 'adaboost', 'data_preprocessor:__choice__': 'feature_type', 'feature_preprocessor:__choice__': 'feature_agglomeration', 'classifier:adaboost:algorithm': 'SAMME', 'classifier:adaboost:learning_rate': 0.03734246906377268, 'classifier:adaboost:max_depth': 2, 'classifier:adaboost:n_estimators': 416, 'data_preprocessor:feature_type:categorical_transformer:categorical_encoding:__choice__': 'one_hot_encoding', 'data_preprocessor:feature_type:categorical_transformer:category_coalescence:__choice__': 'minority_coalescer', 'data_preprocessor:feature_type:numerical_transformer:imputation:strategy': 'most_frequent', 'data_preprocessor:feature_type:numerical_transformer:rescaling:__choice__': 'minmax', 'feature_preprocessor:feature_agglomeration:affinity': 'euclidean', 'feature_preprocessor:feature_agglomeration:linkage': 'ward', 'feature_preprocessor:feature_agglomeration:n_clusters': 22, 'feature_preprocessor:feature_agglomeration:pooling_func': 'mean', 'data_preprocessor:feature_type:categorical_transformer:category_coalescence:minority_coalescer:minimum_fraction': 0.01340273457911319},\n",
            "dataset_properties={\n",
            "  'task': 1,\n",
            "  'sparse': False,\n",
            "  'multilabel': False,\n",
            "  'multiclass': False,\n",
            "  'target_type': 'classification',\n",
            "  'signed': False})),\n",
            "(0.019000, SimpleClassificationPipeline({'balancing:strategy': 'weighting', 'classifier:__choice__': 'passive_aggressive', 'data_preprocessor:__choice__': 'feature_type', 'feature_preprocessor:__choice__': 'kitchen_sinks', 'classifier:passive_aggressive:C': 0.14833233294431605, 'classifier:passive_aggressive:average': 'True', 'classifier:passive_aggressive:fit_intercept': 'True', 'classifier:passive_aggressive:loss': 'squared_hinge', 'classifier:passive_aggressive:tol': 0.00016482166646253793, 'data_preprocessor:feature_type:categorical_transformer:categorical_encoding:__choice__': 'no_encoding', 'data_preprocessor:feature_type:categorical_transformer:category_coalescence:__choice__': 'minority_coalescer', 'data_preprocessor:feature_type:numerical_transformer:imputation:strategy': 'most_frequent', 'data_preprocessor:feature_type:numerical_transformer:rescaling:__choice__': 'robust_scaler', 'feature_preprocessor:kitchen_sinks:gamma': 0.00013628193307668312, 'feature_preprocessor:kitchen_sinks:n_components': 148, 'data_preprocessor:feature_type:categorical_transformer:category_coalescence:minority_coalescer:minimum_fraction': 0.20722745113476584, 'data_preprocessor:feature_type:numerical_transformer:rescaling:robust_scaler:q_max': 0.9201445143882738, 'data_preprocessor:feature_type:numerical_transformer:rescaling:robust_scaler:q_min': 0.011024052631694491},\n",
            "dataset_properties={\n",
            "  'task': 1,\n",
            "  'sparse': False,\n",
            "  'multilabel': False,\n",
            "  'multiclass': False,\n",
            "  'target_type': 'classification',\n",
            "  'signed': False})),\n",
            "(0.018000, SimpleClassificationPipeline({'balancing:strategy': 'none', 'classifier:__choice__': 'gradient_boosting', 'data_preprocessor:__choice__': 'feature_type', 'feature_preprocessor:__choice__': 'no_preprocessing', 'classifier:gradient_boosting:early_stop': 'train', 'classifier:gradient_boosting:l2_regularization': 3.609412172481434e-10, 'classifier:gradient_boosting:learning_rate': 0.05972079854295879, 'classifier:gradient_boosting:loss': 'auto', 'classifier:gradient_boosting:max_bins': 255, 'classifier:gradient_boosting:max_depth': 'None', 'classifier:gradient_boosting:max_leaf_nodes': 4, 'classifier:gradient_boosting:min_samples_leaf': 2, 'classifier:gradient_boosting:scoring': 'loss', 'classifier:gradient_boosting:tol': 1e-07, 'data_preprocessor:feature_type:categorical_transformer:categorical_encoding:__choice__': 'one_hot_encoding', 'data_preprocessor:feature_type:categorical_transformer:category_coalescence:__choice__': 'no_coalescense', 'data_preprocessor:feature_type:numerical_transformer:imputation:strategy': 'mean', 'data_preprocessor:feature_type:numerical_transformer:rescaling:__choice__': 'minmax', 'classifier:gradient_boosting:n_iter_no_change': 14},\n",
            "dataset_properties={\n",
            "  'task': 1,\n",
            "  'sparse': False,\n",
            "  'multilabel': False,\n",
            "  'multiclass': False,\n",
            "  'target_type': 'classification',\n",
            "  'signed': False})),\n",
            "(0.018000, SimpleClassificationPipeline({'balancing:strategy': 'none', 'classifier:__choice__': 'adaboost', 'data_preprocessor:__choice__': 'feature_type', 'feature_preprocessor:__choice__': 'no_preprocessing', 'classifier:adaboost:algorithm': 'SAMME', 'classifier:adaboost:learning_rate': 0.02607458507935197, 'classifier:adaboost:max_depth': 8, 'classifier:adaboost:n_estimators': 97, 'data_preprocessor:feature_type:categorical_transformer:categorical_encoding:__choice__': 'one_hot_encoding', 'data_preprocessor:feature_type:categorical_transformer:category_coalescence:__choice__': 'minority_coalescer', 'data_preprocessor:feature_type:numerical_transformer:imputation:strategy': 'mean', 'data_preprocessor:feature_type:numerical_transformer:rescaling:__choice__': 'minmax', 'data_preprocessor:feature_type:categorical_transformer:category_coalescence:minority_coalescer:minimum_fraction': 0.0012475734118542873},\n",
            "dataset_properties={\n",
            "  'task': 1,\n",
            "  'sparse': False,\n",
            "  'multilabel': False,\n",
            "  'multiclass': False,\n",
            "  'target_type': 'classification',\n",
            "  'signed': False})),\n",
            "(0.018000, SimpleClassificationPipeline({'balancing:strategy': 'weighting', 'classifier:__choice__': 'mlp', 'data_preprocessor:__choice__': 'feature_type', 'feature_preprocessor:__choice__': 'feature_agglomeration', 'classifier:mlp:activation': 'tanh', 'classifier:mlp:alpha': 1.0207902638359607e-07, 'classifier:mlp:batch_size': 'auto', 'classifier:mlp:beta_1': 0.9, 'classifier:mlp:beta_2': 0.999, 'classifier:mlp:early_stopping': 'train', 'classifier:mlp:epsilon': 1e-08, 'classifier:mlp:hidden_layer_depth': 1, 'classifier:mlp:learning_rate_init': 0.0005867144594731152, 'classifier:mlp:n_iter_no_change': 32, 'classifier:mlp:num_nodes_per_layer': 229, 'classifier:mlp:shuffle': 'True', 'classifier:mlp:solver': 'adam', 'classifier:mlp:tol': 0.0001, 'data_preprocessor:feature_type:categorical_transformer:categorical_encoding:__choice__': 'one_hot_encoding', 'data_preprocessor:feature_type:categorical_transformer:category_coalescence:__choice__': 'minority_coalescer', 'data_preprocessor:feature_type:numerical_transformer:imputation:strategy': 'median', 'data_preprocessor:feature_type:numerical_transformer:rescaling:__choice__': 'standardize', 'feature_preprocessor:feature_agglomeration:affinity': 'manhattan', 'feature_preprocessor:feature_agglomeration:linkage': 'average', 'feature_preprocessor:feature_agglomeration:n_clusters': 120, 'feature_preprocessor:feature_agglomeration:pooling_func': 'max', 'data_preprocessor:feature_type:categorical_transformer:category_coalescence:minority_coalescer:minimum_fraction': 0.004937806801732742},\n",
            "dataset_properties={\n",
            "  'task': 1,\n",
            "  'sparse': False,\n",
            "  'multilabel': False,\n",
            "  'multiclass': False,\n",
            "  'target_type': 'classification',\n",
            "  'signed': False})),\n",
            "(0.017000, SimpleClassificationPipeline({'balancing:strategy': 'none', 'classifier:__choice__': 'decision_tree', 'data_preprocessor:__choice__': 'feature_type', 'feature_preprocessor:__choice__': 'pca', 'classifier:decision_tree:criterion': 'entropy', 'classifier:decision_tree:max_depth_factor': 1.7159243407146982, 'classifier:decision_tree:max_features': 1.0, 'classifier:decision_tree:max_leaf_nodes': 'None', 'classifier:decision_tree:min_impurity_decrease': 0.0, 'classifier:decision_tree:min_samples_leaf': 5, 'classifier:decision_tree:min_samples_split': 6, 'classifier:decision_tree:min_weight_fraction_leaf': 0.0, 'data_preprocessor:feature_type:categorical_transformer:categorical_encoding:__choice__': 'one_hot_encoding', 'data_preprocessor:feature_type:categorical_transformer:category_coalescence:__choice__': 'no_coalescense', 'data_preprocessor:feature_type:numerical_transformer:imputation:strategy': 'mean', 'data_preprocessor:feature_type:numerical_transformer:rescaling:__choice__': 'normalize', 'feature_preprocessor:pca:keep_variance': 0.6468819457446853, 'feature_preprocessor:pca:whiten': 'False'},\n",
            "dataset_properties={\n",
            "  'task': 1,\n",
            "  'sparse': False,\n",
            "  'multilabel': False,\n",
            "  'multiclass': False,\n",
            "  'target_type': 'classification',\n",
            "  'signed': False})),\n",
            "(0.014000, SimpleClassificationPipeline({'balancing:strategy': 'none', 'classifier:__choice__': 'bernoulli_nb', 'data_preprocessor:__choice__': 'feature_type', 'feature_preprocessor:__choice__': 'pca', 'classifier:bernoulli_nb:alpha': 0.4028683143074613, 'classifier:bernoulli_nb:fit_prior': 'True', 'data_preprocessor:feature_type:categorical_transformer:categorical_encoding:__choice__': 'encoding', 'data_preprocessor:feature_type:categorical_transformer:category_coalescence:__choice__': 'no_coalescense', 'data_preprocessor:feature_type:numerical_transformer:imputation:strategy': 'most_frequent', 'data_preprocessor:feature_type:numerical_transformer:rescaling:__choice__': 'quantile_transformer', 'feature_preprocessor:pca:keep_variance': 0.9164447548512586, 'feature_preprocessor:pca:whiten': 'False', 'data_preprocessor:feature_type:numerical_transformer:rescaling:quantile_transformer:n_quantiles': 341, 'data_preprocessor:feature_type:numerical_transformer:rescaling:quantile_transformer:output_distribution': 'uniform'},\n",
            "dataset_properties={\n",
            "  'task': 1,\n",
            "  'sparse': False,\n",
            "  'multilabel': False,\n",
            "  'multiclass': False,\n",
            "  'target_type': 'classification',\n",
            "  'signed': False})),\n",
            "(0.012000, SimpleClassificationPipeline({'balancing:strategy': 'none', 'classifier:__choice__': 'gradient_boosting', 'data_preprocessor:__choice__': 'feature_type', 'feature_preprocessor:__choice__': 'no_preprocessing', 'classifier:gradient_boosting:early_stop': 'off', 'classifier:gradient_boosting:l2_regularization': 1e-10, 'classifier:gradient_boosting:learning_rate': 0.16262682406125173, 'classifier:gradient_boosting:loss': 'auto', 'classifier:gradient_boosting:max_bins': 255, 'classifier:gradient_boosting:max_depth': 'None', 'classifier:gradient_boosting:max_leaf_nodes': 66, 'classifier:gradient_boosting:min_samples_leaf': 20, 'classifier:gradient_boosting:scoring': 'loss', 'classifier:gradient_boosting:tol': 1e-07, 'data_preprocessor:feature_type:categorical_transformer:categorical_encoding:__choice__': 'no_encoding', 'data_preprocessor:feature_type:categorical_transformer:category_coalescence:__choice__': 'minority_coalescer', 'data_preprocessor:feature_type:numerical_transformer:imputation:strategy': 'most_frequent', 'data_preprocessor:feature_type:numerical_transformer:rescaling:__choice__': 'robust_scaler', 'data_preprocessor:feature_type:categorical_transformer:category_coalescence:minority_coalescer:minimum_fraction': 0.005428587241449129, 'data_preprocessor:feature_type:numerical_transformer:rescaling:robust_scaler:q_max': 0.75, 'data_preprocessor:feature_type:numerical_transformer:rescaling:robust_scaler:q_min': 0.23746960178084334},\n",
            "dataset_properties={\n",
            "  'task': 1,\n",
            "  'sparse': False,\n",
            "  'multilabel': False,\n",
            "  'multiclass': False,\n",
            "  'target_type': 'classification',\n",
            "  'signed': False})),\n",
            "(0.012000, SimpleClassificationPipeline({'balancing:strategy': 'none', 'classifier:__choice__': 'mlp', 'data_preprocessor:__choice__': 'feature_type', 'feature_preprocessor:__choice__': 'feature_agglomeration', 'classifier:mlp:activation': 'tanh', 'classifier:mlp:alpha': 0.05476322473700896, 'classifier:mlp:batch_size': 'auto', 'classifier:mlp:beta_1': 0.9, 'classifier:mlp:beta_2': 0.999, 'classifier:mlp:early_stopping': 'valid', 'classifier:mlp:epsilon': 1e-08, 'classifier:mlp:hidden_layer_depth': 1, 'classifier:mlp:learning_rate_init': 0.012698439797907473, 'classifier:mlp:n_iter_no_change': 32, 'classifier:mlp:num_nodes_per_layer': 136, 'classifier:mlp:shuffle': 'True', 'classifier:mlp:solver': 'adam', 'classifier:mlp:tol': 0.0001, 'data_preprocessor:feature_type:categorical_transformer:categorical_encoding:__choice__': 'no_encoding', 'data_preprocessor:feature_type:categorical_transformer:category_coalescence:__choice__': 'minority_coalescer', 'data_preprocessor:feature_type:numerical_transformer:imputation:strategy': 'mean', 'data_preprocessor:feature_type:numerical_transformer:rescaling:__choice__': 'standardize', 'feature_preprocessor:feature_agglomeration:affinity': 'manhattan', 'feature_preprocessor:feature_agglomeration:linkage': 'average', 'feature_preprocessor:feature_agglomeration:n_clusters': 264, 'feature_preprocessor:feature_agglomeration:pooling_func': 'max', 'classifier:mlp:validation_fraction': 0.1, 'data_preprocessor:feature_type:categorical_transformer:category_coalescence:minority_coalescer:minimum_fraction': 0.07441872802099897},\n",
            "dataset_properties={\n",
            "  'task': 1,\n",
            "  'sparse': False,\n",
            "  'multilabel': False,\n",
            "  'multiclass': False,\n",
            "  'target_type': 'classification',\n",
            "  'signed': False})),\n",
            "(0.010000, SimpleClassificationPipeline({'balancing:strategy': 'weighting', 'classifier:__choice__': 'random_forest', 'data_preprocessor:__choice__': 'feature_type', 'feature_preprocessor:__choice__': 'fast_ica', 'classifier:random_forest:bootstrap': 'False', 'classifier:random_forest:criterion': 'gini', 'classifier:random_forest:max_depth': 'None', 'classifier:random_forest:max_features': 0.6676950220462434, 'classifier:random_forest:max_leaf_nodes': 'None', 'classifier:random_forest:min_impurity_decrease': 0.0, 'classifier:random_forest:min_samples_leaf': 17, 'classifier:random_forest:min_samples_split': 14, 'classifier:random_forest:min_weight_fraction_leaf': 0.0, 'data_preprocessor:feature_type:categorical_transformer:categorical_encoding:__choice__': 'one_hot_encoding', 'data_preprocessor:feature_type:categorical_transformer:category_coalescence:__choice__': 'minority_coalescer', 'data_preprocessor:feature_type:numerical_transformer:imputation:strategy': 'most_frequent', 'data_preprocessor:feature_type:numerical_transformer:rescaling:__choice__': 'minmax', 'feature_preprocessor:fast_ica:algorithm': 'deflation', 'feature_preprocessor:fast_ica:fun': 'exp', 'feature_preprocessor:fast_ica:whiten': 'False', 'data_preprocessor:feature_type:categorical_transformer:category_coalescence:minority_coalescer:minimum_fraction': 0.0010811518108529451},\n",
            "dataset_properties={\n",
            "  'task': 1,\n",
            "  'sparse': False,\n",
            "  'multilabel': False,\n",
            "  'multiclass': False,\n",
            "  'target_type': 'classification',\n",
            "  'signed': False})),\n",
            "(0.009000, SimpleClassificationPipeline({'balancing:strategy': 'weighting', 'classifier:__choice__': 'gradient_boosting', 'data_preprocessor:__choice__': 'feature_type', 'feature_preprocessor:__choice__': 'no_preprocessing', 'classifier:gradient_boosting:early_stop': 'off', 'classifier:gradient_boosting:l2_regularization': 9.697113185780056e-09, 'classifier:gradient_boosting:learning_rate': 0.18786318297503754, 'classifier:gradient_boosting:loss': 'auto', 'classifier:gradient_boosting:max_bins': 255, 'classifier:gradient_boosting:max_depth': 'None', 'classifier:gradient_boosting:max_leaf_nodes': 72, 'classifier:gradient_boosting:min_samples_leaf': 3, 'classifier:gradient_boosting:scoring': 'loss', 'classifier:gradient_boosting:tol': 1e-07, 'data_preprocessor:feature_type:categorical_transformer:categorical_encoding:__choice__': 'one_hot_encoding', 'data_preprocessor:feature_type:categorical_transformer:category_coalescence:__choice__': 'minority_coalescer', 'data_preprocessor:feature_type:numerical_transformer:imputation:strategy': 'median', 'data_preprocessor:feature_type:numerical_transformer:rescaling:__choice__': 'minmax', 'data_preprocessor:feature_type:categorical_transformer:category_coalescence:minority_coalescer:minimum_fraction': 0.00016023960923476323},\n",
            "dataset_properties={\n",
            "  'task': 1,\n",
            "  'sparse': False,\n",
            "  'multilabel': False,\n",
            "  'multiclass': False,\n",
            "  'target_type': 'classification',\n",
            "  'signed': False})),\n",
            "(0.009000, SimpleClassificationPipeline({'balancing:strategy': 'weighting', 'classifier:__choice__': 'passive_aggressive', 'data_preprocessor:__choice__': 'feature_type', 'feature_preprocessor:__choice__': 'nystroem_sampler', 'classifier:passive_aggressive:C': 0.002778998724592125, 'classifier:passive_aggressive:average': 'False', 'classifier:passive_aggressive:fit_intercept': 'True', 'classifier:passive_aggressive:loss': 'hinge', 'classifier:passive_aggressive:tol': 0.0038499633307133145, 'data_preprocessor:feature_type:categorical_transformer:categorical_encoding:__choice__': 'no_encoding', 'data_preprocessor:feature_type:categorical_transformer:category_coalescence:__choice__': 'minority_coalescer', 'data_preprocessor:feature_type:numerical_transformer:imputation:strategy': 'most_frequent', 'data_preprocessor:feature_type:numerical_transformer:rescaling:__choice__': 'power_transformer', 'feature_preprocessor:nystroem_sampler:kernel': 'cosine', 'feature_preprocessor:nystroem_sampler:n_components': 527, 'data_preprocessor:feature_type:categorical_transformer:category_coalescence:minority_coalescer:minimum_fraction': 0.18583016068477765},\n",
            "dataset_properties={\n",
            "  'task': 1,\n",
            "  'sparse': False,\n",
            "  'multilabel': False,\n",
            "  'multiclass': False,\n",
            "  'target_type': 'classification',\n",
            "  'signed': False})),\n",
            "(0.007000, SimpleClassificationPipeline({'balancing:strategy': 'none', 'classifier:__choice__': 'adaboost', 'data_preprocessor:__choice__': 'feature_type', 'feature_preprocessor:__choice__': 'no_preprocessing', 'classifier:adaboost:algorithm': 'SAMME', 'classifier:adaboost:learning_rate': 0.09164121683044603, 'classifier:adaboost:max_depth': 2, 'classifier:adaboost:n_estimators': 64, 'data_preprocessor:feature_type:categorical_transformer:categorical_encoding:__choice__': 'one_hot_encoding', 'data_preprocessor:feature_type:categorical_transformer:category_coalescence:__choice__': 'minority_coalescer', 'data_preprocessor:feature_type:numerical_transformer:imputation:strategy': 'most_frequent', 'data_preprocessor:feature_type:numerical_transformer:rescaling:__choice__': 'quantile_transformer', 'data_preprocessor:feature_type:categorical_transformer:category_coalescence:minority_coalescer:minimum_fraction': 0.014026303414531193, 'data_preprocessor:feature_type:numerical_transformer:rescaling:quantile_transformer:n_quantiles': 911, 'data_preprocessor:feature_type:numerical_transformer:rescaling:quantile_transformer:output_distribution': 'uniform'},\n",
            "dataset_properties={\n",
            "  'task': 1,\n",
            "  'sparse': False,\n",
            "  'multilabel': False,\n",
            "  'multiclass': False,\n",
            "  'target_type': 'classification',\n",
            "  'signed': False})),\n",
            "(0.006000, SimpleClassificationPipeline({'balancing:strategy': 'none', 'classifier:__choice__': 'gradient_boosting', 'data_preprocessor:__choice__': 'feature_type', 'feature_preprocessor:__choice__': 'select_rates_classification', 'classifier:gradient_boosting:early_stop': 'off', 'classifier:gradient_boosting:l2_regularization': 1.2254624835893766e-08, 'classifier:gradient_boosting:learning_rate': 0.675711030745867, 'classifier:gradient_boosting:loss': 'auto', 'classifier:gradient_boosting:max_bins': 255, 'classifier:gradient_boosting:max_depth': 'None', 'classifier:gradient_boosting:max_leaf_nodes': 9, 'classifier:gradient_boosting:min_samples_leaf': 86, 'classifier:gradient_boosting:scoring': 'loss', 'classifier:gradient_boosting:tol': 1e-07, 'data_preprocessor:feature_type:categorical_transformer:categorical_encoding:__choice__': 'no_encoding', 'data_preprocessor:feature_type:categorical_transformer:category_coalescence:__choice__': 'minority_coalescer', 'data_preprocessor:feature_type:numerical_transformer:imputation:strategy': 'mean', 'data_preprocessor:feature_type:numerical_transformer:rescaling:__choice__': 'minmax', 'feature_preprocessor:select_rates_classification:alpha': 0.45197433938696074, 'feature_preprocessor:select_rates_classification:score_func': 'chi2', 'data_preprocessor:feature_type:categorical_transformer:category_coalescence:minority_coalescer:minimum_fraction': 0.19298227801423348, 'feature_preprocessor:select_rates_classification:mode': 'fpr'},\n",
            "dataset_properties={\n",
            "  'task': 1,\n",
            "  'sparse': False,\n",
            "  'multilabel': False,\n",
            "  'multiclass': False,\n",
            "  'target_type': 'classification',\n",
            "  'signed': False})),\n",
            "(0.006000, SimpleClassificationPipeline({'balancing:strategy': 'weighting', 'classifier:__choice__': 'lda', 'data_preprocessor:__choice__': 'feature_type', 'feature_preprocessor:__choice__': 'liblinear_svc_preprocessor', 'classifier:lda:shrinkage': 'manual', 'classifier:lda:tol': 0.0007215763283486354, 'data_preprocessor:feature_type:categorical_transformer:categorical_encoding:__choice__': 'no_encoding', 'data_preprocessor:feature_type:categorical_transformer:category_coalescence:__choice__': 'no_coalescense', 'data_preprocessor:feature_type:numerical_transformer:imputation:strategy': 'median', 'data_preprocessor:feature_type:numerical_transformer:rescaling:__choice__': 'quantile_transformer', 'feature_preprocessor:liblinear_svc_preprocessor:C': 2.160480406584884, 'feature_preprocessor:liblinear_svc_preprocessor:dual': 'False', 'feature_preprocessor:liblinear_svc_preprocessor:fit_intercept': 'True', 'feature_preprocessor:liblinear_svc_preprocessor:intercept_scaling': 1, 'feature_preprocessor:liblinear_svc_preprocessor:loss': 'squared_hinge', 'feature_preprocessor:liblinear_svc_preprocessor:multi_class': 'ovr', 'feature_preprocessor:liblinear_svc_preprocessor:penalty': 'l1', 'feature_preprocessor:liblinear_svc_preprocessor:tol': 0.010943990816220809, 'classifier:lda:shrinkage_factor': 0.3306135150299744, 'data_preprocessor:feature_type:numerical_transformer:rescaling:quantile_transformer:n_quantiles': 851, 'data_preprocessor:feature_type:numerical_transformer:rescaling:quantile_transformer:output_distribution': 'uniform'},\n",
            "dataset_properties={\n",
            "  'task': 1,\n",
            "  'sparse': False,\n",
            "  'multilabel': False,\n",
            "  'multiclass': False,\n",
            "  'target_type': 'classification',\n",
            "  'signed': False})),\n",
            "(0.005000, SimpleClassificationPipeline({'balancing:strategy': 'weighting', 'classifier:__choice__': 'libsvm_svc', 'data_preprocessor:__choice__': 'feature_type', 'feature_preprocessor:__choice__': 'random_trees_embedding', 'classifier:libsvm_svc:C': 2307.5935104184055, 'classifier:libsvm_svc:gamma': 0.9335706907623043, 'classifier:libsvm_svc:kernel': 'poly', 'classifier:libsvm_svc:max_iter': -1, 'classifier:libsvm_svc:shrinking': 'False', 'classifier:libsvm_svc:tol': 2.513898786636789e-05, 'data_preprocessor:feature_type:categorical_transformer:categorical_encoding:__choice__': 'no_encoding', 'data_preprocessor:feature_type:categorical_transformer:category_coalescence:__choice__': 'no_coalescense', 'data_preprocessor:feature_type:numerical_transformer:imputation:strategy': 'mean', 'data_preprocessor:feature_type:numerical_transformer:rescaling:__choice__': 'standardize', 'feature_preprocessor:random_trees_embedding:bootstrap': 'True', 'feature_preprocessor:random_trees_embedding:max_depth': 5, 'feature_preprocessor:random_trees_embedding:max_leaf_nodes': 'None', 'feature_preprocessor:random_trees_embedding:min_samples_leaf': 10, 'feature_preprocessor:random_trees_embedding:min_samples_split': 2, 'feature_preprocessor:random_trees_embedding:min_weight_fraction_leaf': 1.0, 'feature_preprocessor:random_trees_embedding:n_estimators': 24, 'classifier:libsvm_svc:coef0': -0.447625155175851, 'classifier:libsvm_svc:degree': 4},\n",
            "dataset_properties={\n",
            "  'task': 1,\n",
            "  'sparse': False,\n",
            "  'multilabel': False,\n",
            "  'multiclass': False,\n",
            "  'target_type': 'classification',\n",
            "  'signed': False})),\n",
            "(0.004000, SimpleClassificationPipeline({'balancing:strategy': 'none', 'classifier:__choice__': 'gradient_boosting', 'data_preprocessor:__choice__': 'feature_type', 'feature_preprocessor:__choice__': 'select_percentile_classification', 'classifier:gradient_boosting:early_stop': 'off', 'classifier:gradient_boosting:l2_regularization': 1.6429368307859335e-07, 'classifier:gradient_boosting:learning_rate': 0.03922771417486431, 'classifier:gradient_boosting:loss': 'auto', 'classifier:gradient_boosting:max_bins': 255, 'classifier:gradient_boosting:max_depth': 'None', 'classifier:gradient_boosting:max_leaf_nodes': 12, 'classifier:gradient_boosting:min_samples_leaf': 171, 'classifier:gradient_boosting:scoring': 'loss', 'classifier:gradient_boosting:tol': 1e-07, 'data_preprocessor:feature_type:categorical_transformer:categorical_encoding:__choice__': 'encoding', 'data_preprocessor:feature_type:categorical_transformer:category_coalescence:__choice__': 'minority_coalescer', 'data_preprocessor:feature_type:numerical_transformer:imputation:strategy': 'median', 'data_preprocessor:feature_type:numerical_transformer:rescaling:__choice__': 'normalize', 'feature_preprocessor:select_percentile_classification:percentile': 25.022063765912634, 'feature_preprocessor:select_percentile_classification:score_func': 'f_classif', 'data_preprocessor:feature_type:categorical_transformer:category_coalescence:minority_coalescer:minimum_fraction': 0.002722599830846316},\n",
            "dataset_properties={\n",
            "  'task': 1,\n",
            "  'sparse': False,\n",
            "  'multilabel': False,\n",
            "  'multiclass': False,\n",
            "  'target_type': 'classification',\n",
            "  'signed': False})),\n",
            "(0.003000, SimpleClassificationPipeline({'balancing:strategy': 'none', 'classifier:__choice__': 'qda', 'data_preprocessor:__choice__': 'feature_type', 'feature_preprocessor:__choice__': 'no_preprocessing', 'classifier:qda:reg_param': 0.17535224894961632, 'data_preprocessor:feature_type:categorical_transformer:categorical_encoding:__choice__': 'one_hot_encoding', 'data_preprocessor:feature_type:categorical_transformer:category_coalescence:__choice__': 'no_coalescense', 'data_preprocessor:feature_type:numerical_transformer:imputation:strategy': 'mean', 'data_preprocessor:feature_type:numerical_transformer:rescaling:__choice__': 'power_transformer'},\n",
            "dataset_properties={\n",
            "  'task': 1,\n",
            "  'sparse': False,\n",
            "  'multilabel': False,\n",
            "  'multiclass': False,\n",
            "  'target_type': 'classification',\n",
            "  'signed': False})),\n",
            "(0.002000, SimpleClassificationPipeline({'balancing:strategy': 'weighting', 'classifier:__choice__': 'random_forest', 'data_preprocessor:__choice__': 'feature_type', 'feature_preprocessor:__choice__': 'extra_trees_preproc_for_classification', 'classifier:random_forest:bootstrap': 'False', 'classifier:random_forest:criterion': 'entropy', 'classifier:random_forest:max_depth': 'None', 'classifier:random_forest:max_features': 0.7073993103058536, 'classifier:random_forest:max_leaf_nodes': 'None', 'classifier:random_forest:min_impurity_decrease': 0.0, 'classifier:random_forest:min_samples_leaf': 1, 'classifier:random_forest:min_samples_split': 2, 'classifier:random_forest:min_weight_fraction_leaf': 0.0, 'data_preprocessor:feature_type:categorical_transformer:categorical_encoding:__choice__': 'no_encoding', 'data_preprocessor:feature_type:categorical_transformer:category_coalescence:__choice__': 'minority_coalescer', 'data_preprocessor:feature_type:numerical_transformer:imputation:strategy': 'median', 'data_preprocessor:feature_type:numerical_transformer:rescaling:__choice__': 'robust_scaler', 'feature_preprocessor:extra_trees_preproc_for_classification:bootstrap': 'False', 'feature_preprocessor:extra_trees_preproc_for_classification:criterion': 'gini', 'feature_preprocessor:extra_trees_preproc_for_classification:max_depth': 'None', 'feature_preprocessor:extra_trees_preproc_for_classification:max_features': 0.9894287030139614, 'feature_preprocessor:extra_trees_preproc_for_classification:max_leaf_nodes': 'None', 'feature_preprocessor:extra_trees_preproc_for_classification:min_impurity_decrease': 0.0, 'feature_preprocessor:extra_trees_preproc_for_classification:min_samples_leaf': 20, 'feature_preprocessor:extra_trees_preproc_for_classification:min_samples_split': 19, 'feature_preprocessor:extra_trees_preproc_for_classification:min_weight_fraction_leaf': 0.0, 'feature_preprocessor:extra_trees_preproc_for_classification:n_estimators': 100, 'data_preprocessor:feature_type:categorical_transformer:category_coalescence:minority_coalescer:minimum_fraction': 0.009191354223372805, 'data_preprocessor:feature_type:numerical_transformer:rescaling:robust_scaler:q_max': 0.7994739639717848, 'data_preprocessor:feature_type:numerical_transformer:rescaling:robust_scaler:q_min': 0.02564011515426391},\n",
            "dataset_properties={\n",
            "  'task': 1,\n",
            "  'sparse': False,\n",
            "  'multilabel': False,\n",
            "  'multiclass': False,\n",
            "  'target_type': 'classification',\n",
            "  'signed': False})),\n",
            "(0.002000, SimpleClassificationPipeline({'balancing:strategy': 'weighting', 'classifier:__choice__': 'gradient_boosting', 'data_preprocessor:__choice__': 'feature_type', 'feature_preprocessor:__choice__': 'pca', 'classifier:gradient_boosting:early_stop': 'train', 'classifier:gradient_boosting:l2_regularization': 1.0075067376225937e-07, 'classifier:gradient_boosting:learning_rate': 0.21860577737562284, 'classifier:gradient_boosting:loss': 'auto', 'classifier:gradient_boosting:max_bins': 255, 'classifier:gradient_boosting:max_depth': 'None', 'classifier:gradient_boosting:max_leaf_nodes': 7, 'classifier:gradient_boosting:min_samples_leaf': 7, 'classifier:gradient_boosting:scoring': 'loss', 'classifier:gradient_boosting:tol': 1e-07, 'data_preprocessor:feature_type:categorical_transformer:categorical_encoding:__choice__': 'one_hot_encoding', 'data_preprocessor:feature_type:categorical_transformer:category_coalescence:__choice__': 'no_coalescense', 'data_preprocessor:feature_type:numerical_transformer:imputation:strategy': 'mean', 'data_preprocessor:feature_type:numerical_transformer:rescaling:__choice__': 'quantile_transformer', 'feature_preprocessor:pca:keep_variance': 0.6787797761556464, 'feature_preprocessor:pca:whiten': 'True', 'classifier:gradient_boosting:n_iter_no_change': 2, 'data_preprocessor:feature_type:numerical_transformer:rescaling:quantile_transformer:n_quantiles': 474, 'data_preprocessor:feature_type:numerical_transformer:rescaling:quantile_transformer:output_distribution': 'normal'},\n",
            "dataset_properties={\n",
            "  'task': 1,\n",
            "  'sparse': False,\n",
            "  'multilabel': False,\n",
            "  'multiclass': False,\n",
            "  'target_type': 'classification',\n",
            "  'signed': False})),\n",
            "(0.002000, SimpleClassificationPipeline({'balancing:strategy': 'none', 'classifier:__choice__': 'gradient_boosting', 'data_preprocessor:__choice__': 'feature_type', 'feature_preprocessor:__choice__': 'select_rates_classification', 'classifier:gradient_boosting:early_stop': 'off', 'classifier:gradient_boosting:l2_regularization': 0.25140885549257014, 'classifier:gradient_boosting:learning_rate': 0.33934053016184323, 'classifier:gradient_boosting:loss': 'auto', 'classifier:gradient_boosting:max_bins': 255, 'classifier:gradient_boosting:max_depth': 'None', 'classifier:gradient_boosting:max_leaf_nodes': 55, 'classifier:gradient_boosting:min_samples_leaf': 13, 'classifier:gradient_boosting:scoring': 'loss', 'classifier:gradient_boosting:tol': 1e-07, 'data_preprocessor:feature_type:categorical_transformer:categorical_encoding:__choice__': 'no_encoding', 'data_preprocessor:feature_type:categorical_transformer:category_coalescence:__choice__': 'minority_coalescer', 'data_preprocessor:feature_type:numerical_transformer:imputation:strategy': 'mean', 'data_preprocessor:feature_type:numerical_transformer:rescaling:__choice__': 'robust_scaler', 'feature_preprocessor:select_rates_classification:alpha': 0.328118720748549, 'feature_preprocessor:select_rates_classification:score_func': 'mutual_info_classif', 'data_preprocessor:feature_type:categorical_transformer:category_coalescence:minority_coalescer:minimum_fraction': 0.0007144279205573357, 'data_preprocessor:feature_type:numerical_transformer:rescaling:robust_scaler:q_max': 0.9545612300110613, 'data_preprocessor:feature_type:numerical_transformer:rescaling:robust_scaler:q_min': 0.0243118091503905},\n",
            "dataset_properties={\n",
            "  'task': 1,\n",
            "  'sparse': False,\n",
            "  'multilabel': False,\n",
            "  'multiclass': False,\n",
            "  'target_type': 'classification',\n",
            "  'signed': False})),\n",
            "(0.002000, SimpleClassificationPipeline({'balancing:strategy': 'none', 'classifier:__choice__': 'k_nearest_neighbors', 'data_preprocessor:__choice__': 'feature_type', 'feature_preprocessor:__choice__': 'random_trees_embedding', 'classifier:k_nearest_neighbors:n_neighbors': 1, 'classifier:k_nearest_neighbors:p': 2, 'classifier:k_nearest_neighbors:weights': 'distance', 'data_preprocessor:feature_type:categorical_transformer:categorical_encoding:__choice__': 'one_hot_encoding', 'data_preprocessor:feature_type:categorical_transformer:category_coalescence:__choice__': 'minority_coalescer', 'data_preprocessor:feature_type:numerical_transformer:imputation:strategy': 'mean', 'data_preprocessor:feature_type:numerical_transformer:rescaling:__choice__': 'robust_scaler', 'feature_preprocessor:random_trees_embedding:bootstrap': 'False', 'feature_preprocessor:random_trees_embedding:max_depth': 3, 'feature_preprocessor:random_trees_embedding:max_leaf_nodes': 'None', 'feature_preprocessor:random_trees_embedding:min_samples_leaf': 8, 'feature_preprocessor:random_trees_embedding:min_samples_split': 18, 'feature_preprocessor:random_trees_embedding:min_weight_fraction_leaf': 1.0, 'feature_preprocessor:random_trees_embedding:n_estimators': 74, 'data_preprocessor:feature_type:categorical_transformer:category_coalescence:minority_coalescer:minimum_fraction': 0.012494427735365514, 'data_preprocessor:feature_type:numerical_transformer:rescaling:robust_scaler:q_max': 0.8013321163679897, 'data_preprocessor:feature_type:numerical_transformer:rescaling:robust_scaler:q_min': 0.04508686753888279},\n",
            "dataset_properties={\n",
            "  'task': 1,\n",
            "  'sparse': False,\n",
            "  'multilabel': False,\n",
            "  'multiclass': False,\n",
            "  'target_type': 'classification',\n",
            "  'signed': False})),\n",
            "(0.001000, SimpleClassificationPipeline({'balancing:strategy': 'weighting', 'classifier:__choice__': 'gradient_boosting', 'data_preprocessor:__choice__': 'feature_type', 'feature_preprocessor:__choice__': 'select_percentile_classification', 'classifier:gradient_boosting:early_stop': 'off', 'classifier:gradient_boosting:l2_regularization': 1e-10, 'classifier:gradient_boosting:learning_rate': 0.10000000000000002, 'classifier:gradient_boosting:loss': 'auto', 'classifier:gradient_boosting:max_bins': 255, 'classifier:gradient_boosting:max_depth': 'None', 'classifier:gradient_boosting:max_leaf_nodes': 31, 'classifier:gradient_boosting:min_samples_leaf': 20, 'classifier:gradient_boosting:scoring': 'loss', 'classifier:gradient_boosting:tol': 1e-07, 'data_preprocessor:feature_type:categorical_transformer:categorical_encoding:__choice__': 'one_hot_encoding', 'data_preprocessor:feature_type:categorical_transformer:category_coalescence:__choice__': 'minority_coalescer', 'data_preprocessor:feature_type:numerical_transformer:imputation:strategy': 'mean', 'data_preprocessor:feature_type:numerical_transformer:rescaling:__choice__': 'minmax', 'feature_preprocessor:select_percentile_classification:percentile': 48.30489524413217, 'feature_preprocessor:select_percentile_classification:score_func': 'mutual_info', 'data_preprocessor:feature_type:categorical_transformer:category_coalescence:minority_coalescer:minimum_fraction': 0.009191354223372805},\n",
            "dataset_properties={\n",
            "  'task': 1,\n",
            "  'sparse': False,\n",
            "  'multilabel': False,\n",
            "  'multiclass': False,\n",
            "  'target_type': 'classification',\n",
            "  'signed': False})),\n",
            "(0.001000, SimpleClassificationPipeline({'balancing:strategy': 'weighting', 'classifier:__choice__': 'mlp', 'data_preprocessor:__choice__': 'feature_type', 'feature_preprocessor:__choice__': 'extra_trees_preproc_for_classification', 'classifier:mlp:activation': 'relu', 'classifier:mlp:alpha': 0.003989533567739603, 'classifier:mlp:batch_size': 'auto', 'classifier:mlp:beta_1': 0.9, 'classifier:mlp:beta_2': 0.999, 'classifier:mlp:early_stopping': 'valid', 'classifier:mlp:epsilon': 1e-08, 'classifier:mlp:hidden_layer_depth': 2, 'classifier:mlp:learning_rate_init': 0.0009934511776384044, 'classifier:mlp:n_iter_no_change': 32, 'classifier:mlp:num_nodes_per_layer': 264, 'classifier:mlp:shuffle': 'True', 'classifier:mlp:solver': 'adam', 'classifier:mlp:tol': 0.0001, 'data_preprocessor:feature_type:categorical_transformer:categorical_encoding:__choice__': 'one_hot_encoding', 'data_preprocessor:feature_type:categorical_transformer:category_coalescence:__choice__': 'no_coalescense', 'data_preprocessor:feature_type:numerical_transformer:imputation:strategy': 'most_frequent', 'data_preprocessor:feature_type:numerical_transformer:rescaling:__choice__': 'standardize', 'feature_preprocessor:extra_trees_preproc_for_classification:bootstrap': 'False', 'feature_preprocessor:extra_trees_preproc_for_classification:criterion': 'gini', 'feature_preprocessor:extra_trees_preproc_for_classification:max_depth': 'None', 'feature_preprocessor:extra_trees_preproc_for_classification:max_features': 0.683499980815128, 'feature_preprocessor:extra_trees_preproc_for_classification:max_leaf_nodes': 'None', 'feature_preprocessor:extra_trees_preproc_for_classification:min_impurity_decrease': 0.0, 'feature_preprocessor:extra_trees_preproc_for_classification:min_samples_leaf': 1, 'feature_preprocessor:extra_trees_preproc_for_classification:min_samples_split': 16, 'feature_preprocessor:extra_trees_preproc_for_classification:min_weight_fraction_leaf': 0.0, 'feature_preprocessor:extra_trees_preproc_for_classification:n_estimators': 100, 'classifier:mlp:validation_fraction': 0.1},\n",
            "dataset_properties={\n",
            "  'task': 1,\n",
            "  'sparse': False,\n",
            "  'multilabel': False,\n",
            "  'multiclass': False,\n",
            "  'target_type': 'classification',\n",
            "  'signed': False})),\n",
            "(0.001000, SimpleClassificationPipeline({'balancing:strategy': 'none', 'classifier:__choice__': 'gradient_boosting', 'data_preprocessor:__choice__': 'feature_type', 'feature_preprocessor:__choice__': 'select_percentile_classification', 'classifier:gradient_boosting:early_stop': 'train', 'classifier:gradient_boosting:l2_regularization': 2.0966803502825826e-09, 'classifier:gradient_boosting:learning_rate': 0.024980861698271826, 'classifier:gradient_boosting:loss': 'auto', 'classifier:gradient_boosting:max_bins': 255, 'classifier:gradient_boosting:max_depth': 'None', 'classifier:gradient_boosting:max_leaf_nodes': 268, 'classifier:gradient_boosting:min_samples_leaf': 16, 'classifier:gradient_boosting:scoring': 'loss', 'classifier:gradient_boosting:tol': 1e-07, 'data_preprocessor:feature_type:categorical_transformer:categorical_encoding:__choice__': 'encoding', 'data_preprocessor:feature_type:categorical_transformer:category_coalescence:__choice__': 'minority_coalescer', 'data_preprocessor:feature_type:numerical_transformer:imputation:strategy': 'mean', 'data_preprocessor:feature_type:numerical_transformer:rescaling:__choice__': 'minmax', 'feature_preprocessor:select_percentile_classification:percentile': 41.27366283038643, 'feature_preprocessor:select_percentile_classification:score_func': 'chi2', 'classifier:gradient_boosting:n_iter_no_change': 10, 'data_preprocessor:feature_type:categorical_transformer:category_coalescence:minority_coalescer:minimum_fraction': 0.007855267112200059},\n",
            "dataset_properties={\n",
            "  'task': 1,\n",
            "  'sparse': False,\n",
            "  'multilabel': False,\n",
            "  'multiclass': False,\n",
            "  'target_type': 'classification',\n",
            "  'signed': False})),\n",
            "(0.001000, SimpleClassificationPipeline({'balancing:strategy': 'weighting', 'classifier:__choice__': 'mlp', 'data_preprocessor:__choice__': 'feature_type', 'feature_preprocessor:__choice__': 'pca', 'classifier:mlp:activation': 'tanh', 'classifier:mlp:alpha': 1.103855734598575e-05, 'classifier:mlp:batch_size': 'auto', 'classifier:mlp:beta_1': 0.9, 'classifier:mlp:beta_2': 0.999, 'classifier:mlp:early_stopping': 'valid', 'classifier:mlp:epsilon': 1e-08, 'classifier:mlp:hidden_layer_depth': 3, 'classifier:mlp:learning_rate_init': 0.00014375616988222174, 'classifier:mlp:n_iter_no_change': 32, 'classifier:mlp:num_nodes_per_layer': 229, 'classifier:mlp:shuffle': 'True', 'classifier:mlp:solver': 'adam', 'classifier:mlp:tol': 0.0001, 'data_preprocessor:feature_type:categorical_transformer:categorical_encoding:__choice__': 'no_encoding', 'data_preprocessor:feature_type:categorical_transformer:category_coalescence:__choice__': 'minority_coalescer', 'data_preprocessor:feature_type:numerical_transformer:imputation:strategy': 'most_frequent', 'data_preprocessor:feature_type:numerical_transformer:rescaling:__choice__': 'quantile_transformer', 'feature_preprocessor:pca:keep_variance': 0.7895711479212801, 'feature_preprocessor:pca:whiten': 'True', 'classifier:mlp:validation_fraction': 0.1, 'data_preprocessor:feature_type:categorical_transformer:category_coalescence:minority_coalescer:minimum_fraction': 0.002766772136115771, 'data_preprocessor:feature_type:numerical_transformer:rescaling:quantile_transformer:n_quantiles': 180, 'data_preprocessor:feature_type:numerical_transformer:rescaling:quantile_transformer:output_distribution': 'uniform'},\n",
            "dataset_properties={\n",
            "  'task': 1,\n",
            "  'sparse': False,\n",
            "  'multilabel': False,\n",
            "  'multiclass': False,\n",
            "  'target_type': 'classification',\n",
            "  'signed': False})),\n",
            "(0.001000, SimpleClassificationPipeline({'balancing:strategy': 'none', 'classifier:__choice__': 'gradient_boosting', 'data_preprocessor:__choice__': 'feature_type', 'feature_preprocessor:__choice__': 'liblinear_svc_preprocessor', 'classifier:gradient_boosting:early_stop': 'train', 'classifier:gradient_boosting:l2_regularization': 0.9443955535385878, 'classifier:gradient_boosting:learning_rate': 0.1792052255857067, 'classifier:gradient_boosting:loss': 'auto', 'classifier:gradient_boosting:max_bins': 255, 'classifier:gradient_boosting:max_depth': 'None', 'classifier:gradient_boosting:max_leaf_nodes': 1257, 'classifier:gradient_boosting:min_samples_leaf': 44, 'classifier:gradient_boosting:scoring': 'loss', 'classifier:gradient_boosting:tol': 1e-07, 'data_preprocessor:feature_type:categorical_transformer:categorical_encoding:__choice__': 'encoding', 'data_preprocessor:feature_type:categorical_transformer:category_coalescence:__choice__': 'no_coalescense', 'data_preprocessor:feature_type:numerical_transformer:imputation:strategy': 'mean', 'data_preprocessor:feature_type:numerical_transformer:rescaling:__choice__': 'minmax', 'feature_preprocessor:liblinear_svc_preprocessor:C': 5555.2961858814615, 'feature_preprocessor:liblinear_svc_preprocessor:dual': 'False', 'feature_preprocessor:liblinear_svc_preprocessor:fit_intercept': 'True', 'feature_preprocessor:liblinear_svc_preprocessor:intercept_scaling': 1, 'feature_preprocessor:liblinear_svc_preprocessor:loss': 'squared_hinge', 'feature_preprocessor:liblinear_svc_preprocessor:multi_class': 'ovr', 'feature_preprocessor:liblinear_svc_preprocessor:penalty': 'l1', 'feature_preprocessor:liblinear_svc_preprocessor:tol': 1.933496685741816e-05, 'classifier:gradient_boosting:n_iter_no_change': 6},\n",
            "dataset_properties={\n",
            "  'task': 1,\n",
            "  'sparse': False,\n",
            "  'multilabel': False,\n",
            "  'multiclass': False,\n",
            "  'target_type': 'classification',\n",
            "  'signed': False})),\n",
            "(0.001000, SimpleClassificationPipeline({'balancing:strategy': 'weighting', 'classifier:__choice__': 'k_nearest_neighbors', 'data_preprocessor:__choice__': 'feature_type', 'feature_preprocessor:__choice__': 'fast_ica', 'classifier:k_nearest_neighbors:n_neighbors': 1, 'classifier:k_nearest_neighbors:p': 1, 'classifier:k_nearest_neighbors:weights': 'uniform', 'data_preprocessor:feature_type:categorical_transformer:categorical_encoding:__choice__': 'one_hot_encoding', 'data_preprocessor:feature_type:categorical_transformer:category_coalescence:__choice__': 'no_coalescense', 'data_preprocessor:feature_type:numerical_transformer:imputation:strategy': 'mean', 'data_preprocessor:feature_type:numerical_transformer:rescaling:__choice__': 'normalize', 'feature_preprocessor:fast_ica:algorithm': 'deflation', 'feature_preprocessor:fast_ica:fun': 'cube', 'feature_preprocessor:fast_ica:whiten': 'False'},\n",
            "dataset_properties={\n",
            "  'task': 1,\n",
            "  'sparse': False,\n",
            "  'multilabel': False,\n",
            "  'multiclass': False,\n",
            "  'target_type': 'classification',\n",
            "  'signed': False})),\n",
            "(0.001000, SimpleClassificationPipeline({'balancing:strategy': 'none', 'classifier:__choice__': 'gaussian_nb', 'data_preprocessor:__choice__': 'feature_type', 'feature_preprocessor:__choice__': 'pca', 'data_preprocessor:feature_type:categorical_transformer:categorical_encoding:__choice__': 'no_encoding', 'data_preprocessor:feature_type:categorical_transformer:category_coalescence:__choice__': 'minority_coalescer', 'data_preprocessor:feature_type:numerical_transformer:imputation:strategy': 'median', 'data_preprocessor:feature_type:numerical_transformer:rescaling:__choice__': 'none', 'feature_preprocessor:pca:keep_variance': 0.7483932190164522, 'feature_preprocessor:pca:whiten': 'True', 'data_preprocessor:feature_type:categorical_transformer:category_coalescence:minority_coalescer:minimum_fraction': 0.07620414125012283},\n",
            "dataset_properties={\n",
            "  'task': 1,\n",
            "  'sparse': False,\n",
            "  'multilabel': False,\n",
            "  'multiclass': False,\n",
            "  'target_type': 'classification',\n",
            "  'signed': False})),\n",
            "]\n"
          ]
        }
      ],
      "source": [
        "print(asc.leaderboard())\n",
        "print(asc.show_models())"
      ]
    },
    {
      "cell_type": "code",
      "execution_count": null,
      "metadata": {
        "colab": {
          "base_uri": "https://localhost:8080/"
        },
        "id": "_ap807Fy-8r9",
        "outputId": "2fbb9fdc-6905-4943-a901-10a976038fb2"
      },
      "outputs": [
        {
          "name": "stdout",
          "output_type": "stream",
          "text": [
            "Accuracy for testset: 0.7742\n",
            "Precision for testset: 0.7716\n",
            "Recall for testset: 0.7728\n",
            "Fscore for testset: 0.7721\n",
            "Roc_auc for testset: 0.7728\n"
          ]
        }
      ],
      "source": [
        "test_predictions = asc.predict(test_X)\n",
        "precision, recall, fscore, _ = score(test_y,test_predictions,average='macro')\n",
        "asc_results = {\n",
        "    \"accuracy\" : accuracy_score(test_y, test_predictions),\n",
        "    \"precision\" : precision,\n",
        "    \"recall\" : recall,\n",
        "    \"fscore\" : fscore,\n",
        "    \"roc_auc\" : roc_auc_score(test_y,test_predictions)\n",
        "}\n",
        "print('Accuracy for testset: %.4f' % asc_results[\"accuracy\"])\n",
        "print('Precision for testset: %.4f' % asc_results[\"precision\"])\n",
        "print('Recall for testset: %.4f' % asc_results[\"recall\"])\n",
        "print('Fscore for testset: %.4f' % asc_results[\"fscore\"])\n",
        "print('Roc_auc for testset: %.4f' % asc_results[\"roc_auc\"])"
      ]
    },
    {
      "cell_type": "markdown",
      "metadata": {
        "id": "TxQgM6Fk8KoA"
      },
      "source": [
        "Same speech for what our benchmark should have been, but even this time the tree based ones performed better. "
      ]
    },
    {
      "cell_type": "markdown",
      "metadata": {
        "id": "ZWCXTwOWxtZJ"
      },
      "source": [
        "<a id='expc'></a>\n",
        "### 4). Experiments ([to top](#top))"
      ]
    },
    {
      "cell_type": "code",
      "execution_count": null,
      "metadata": {
        "colab": {
          "base_uri": "https://localhost:8080/",
          "height": 254
        },
        "id": "IfRjnus3q1uu",
        "outputId": "447d24bd-f758-4973-fdd5-952836a73180"
      },
      "outputs": [
        {
          "data": {
            "text/html": [
              "<table>\n",
              "<thead>\n",
              "<tr><th>                      </th><th>Accuracy  </th><th>Precision  </th><th>Recall  </th><th>F-score  </th><th>ROC-AUC  </th></tr>\n",
              "</thead>\n",
              "<tbody>\n",
              "<tr><td>Dummy                 </td><td>44.67%    </td><td>22.34%     </td><td>50.00%  </td><td>30.88%   </td><td>50.00%   </td></tr>\n",
              "<tr><td>DecisionTree          </td><td>75.11%    </td><td>74.98%     </td><td>75.24%  </td><td>75.00%   </td><td>75.24%   </td></tr>\n",
              "<tr><td>DecisionTree Bagging  </td><td>77.24%    </td><td>77.28%     </td><td>77.59%  </td><td>77.18%   </td><td>77.59%   </td></tr>\n",
              "<tr><td>RandomForest          </td><td>77.73%    </td><td>77.56%     </td><td>77.82%  </td><td>77.61%   </td><td>77.82%   </td></tr>\n",
              "<tr><td>GradientBossting      </td><td>78.73%    </td><td>78.53%     </td><td>78.79%  </td><td>78.60%   </td><td>78.79%   </td></tr>\n",
              "<tr><td>Multi-layer Perceptron</td><td>75.84%    </td><td>75.95%     </td><td>76.23%  </td><td>75.79%   </td><td>76.23%   </td></tr>\n",
              "<tr><td>MLP Bagging           </td><td>75.93%    </td><td>75.95%     </td><td>76.25%  </td><td>75.86%   </td><td>76.25%   </td></tr>\n",
              "<tr><td>MLP-SVM               </td><td>76.74%    </td><td>76.56%     </td><td>76.81%  </td><td>76.61%   </td><td>76.81%   </td></tr>\n",
              "<tr><td>StackingClassifier    </td><td>79.45%    </td><td>79.24%     </td><td>79.48%  </td><td>79.31%   </td><td>79.48%   </td></tr>\n",
              "<tr><td>AutoSklearn           </td><td>77.42%    </td><td>77.16%     </td><td>77.28%  </td><td>77.21%   </td><td>77.28%   </td></tr>\n",
              "</tbody>\n",
              "</table>"
            ],
            "text/plain": [
              "<IPython.core.display.HTML object>"
            ]
          },
          "metadata": {},
          "output_type": "display_data"
        }
      ],
      "source": [
        "all_models = [\n",
        "    (\"Dummy\", dc_results, dc),\n",
        "    (\"DecisionTree\", dtc_results, [dtc, dtc_rfe_support]),\n",
        "    (\"DecisionTree Bagging\", dtc_bagging_results, [dtc_bagging, dtc_rfe_support]),\n",
        "    (\"RandomForest\", rfc_results, [rfc, rfc_rfe_support]),\n",
        "    (\"GradientBossting\", gbc_results, [gbc, gbc_rfe_support]),\n",
        "    (\"Multi-layer Perceptron\", mlpc_results, mlpc),\n",
        "    (\"MLP Bagging\", mlpc_bagging_results, mlpc_bagging),\n",
        "    (\"MLP-SVM\", mlp_svm_results, mlp_svm),\n",
        "    (\"StackingClassifier\", sc_results, sc),\n",
        "    (\"AutoSklearn\", asc_results, asc)\n",
        "]\n",
        "table = [[model_name,\n",
        "          \"%4.2f%%\" % (100*model_results[\"accuracy\"]),\n",
        "          \"%4.2f%%\" % (100*model_results[\"precision\"]),\n",
        "          \"%4.2f%%\" % (100*model_results[\"recall\"]),\n",
        "          \"%4.2f%%\" % (100*model_results[\"fscore\"]),\n",
        "          \"%4.2f%%\" % (100*model_results[\"roc_auc\"])]\n",
        "         for model_name, model_results, model in all_models]\n",
        "dump(table, '/content/drive/MyDrive/BDA/models/classifier_table_post.joblib')\n",
        "display(HTML(tabulate.tabulate(table, tablefmt='html', headers=[\"Accuracy\", \"Precision\", \"Recall\", \"F-score\", \"ROC-AUC\"])))"
      ]
    },
    {
      "cell_type": "markdown",
      "metadata": {
        "id": "VVHPHjAL8NQg"
      },
      "source": [
        "Looking at the performance table, there doesn't seem to be much difference between the various results despite the different types of approaches. Above all, the Stacking Classifier achieve the best performance. However, it would seem that this is the best result obtainable, but it would be a hasty statement, taking into account both that the result is influenced by choices of preprocessing of the dataset and that the number of applicable models is essentially infinite and in any case even in that case the results they could be linked to a statistical bias. "
      ]
    },
    {
      "cell_type": "code",
      "execution_count": null,
      "metadata": {
        "id": "4cXSTzgQO2O4"
      },
      "outputs": [],
      "source": [
        "if not Path('/content/drive/MyDrive/BDA/image/confusion_matrix.png').is_file():\n",
        "  train_X, train_y, test_X, test_y = train_X_sm, train_y_sm, test_X_no_sm, test_y_no_sm\n",
        "  train_X_c_m, test_X_c_m, train_y_c_m, test_y_c_m = train_test_split(X_c_m, y_c_m, train_size=0.75, test_size=0.25, random_state=0)\n",
        "  fig, axs = plt.subplots(nrows=2, ncols=5, figsize=(12, 4))\n",
        "  for cls, ax in zip(all_models, axs.flatten()):\n",
        "    if cls[0] in ['Multi-layer Perceptron', \"MLP Bagging\", 'StackingClassifier']:\n",
        "      test_predictions = cls[-1].predict(test_X_c_m)\n",
        "      cm = confusion_matrix(test_y_c_m, test_predictions)\n",
        "      sn.heatmap(cm, annot=True, ax=ax)\n",
        "      ax.title.set_text(cls[0])\n",
        "    elif isinstance(cls[-1], list):\n",
        "      test_predictions = cls[-1][0].predict(test_X.loc[:, cls[-1][1]])\n",
        "      cm = confusion_matrix(test_y, test_predictions)\n",
        "      sn.heatmap(cm, annot=True, ax=ax)\n",
        "      ax.title.set_text(cls[0])\n",
        "    elif cls[0] == \"MLP-SVM\":\n",
        "      test_predictions = np.argmax(cls[-1].predict(test_X), axis=1)\n",
        "      cm = confusion_matrix(test_y, test_predictions)\n",
        "      sn.heatmap(cm, annot=True, ax=ax)\n",
        "      ax.title.set_text(cls[0])\n",
        "    else:\n",
        "      test_predictions = cls[-1].predict(test_X)\n",
        "      cm = confusion_matrix(test_y, test_predictions)\n",
        "      sn.heatmap(cm, annot=True, ax=ax)\n",
        "      ax.title.set_text(cls[0])\n",
        "\n",
        "  fig.tight_layout()\n",
        "  plt.savefig('/content/drive/MyDrive/BDA/image/confusion_matrix.png', format='png')\n",
        "  plt.show()"
      ]
    },
    {
      "cell_type": "markdown",
      "metadata": {
        "id": "-dxkpuXjmKzL"
      },
      "source": [
        "<img src = 'https://drive.google.com/uc?id=1-1cGxWvXDhbXrwu_38zQEXUaI4UDdST8'>"
      ]
    },
    {
      "cell_type": "markdown",
      "metadata": {
        "id": "FobHxmMa8Qdt"
      },
      "source": [
        "Looking at the confusion matrices, this time we can say that the higher return values ​​are better predicted than the lower ones, even if the type of prediction we make is binary and therefore less fine than the regression. In any case the SMOTE seems to have equalized the predictor's ability to distinguish between 0 or 1 instances of the traget class."
      ]
    },
    {
      "cell_type": "code",
      "execution_count": null,
      "metadata": {
        "id": "O5o0lfv5Icp8"
      },
      "outputs": [],
      "source": [
        "if not Path('/content/drive/MyDrive/BDA/image/roc_curve.png').is_file():\n",
        "  train_X, train_y, test_X, test_y = train_X_sm, train_y_sm, test_X_no_sm, test_y_no_sm\n",
        "  train_X_c_m, test_X_c_m, train_y_c_m, test_y_c_m = train_test_split(X_c_m, y_c_m, train_size=0.75, test_size=0.25, random_state=0)\n",
        "  plt.figure(figsize=(7, 5), dpi=100)\n",
        "  ax = plt.gca()\n",
        "  ax.set_title('Roc Curve')\n",
        "  for cls in all_models:\n",
        "    if cls[0] in ['Multi-layer Perceptron', \"MLP Bagging\", 'StackingClassifier']:\n",
        "      test_predictions = cls[-1].predict_proba(test_X_c_m)[::,1]\n",
        "      fpr, tpr, _ = roc_curve(test_y_c_m, test_predictions)\n",
        "      ax.plot(fpr,tpr,label = cls[0] + \" auc=\"+str(round(cls[1][\"roc_auc\"],2)))\n",
        "    elif isinstance(cls[-1], list):\n",
        "      test_predictions = cls[-1][0].predict_proba(test_X.loc[:, cls[-1][1]])[::,1]\n",
        "      fpr, tpr, _ = roc_curve(test_y_c_m, test_predictions)\n",
        "      ax.plot(fpr,tpr,label = cls[0] + \" auc=\"+str(round(cls[1][\"roc_auc\"],2)))\n",
        "    elif cls[0] == \"MLP-SVM\":\n",
        "      test_predictions = np.argmax(cls[-1].predict(test_X), axis=1)\n",
        "      fpr, tpr, _ = roc_curve(test_y_c_m, test_predictions)\n",
        "      ax.plot(fpr,tpr,label = cls[0] + \" auc=\"+str(round(cls[1][\"roc_auc\"],2)))\n",
        "    else:\n",
        "      test_predictions = cls[-1].predict_proba(test_X)[::,1]\n",
        "      fpr, tpr, _ = roc_curve(test_y_c_m, test_predictions)\n",
        "      ax.plot(fpr,tpr,label = cls[0] + \" auc=\"+ str(round(cls[1][\"roc_auc\"],2)))\n",
        "  plt.legend(loc=4, prop={'size': 10})\n",
        "  plt.tight_layout()\n",
        "  plt.savefig('/content/drive/MyDrive/BDA/image/roc_curve.png', format='png')\n",
        "  plt.show()"
      ]
    },
    {
      "cell_type": "markdown",
      "metadata": {
        "id": "nDSQnxf2lnvX"
      },
      "source": [
        "<img src = 'https://drive.google.com/uc?id=1-boQlFqoGE3VhE_8Tjdl2qU3wvSxzeUq'>"
      ]
    },
    {
      "cell_type": "markdown",
      "metadata": {
        "id": "E7WKppnX8TX3"
      },
      "source": [
        "Although the roc plot is aimed at showing the ability to discriminate predictors, it does not seem to add anything else to the previous discussion."
      ]
    },
    {
      "cell_type": "code",
      "execution_count": null,
      "metadata": {
        "id": "LfCOxNWKJoQK"
      },
      "outputs": [],
      "source": [
        "if not Path('/content/drive/MyDrive/BDA/image/feature_importance_cls.png').is_file():\n",
        "    fig, axs = plt.subplots(nrows=1, ncols=3, figsize=(10, 20))\n",
        "    classifiers = [dtc, rfc, gbc]\n",
        "    rfe_supports = [dtc_rfe_support, rfc_rfe_support, gbc_rfe_support]\n",
        "    for cls, rfe, ax in zip(classifiers, rfe_supports, axs.flatten()):\n",
        "      sns.barplot(x=cls.feature_importances_, y=train_X.loc[:, rfe].columns, ax=ax)\n",
        "      ax.title.set_text(type(cls).__name__)\n",
        "\n",
        "    fig.tight_layout()\n",
        "    plt.savefig('/content/drive/MyDrive/BDA/image/feature_importance_cls.png', format='png')\n",
        "    plt.show()"
      ]
    },
    {
      "cell_type": "markdown",
      "metadata": {
        "id": "sDqY9qnymxDo"
      },
      "source": [
        "<img src = 'https://drive.google.com/uc?id=1-2_opRXmYxnXv77cmJSWcHgnWbBEqlIj'>"
      ]
    },
    {
      "cell_type": "markdown",
      "metadata": {
        "id": "7YPtLA2e8WCa"
      },
      "source": [
        "Also in this analysis of feature importance, the number of votes was decisive in the choice of class. here, however, we notice some differences between the various models, in fact budget, for example, is no longer relevant for the DT, just as the popularity is no longer relevant for dt and gradient boosting. The difference in the type of features chosen, with the same results, helps us to confirm the validity of our analyzes. A possible future investigation could be done by removing relevant features such as **vote_count** to see how the classifiers react."
      ]
    },
    {
      "cell_type": "code",
      "execution_count": null,
      "metadata": {
        "id": "apkp0n_iJnlL"
      },
      "outputs": [],
      "source": [
        "if not Path('/content/drive/MyDrive/BDA/image/dt_cls.png').is_file():\n",
        "  # visualize the actual decision tree obtained \n",
        "  dot_data = export_graphviz(dtc,\n",
        "                out_file=None,\n",
        "                max_depth=4, \n",
        "                feature_names=list(train_X.loc[:, dtc_rfe_support].columns),  \n",
        "                filled=True,\n",
        "                rotate=True,\n",
        "                rounded=True)  \n",
        "  graph = pydotplus.graph_from_dot_data(dot_data)\n",
        "  graph.write_png('/content/drive/MyDrive/BDA/image/dt_cls.png') \n",
        "  Image(graph.create_png())"
      ]
    },
    {
      "cell_type": "markdown",
      "metadata": {
        "id": "YbKAjJILoiAC"
      },
      "source": [
        "<img src = 'https://drive.google.com/uc?id=1-B7Ty_lQGLW1uiPfGTJ_F7Lg6JrLDgZz'>"
      ]
    },
    {
      "cell_type": "markdown",
      "metadata": {
        "id": "xeX2D2blc2Mr"
      },
      "source": [
        "<a id='tcc'></a>\n",
        "### 5). Testcases ([to top](#top))"
      ]
    },
    {
      "cell_type": "markdown",
      "metadata": {
        "id": "DmxV3TNxibgz"
      },
      "source": [
        "**Test for Stacking Classifier model :**"
      ]
    },
    {
      "cell_type": "markdown",
      "metadata": {
        "id": "EGOaoUIail_I"
      },
      "source": [
        "Testcase 0:"
      ]
    },
    {
      "cell_type": "code",
      "execution_count": null,
      "metadata": {
        "colab": {
          "base_uri": "https://localhost:8080/",
          "height": 145
        },
        "id": "Ya8E2-2Jc2Mt",
        "outputId": "8463c938-f6a0-4750-dd4a-1b96b92cc913"
      },
      "outputs": [
        {
          "data": {
            "text/html": [
              "\n",
              "  <div id=\"df-e0159ce5-a59f-4100-96de-4e5251aa078f\">\n",
              "    <div class=\"colab-df-container\">\n",
              "      <div>\n",
              "<style scoped>\n",
              "    .dataframe tbody tr th:only-of-type {\n",
              "        vertical-align: middle;\n",
              "    }\n",
              "\n",
              "    .dataframe tbody tr th {\n",
              "        vertical-align: top;\n",
              "    }\n",
              "\n",
              "    .dataframe thead th {\n",
              "        text-align: right;\n",
              "    }\n",
              "</style>\n",
              "<table border=\"1\" class=\"dataframe\">\n",
              "  <thead>\n",
              "    <tr style=\"text-align: right;\">\n",
              "      <th></th>\n",
              "      <th>budget_tmdb</th>\n",
              "      <th>month_cos</th>\n",
              "      <th>month_sin</th>\n",
              "      <th>popularity</th>\n",
              "      <th>return</th>\n",
              "      <th>return_log</th>\n",
              "      <th>revenue</th>\n",
              "      <th>runtime</th>\n",
              "      <th>vote_average</th>\n",
              "      <th>vote_count</th>\n",
              "      <th>year</th>\n",
              "    </tr>\n",
              "  </thead>\n",
              "  <tbody>\n",
              "    <tr>\n",
              "      <th>1061</th>\n",
              "      <td>5000000.0</td>\n",
              "      <td>-0.866025</td>\n",
              "      <td>-0.5</td>\n",
              "      <td>0.011574</td>\n",
              "      <td>1.630735</td>\n",
              "      <td>0.489031</td>\n",
              "      <td>8153677.0</td>\n",
              "      <td>83.0</td>\n",
              "      <td>5.9</td>\n",
              "      <td>10.0</td>\n",
              "      <td>1989</td>\n",
              "    </tr>\n",
              "  </tbody>\n",
              "</table>\n",
              "</div>\n",
              "      <button class=\"colab-df-convert\" onclick=\"convertToInteractive('df-e0159ce5-a59f-4100-96de-4e5251aa078f')\"\n",
              "              title=\"Convert this dataframe to an interactive table.\"\n",
              "              style=\"display:none;\">\n",
              "        \n",
              "  <svg xmlns=\"http://www.w3.org/2000/svg\" height=\"24px\"viewBox=\"0 0 24 24\"\n",
              "       width=\"24px\">\n",
              "    <path d=\"M0 0h24v24H0V0z\" fill=\"none\"/>\n",
              "    <path d=\"M18.56 5.44l.94 2.06.94-2.06 2.06-.94-2.06-.94-.94-2.06-.94 2.06-2.06.94zm-11 1L8.5 8.5l.94-2.06 2.06-.94-2.06-.94L8.5 2.5l-.94 2.06-2.06.94zm10 10l.94 2.06.94-2.06 2.06-.94-2.06-.94-.94-2.06-.94 2.06-2.06.94z\"/><path d=\"M17.41 7.96l-1.37-1.37c-.4-.4-.92-.59-1.43-.59-.52 0-1.04.2-1.43.59L10.3 9.45l-7.72 7.72c-.78.78-.78 2.05 0 2.83L4 21.41c.39.39.9.59 1.41.59.51 0 1.02-.2 1.41-.59l7.78-7.78 2.81-2.81c.8-.78.8-2.07 0-2.86zM5.41 20L4 18.59l7.72-7.72 1.47 1.35L5.41 20z\"/>\n",
              "  </svg>\n",
              "      </button>\n",
              "      \n",
              "  <style>\n",
              "    .colab-df-container {\n",
              "      display:flex;\n",
              "      flex-wrap:wrap;\n",
              "      gap: 12px;\n",
              "    }\n",
              "\n",
              "    .colab-df-convert {\n",
              "      background-color: #E8F0FE;\n",
              "      border: none;\n",
              "      border-radius: 50%;\n",
              "      cursor: pointer;\n",
              "      display: none;\n",
              "      fill: #1967D2;\n",
              "      height: 32px;\n",
              "      padding: 0 0 0 0;\n",
              "      width: 32px;\n",
              "    }\n",
              "\n",
              "    .colab-df-convert:hover {\n",
              "      background-color: #E2EBFA;\n",
              "      box-shadow: 0px 1px 2px rgba(60, 64, 67, 0.3), 0px 1px 3px 1px rgba(60, 64, 67, 0.15);\n",
              "      fill: #174EA6;\n",
              "    }\n",
              "\n",
              "    [theme=dark] .colab-df-convert {\n",
              "      background-color: #3B4455;\n",
              "      fill: #D2E3FC;\n",
              "    }\n",
              "\n",
              "    [theme=dark] .colab-df-convert:hover {\n",
              "      background-color: #434B5C;\n",
              "      box-shadow: 0px 1px 3px 1px rgba(0, 0, 0, 0.15);\n",
              "      filter: drop-shadow(0px 1px 2px rgba(0, 0, 0, 0.3));\n",
              "      fill: #FFFFFF;\n",
              "    }\n",
              "  </style>\n",
              "\n",
              "      <script>\n",
              "        const buttonEl =\n",
              "          document.querySelector('#df-e0159ce5-a59f-4100-96de-4e5251aa078f button.colab-df-convert');\n",
              "        buttonEl.style.display =\n",
              "          google.colab.kernel.accessAllowed ? 'block' : 'none';\n",
              "\n",
              "        async function convertToInteractive(key) {\n",
              "          const element = document.querySelector('#df-e0159ce5-a59f-4100-96de-4e5251aa078f');\n",
              "          const dataTable =\n",
              "            await google.colab.kernel.invokeFunction('convertToInteractive',\n",
              "                                                     [key], {});\n",
              "          if (!dataTable) return;\n",
              "\n",
              "          const docLinkHtml = 'Like what you see? Visit the ' +\n",
              "            '<a target=\"_blank\" href=https://colab.research.google.com/notebooks/data_table.ipynb>data table notebook</a>'\n",
              "            + ' to learn more about interactive tables.';\n",
              "          element.innerHTML = '';\n",
              "          dataTable['output_type'] = 'display_data';\n",
              "          await google.colab.output.renderOutput(dataTable, element);\n",
              "          const docLink = document.createElement('div');\n",
              "          docLink.innerHTML = docLinkHtml;\n",
              "          element.appendChild(docLink);\n",
              "        }\n",
              "      </script>\n",
              "    </div>\n",
              "  </div>\n",
              "  "
            ],
            "text/plain": [
              "      budget_tmdb  month_cos  month_sin  ...  vote_average  vote_count  year\n",
              "1061    5000000.0  -0.866025       -0.5  ...           5.9        10.0  1989\n",
              "\n",
              "[1 rows x 11 columns]"
            ]
          },
          "execution_count": 124,
          "metadata": {},
          "output_type": "execute_result"
        }
      ],
      "source": [
        "# Random choice\n",
        "chosen_idx = np.random.choice(len(test_y), replace = True)\n",
        "return_df[return_df.index == chosen_idx][['budget_tmdb', 'month_cos', 'month_sin', 'popularity', 'return', 'return_log', 'revenue', 'runtime', 'vote_average', 'vote_count', 'year']]"
      ]
    },
    {
      "cell_type": "code",
      "execution_count": null,
      "metadata": {
        "colab": {
          "base_uri": "https://localhost:8080/"
        },
        "id": "cyjDg8liiw_z",
        "outputId": "ba7ed73a-7186-47ea-f1ec-c229ed731b0a"
      },
      "outputs": [
        {
          "name": "stdout",
          "output_type": "stream",
          "text": [
            "\n",
            " chosen_idx: 1061, y_pred: 0.0000, y_true: 0.0000\n"
          ]
        }
      ],
      "source": [
        "y_pred, y_true = sc.predict(test_X.iloc[chosen_idx].values.reshape(1, -1))[0], test_y.iloc[chosen_idx]\n",
        "print(\"\\n chosen_idx: {}, y_pred: {:.4f}, y_true: {:.4f}\".format(chosen_idx, y_pred, y_true))"
      ]
    },
    {
      "cell_type": "markdown",
      "metadata": {
        "id": "twAnSlxkjEzN"
      },
      "source": [
        "Testcase 1:"
      ]
    },
    {
      "cell_type": "code",
      "execution_count": null,
      "metadata": {
        "colab": {
          "base_uri": "https://localhost:8080/",
          "height": 145
        },
        "id": "avGqoGIBl6sM",
        "outputId": "0d1f59bc-7592-4f0c-9d49-19c276ed8f03"
      },
      "outputs": [
        {
          "data": {
            "text/html": [
              "\n",
              "  <div id=\"df-cc87ebc6-d1ff-467d-9153-b4f693ea1d77\">\n",
              "    <div class=\"colab-df-container\">\n",
              "      <div>\n",
              "<style scoped>\n",
              "    .dataframe tbody tr th:only-of-type {\n",
              "        vertical-align: middle;\n",
              "    }\n",
              "\n",
              "    .dataframe tbody tr th {\n",
              "        vertical-align: top;\n",
              "    }\n",
              "\n",
              "    .dataframe thead th {\n",
              "        text-align: right;\n",
              "    }\n",
              "</style>\n",
              "<table border=\"1\" class=\"dataframe\">\n",
              "  <thead>\n",
              "    <tr style=\"text-align: right;\">\n",
              "      <th></th>\n",
              "      <th>budget_tmdb</th>\n",
              "      <th>month_cos</th>\n",
              "      <th>month_sin</th>\n",
              "      <th>popularity</th>\n",
              "      <th>return</th>\n",
              "      <th>return_log</th>\n",
              "      <th>revenue</th>\n",
              "      <th>runtime</th>\n",
              "      <th>vote_average</th>\n",
              "      <th>vote_count</th>\n",
              "      <th>year</th>\n",
              "    </tr>\n",
              "  </thead>\n",
              "  <tbody>\n",
              "    <tr>\n",
              "      <th>4727</th>\n",
              "      <td>12000000.0</td>\n",
              "      <td>0.866025</td>\n",
              "      <td>0.5</td>\n",
              "      <td>6.135652</td>\n",
              "      <td>0.437916</td>\n",
              "      <td>-0.825729</td>\n",
              "      <td>5254986.0</td>\n",
              "      <td>97.0</td>\n",
              "      <td>6.5</td>\n",
              "      <td>228.0</td>\n",
              "      <td>2008</td>\n",
              "    </tr>\n",
              "  </tbody>\n",
              "</table>\n",
              "</div>\n",
              "      <button class=\"colab-df-convert\" onclick=\"convertToInteractive('df-cc87ebc6-d1ff-467d-9153-b4f693ea1d77')\"\n",
              "              title=\"Convert this dataframe to an interactive table.\"\n",
              "              style=\"display:none;\">\n",
              "        \n",
              "  <svg xmlns=\"http://www.w3.org/2000/svg\" height=\"24px\"viewBox=\"0 0 24 24\"\n",
              "       width=\"24px\">\n",
              "    <path d=\"M0 0h24v24H0V0z\" fill=\"none\"/>\n",
              "    <path d=\"M18.56 5.44l.94 2.06.94-2.06 2.06-.94-2.06-.94-.94-2.06-.94 2.06-2.06.94zm-11 1L8.5 8.5l.94-2.06 2.06-.94-2.06-.94L8.5 2.5l-.94 2.06-2.06.94zm10 10l.94 2.06.94-2.06 2.06-.94-2.06-.94-.94-2.06-.94 2.06-2.06.94z\"/><path d=\"M17.41 7.96l-1.37-1.37c-.4-.4-.92-.59-1.43-.59-.52 0-1.04.2-1.43.59L10.3 9.45l-7.72 7.72c-.78.78-.78 2.05 0 2.83L4 21.41c.39.39.9.59 1.41.59.51 0 1.02-.2 1.41-.59l7.78-7.78 2.81-2.81c.8-.78.8-2.07 0-2.86zM5.41 20L4 18.59l7.72-7.72 1.47 1.35L5.41 20z\"/>\n",
              "  </svg>\n",
              "      </button>\n",
              "      \n",
              "  <style>\n",
              "    .colab-df-container {\n",
              "      display:flex;\n",
              "      flex-wrap:wrap;\n",
              "      gap: 12px;\n",
              "    }\n",
              "\n",
              "    .colab-df-convert {\n",
              "      background-color: #E8F0FE;\n",
              "      border: none;\n",
              "      border-radius: 50%;\n",
              "      cursor: pointer;\n",
              "      display: none;\n",
              "      fill: #1967D2;\n",
              "      height: 32px;\n",
              "      padding: 0 0 0 0;\n",
              "      width: 32px;\n",
              "    }\n",
              "\n",
              "    .colab-df-convert:hover {\n",
              "      background-color: #E2EBFA;\n",
              "      box-shadow: 0px 1px 2px rgba(60, 64, 67, 0.3), 0px 1px 3px 1px rgba(60, 64, 67, 0.15);\n",
              "      fill: #174EA6;\n",
              "    }\n",
              "\n",
              "    [theme=dark] .colab-df-convert {\n",
              "      background-color: #3B4455;\n",
              "      fill: #D2E3FC;\n",
              "    }\n",
              "\n",
              "    [theme=dark] .colab-df-convert:hover {\n",
              "      background-color: #434B5C;\n",
              "      box-shadow: 0px 1px 3px 1px rgba(0, 0, 0, 0.15);\n",
              "      filter: drop-shadow(0px 1px 2px rgba(0, 0, 0, 0.3));\n",
              "      fill: #FFFFFF;\n",
              "    }\n",
              "  </style>\n",
              "\n",
              "      <script>\n",
              "        const buttonEl =\n",
              "          document.querySelector('#df-cc87ebc6-d1ff-467d-9153-b4f693ea1d77 button.colab-df-convert');\n",
              "        buttonEl.style.display =\n",
              "          google.colab.kernel.accessAllowed ? 'block' : 'none';\n",
              "\n",
              "        async function convertToInteractive(key) {\n",
              "          const element = document.querySelector('#df-cc87ebc6-d1ff-467d-9153-b4f693ea1d77');\n",
              "          const dataTable =\n",
              "            await google.colab.kernel.invokeFunction('convertToInteractive',\n",
              "                                                     [key], {});\n",
              "          if (!dataTable) return;\n",
              "\n",
              "          const docLinkHtml = 'Like what you see? Visit the ' +\n",
              "            '<a target=\"_blank\" href=https://colab.research.google.com/notebooks/data_table.ipynb>data table notebook</a>'\n",
              "            + ' to learn more about interactive tables.';\n",
              "          element.innerHTML = '';\n",
              "          dataTable['output_type'] = 'display_data';\n",
              "          await google.colab.output.renderOutput(dataTable, element);\n",
              "          const docLink = document.createElement('div');\n",
              "          docLink.innerHTML = docLinkHtml;\n",
              "          element.appendChild(docLink);\n",
              "        }\n",
              "      </script>\n",
              "    </div>\n",
              "  </div>\n",
              "  "
            ],
            "text/plain": [
              "      budget_tmdb  month_cos  month_sin  ...  vote_average  vote_count  year\n",
              "4727   12000000.0   0.866025        0.5  ...           6.5       228.0  2008\n",
              "\n",
              "[1 rows x 11 columns]"
            ]
          },
          "execution_count": 126,
          "metadata": {},
          "output_type": "execute_result"
        }
      ],
      "source": [
        "return_df[return_df.index == chosen_idx_1][['budget_tmdb', 'month_cos', 'month_sin', 'popularity', 'return', 'return_log', 'revenue', 'runtime', 'vote_average', 'vote_count', 'year']]"
      ]
    },
    {
      "cell_type": "code",
      "execution_count": null,
      "metadata": {
        "colab": {
          "base_uri": "https://localhost:8080/"
        },
        "id": "VoCxL3exjKxG",
        "outputId": "461d8c5e-0d84-4ba1-d0a8-c7da18776489"
      },
      "outputs": [
        {
          "name": "stdout",
          "output_type": "stream",
          "text": [
            "\n",
            " chosen_idx: 4727, y_pred: 0.0000, y_true: 0.0000\n"
          ]
        }
      ],
      "source": [
        "y_pred = sc.predict(test_X[test_X.index == chosen_idx_1].values.reshape(1, -1))[0]\n",
        "y_true = test_y[test_y.index == chosen_idx_1].values[0]\n",
        "print(\"\\n chosen_idx: {}, y_pred: {:.4f}, y_true: {:.4f}\".format(chosen_idx_1, y_pred, y_true))"
      ]
    },
    {
      "cell_type": "markdown",
      "metadata": {
        "id": "pNYPY5MPjQ1K"
      },
      "source": [
        "Testcase 2:"
      ]
    },
    {
      "cell_type": "code",
      "execution_count": null,
      "metadata": {
        "colab": {
          "base_uri": "https://localhost:8080/",
          "height": 145
        },
        "id": "N8Q6u9lIlud8",
        "outputId": "ee8883c5-a473-47b3-8ce8-2d6c073f1751"
      },
      "outputs": [
        {
          "data": {
            "text/html": [
              "\n",
              "  <div id=\"df-57dc5ff3-02f8-4980-9240-7b8222c6b2e4\">\n",
              "    <div class=\"colab-df-container\">\n",
              "      <div>\n",
              "<style scoped>\n",
              "    .dataframe tbody tr th:only-of-type {\n",
              "        vertical-align: middle;\n",
              "    }\n",
              "\n",
              "    .dataframe tbody tr th {\n",
              "        vertical-align: top;\n",
              "    }\n",
              "\n",
              "    .dataframe thead th {\n",
              "        text-align: right;\n",
              "    }\n",
              "</style>\n",
              "<table border=\"1\" class=\"dataframe\">\n",
              "  <thead>\n",
              "    <tr style=\"text-align: right;\">\n",
              "      <th></th>\n",
              "      <th>budget_tmdb</th>\n",
              "      <th>month_cos</th>\n",
              "      <th>month_sin</th>\n",
              "      <th>popularity</th>\n",
              "      <th>return</th>\n",
              "      <th>return_log</th>\n",
              "      <th>revenue</th>\n",
              "      <th>runtime</th>\n",
              "      <th>vote_average</th>\n",
              "      <th>vote_count</th>\n",
              "      <th>year</th>\n",
              "    </tr>\n",
              "  </thead>\n",
              "  <tbody>\n",
              "    <tr>\n",
              "      <th>2152</th>\n",
              "      <td>1.0</td>\n",
              "      <td>0.5</td>\n",
              "      <td>-0.866025</td>\n",
              "      <td>4.028679</td>\n",
              "      <td>12396383.0</td>\n",
              "      <td>16.332915</td>\n",
              "      <td>12396383.0</td>\n",
              "      <td>98.0</td>\n",
              "      <td>6.1</td>\n",
              "      <td>77.0</td>\n",
              "      <td>1987</td>\n",
              "    </tr>\n",
              "  </tbody>\n",
              "</table>\n",
              "</div>\n",
              "      <button class=\"colab-df-convert\" onclick=\"convertToInteractive('df-57dc5ff3-02f8-4980-9240-7b8222c6b2e4')\"\n",
              "              title=\"Convert this dataframe to an interactive table.\"\n",
              "              style=\"display:none;\">\n",
              "        \n",
              "  <svg xmlns=\"http://www.w3.org/2000/svg\" height=\"24px\"viewBox=\"0 0 24 24\"\n",
              "       width=\"24px\">\n",
              "    <path d=\"M0 0h24v24H0V0z\" fill=\"none\"/>\n",
              "    <path d=\"M18.56 5.44l.94 2.06.94-2.06 2.06-.94-2.06-.94-.94-2.06-.94 2.06-2.06.94zm-11 1L8.5 8.5l.94-2.06 2.06-.94-2.06-.94L8.5 2.5l-.94 2.06-2.06.94zm10 10l.94 2.06.94-2.06 2.06-.94-2.06-.94-.94-2.06-.94 2.06-2.06.94z\"/><path d=\"M17.41 7.96l-1.37-1.37c-.4-.4-.92-.59-1.43-.59-.52 0-1.04.2-1.43.59L10.3 9.45l-7.72 7.72c-.78.78-.78 2.05 0 2.83L4 21.41c.39.39.9.59 1.41.59.51 0 1.02-.2 1.41-.59l7.78-7.78 2.81-2.81c.8-.78.8-2.07 0-2.86zM5.41 20L4 18.59l7.72-7.72 1.47 1.35L5.41 20z\"/>\n",
              "  </svg>\n",
              "      </button>\n",
              "      \n",
              "  <style>\n",
              "    .colab-df-container {\n",
              "      display:flex;\n",
              "      flex-wrap:wrap;\n",
              "      gap: 12px;\n",
              "    }\n",
              "\n",
              "    .colab-df-convert {\n",
              "      background-color: #E8F0FE;\n",
              "      border: none;\n",
              "      border-radius: 50%;\n",
              "      cursor: pointer;\n",
              "      display: none;\n",
              "      fill: #1967D2;\n",
              "      height: 32px;\n",
              "      padding: 0 0 0 0;\n",
              "      width: 32px;\n",
              "    }\n",
              "\n",
              "    .colab-df-convert:hover {\n",
              "      background-color: #E2EBFA;\n",
              "      box-shadow: 0px 1px 2px rgba(60, 64, 67, 0.3), 0px 1px 3px 1px rgba(60, 64, 67, 0.15);\n",
              "      fill: #174EA6;\n",
              "    }\n",
              "\n",
              "    [theme=dark] .colab-df-convert {\n",
              "      background-color: #3B4455;\n",
              "      fill: #D2E3FC;\n",
              "    }\n",
              "\n",
              "    [theme=dark] .colab-df-convert:hover {\n",
              "      background-color: #434B5C;\n",
              "      box-shadow: 0px 1px 3px 1px rgba(0, 0, 0, 0.15);\n",
              "      filter: drop-shadow(0px 1px 2px rgba(0, 0, 0, 0.3));\n",
              "      fill: #FFFFFF;\n",
              "    }\n",
              "  </style>\n",
              "\n",
              "      <script>\n",
              "        const buttonEl =\n",
              "          document.querySelector('#df-57dc5ff3-02f8-4980-9240-7b8222c6b2e4 button.colab-df-convert');\n",
              "        buttonEl.style.display =\n",
              "          google.colab.kernel.accessAllowed ? 'block' : 'none';\n",
              "\n",
              "        async function convertToInteractive(key) {\n",
              "          const element = document.querySelector('#df-57dc5ff3-02f8-4980-9240-7b8222c6b2e4');\n",
              "          const dataTable =\n",
              "            await google.colab.kernel.invokeFunction('convertToInteractive',\n",
              "                                                     [key], {});\n",
              "          if (!dataTable) return;\n",
              "\n",
              "          const docLinkHtml = 'Like what you see? Visit the ' +\n",
              "            '<a target=\"_blank\" href=https://colab.research.google.com/notebooks/data_table.ipynb>data table notebook</a>'\n",
              "            + ' to learn more about interactive tables.';\n",
              "          element.innerHTML = '';\n",
              "          dataTable['output_type'] = 'display_data';\n",
              "          await google.colab.output.renderOutput(dataTable, element);\n",
              "          const docLink = document.createElement('div');\n",
              "          docLink.innerHTML = docLinkHtml;\n",
              "          element.appendChild(docLink);\n",
              "        }\n",
              "      </script>\n",
              "    </div>\n",
              "  </div>\n",
              "  "
            ],
            "text/plain": [
              "      budget_tmdb  month_cos  month_sin  ...  vote_average  vote_count  year\n",
              "2152          1.0        0.5  -0.866025  ...           6.1        77.0  1987\n",
              "\n",
              "[1 rows x 11 columns]"
            ]
          },
          "execution_count": 128,
          "metadata": {},
          "output_type": "execute_result"
        }
      ],
      "source": [
        "return_df[return_df.index == chosen_idx_2][['budget_tmdb', 'month_cos', 'month_sin', 'popularity', 'return', 'return_log', 'revenue', 'runtime', 'vote_average', 'vote_count', 'year']]"
      ]
    },
    {
      "cell_type": "code",
      "execution_count": null,
      "metadata": {
        "colab": {
          "base_uri": "https://localhost:8080/"
        },
        "id": "-HZq61NwjUkT",
        "outputId": "263f132a-0556-4813-816b-a5b35fa3c027"
      },
      "outputs": [
        {
          "name": "stdout",
          "output_type": "stream",
          "text": [
            "\n",
            " chosen_idx: 2152, y_pred: 0.0000, y_true: 1.0000\n"
          ]
        }
      ],
      "source": [
        "y_pred = sc.predict(test_X[test_X.index == chosen_idx_2].values.reshape(1, -1))[0]\n",
        "y_true = test_y[test_y.index == chosen_idx_2].values[0]\n",
        "print(\"\\n chosen_idx: {}, y_pred: {:.4f}, y_true: {:.4f}\".format(chosen_idx_2, y_pred, y_true))"
      ]
    },
    {
      "cell_type": "markdown",
      "metadata": {
        "id": "zmId_RUm531o"
      },
      "source": [
        "<a id='conc'></a>\n",
        "# Conclusion ([to top](#top))"
      ]
    },
    {
      "cell_type": "markdown",
      "metadata": {
        "id": "SBKnWOrC7oIm"
      },
      "source": [
        "1. We used different ways to **encode the text features**. Such as mapping **month** onto a circle since it is a cyclical variable, creating binary variables for different **genres** and **production_countries**, and segmenting  **production_companies**, **writer**, **director**, and **actors** into clusters by **RFM** (Recency - Frequency - Monetary) model.\n",
        "\n",
        "2. We also performed an **oversampling** strategy to address the imbalance of the dataset, and **Min-Max normalization** was used as data preprocessing for the NN-related models.\n",
        "\n",
        "3. We trained different models to solve the movies profitability **regression** and **classification** tasks, such as **decision tree**, **random forest**, **multilayer perceptron**, **gradient boosting**, and **MLP-quasi-SVM**. We also tried to **ensemble** manually different models to achieve the best performances by **bagging** and **stacking** approaches. The **dummy classifier** and an **auto-ml** approach were used as the **baseline** and **benchmark**.\n",
        "\n",
        "4. From the sections of the **experiments**, we can see the **Tree-based** approaches achieved better performance than the **NN-based** models since our dataset is more like a tabular dataset. As we expected, the **ensemble** method always gives us better results than an individual model. For example, the **gradient boosting** model achieved the best performance in the **regression** task, and the **stacking classifier** achieved the top performance in the **classification** task. "
      ]
    },
    {
      "cell_type": "code",
      "execution_count": null,
      "metadata": {
        "colab": {
          "base_uri": "https://localhost:8080/",
          "height": 87
        },
        "id": "H4R_ITuvVwCq",
        "outputId": "b108e457-ce5d-4149-b48c-7c0bac34f053"
      },
      "outputs": [
        {
          "name": "stdout",
          "output_type": "stream",
          "text": [
            "[jovian] Detected Colab notebook...\u001b[0m\n",
            "[jovian] Uploading colab notebook to Jovian...\u001b[0m\n",
            "Committed successfully! https://jovian.ai/lilanpei/post-analysis-models-implementation-and-evaluation\n"
          ]
        },
        {
          "data": {
            "application/vnd.google.colaboratory.intrinsic+json": {
              "type": "string"
            },
            "text/plain": [
              "'https://jovian.ai/lilanpei/post-analysis-models-implementation-and-evaluation'"
            ]
          },
          "execution_count": 130,
          "metadata": {},
          "output_type": "execute_result"
        }
      ],
      "source": [
        "!pip install jovian --upgrade --quiet\n",
        "import jovian\n",
        "# Execute this to save new versions of the notebook\n",
        "jovian.commit(project=\"post-analysis-models-implementation-and-evaluation\")"
      ]
    }
  ],
  "metadata": {
    "colab": {
      "collapsed_sections": [],
      "name": "post-analysis-models-implementation-and-evaluation.ipynb",
      "provenance": [],
      "toc_visible": true
    },
    "kernelspec": {
      "display_name": "Python 3",
      "language": "python",
      "name": "python3"
    },
    "language_info": {
      "codemirror_mode": {
        "name": "ipython",
        "version": 3
      },
      "file_extension": ".py",
      "mimetype": "text/x-python",
      "name": "python",
      "nbconvert_exporter": "python",
      "pygments_lexer": "ipython3",
      "version": "3.7.6"
    }
  },
  "nbformat": 4,
  "nbformat_minor": 0
}